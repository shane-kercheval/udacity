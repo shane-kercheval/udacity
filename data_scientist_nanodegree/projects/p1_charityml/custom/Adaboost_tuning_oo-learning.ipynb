{
 "cells": [
  {
   "cell_type": "code",
   "execution_count": 1,
   "metadata": {},
   "outputs": [],
   "source": [
    "# !pip install oolearning --upgrade"
   ]
  },
  {
   "cell_type": "code",
   "execution_count": 2,
   "metadata": {},
   "outputs": [],
   "source": [
    "import copy\n",
    "import os\n",
    "import oolearning as oo\n",
    "import pandas as pd\n",
    "import numpy as np\n",
    "import matplotlib.pyplot as plt\n",
    "\n",
    "\n",
    "from helpers import column_log, BinaryAucRocScore\n",
    "\n",
    "pd.set_option('display.width', 500)\n",
    "pd.set_option('display.max_colwidth', -1)\n",
    "pd.set_option('display.max_columns', None)\n",
    "pd.set_option('display.max_rows', None)\n",
    "width = 10\n",
    "plt.rcParams['figure.figsize'] = [width, width/1.333]"
   ]
  },
  {
   "cell_type": "code",
   "execution_count": null,
   "metadata": {},
   "outputs": [],
   "source": [
    "csv_file = '../census.csv'\n",
    "target_variable = 'income'\n",
    "\n",
    "explore = oo.ExploreClassificationDataset.from_csv(csv_file_path=csv_file,\n",
    "                                                   target_variable=target_variable)\n",
    "negative_class = '<=50K'\n",
    "positive_class = '>50K'\n",
    "\n",
    "explore.dataset.head(20)"
   ]
  },
  {
   "cell_type": "code",
   "execution_count": null,
   "metadata": {},
   "outputs": [],
   "source": [
    "def create_net_capital(x):\n",
    "    temp = x.copy()\n",
    "    temp['net capital'] = temp['capital-gain'] - temp['capital-loss']\n",
    "    return temp"
   ]
  },
  {
   "cell_type": "code",
   "execution_count": null,
   "metadata": {},
   "outputs": [],
   "source": [
    "global_transformations = [\n",
    "                        # kaggle test file has white space around values\n",
    "                         oo.StatelessColumnTransformer(columns=explore.categoric_features,\n",
    "                                                       custom_function=lambda x: x.str.strip()),\n",
    "                         oo.ImputationTransformer(),\n",
    "                         oo.StatelessColumnTransformer(columns=['capital-gain', 'capital-loss'],\n",
    "                                                       custom_function=column_log),\n",
    "                         oo.StatelessTransformer(custom_function=create_net_capital),\n",
    "                         oo.CenterScaleTransformer(),\n",
    "                         oo.DummyEncodeTransformer(oo.CategoricalEncoding.ONE_HOT)\n",
    "]"
   ]
  },
  {
   "cell_type": "code",
   "execution_count": null,
   "metadata": {},
   "outputs": [],
   "source": [
    "params_dict = dict(\n",
    "    n_estimators=[500, 750, 1000],\n",
    "    max_features=[0.3, 0.6, 0.9],\n",
    "    max_depth=[10, 12, 14],\n",
    ")\n",
    "grid = oo.HyperParamsGrid(params_dict=params_dict)\n",
    "grid.params_grid"
   ]
  },
  {
   "cell_type": "code",
   "execution_count": null,
   "metadata": {},
   "outputs": [],
   "source": [
    "hyper_param_object = oo.AdaBoostClassifierHP(\n",
    "    n_estimators=50,\n",
    "    learning_rate=1.0,\n",
    "    algorithm='SAMME.R',\n",
    "    # Tree-specific hyper-params\n",
    "    criterion='gini',\n",
    "    splitter='best',\n",
    "    max_depth=None,\n",
    "    min_samples_split=2,\n",
    "    min_samples_leaf=1,\n",
    "    min_weight_fraction_leaf=0.,\n",
    "    max_features=None,\n",
    "    max_leaf_nodes=None,\n",
    "    min_impurity_decrease=0.,\n",
    "    class_weight=None,\n",
    ")"
   ]
  },
  {
   "cell_type": "code",
   "execution_count": null,
   "metadata": {},
   "outputs": [],
   "source": [
    "model=oo.AdaBoostClassifier()"
   ]
  },
  {
   "cell_type": "code",
   "execution_count": null,
   "metadata": {},
   "outputs": [],
   "source": [
    "repeats = 5\n",
    "folds = 5"
   ]
  },
  {
   "cell_type": "code",
   "execution_count": null,
   "metadata": {},
   "outputs": [],
   "source": [
    "model_cache_directory = 'tuner_Adaboost'\n",
    "resampler_cache_directory = 'tuner_Adaboost_resample_cache'"
   ]
  },
  {
   "cell_type": "code",
   "execution_count": null,
   "metadata": {},
   "outputs": [],
   "source": [
    "score_list = [oo.AucRocScore(positive_class=positive_class),\n",
    "              oo.FBetaScore(converter=oo.TwoClassThresholdConverter(threshold=0.5,\n",
    "                                                                    positive_class=positive_class),\n",
    "                            beta=0.5),\n",
    "              oo.SensitivityScore(converter=oo.TwoClassThresholdConverter(threshold=0.5,\n",
    "                                                                          positive_class=positive_class)),\n",
    "              oo.PositivePredictiveValueScore(converter=oo.TwoClassThresholdConverter(threshold=0.5,\n",
    "                                                                                      positive_class=positive_class))]"
   ]
  },
  {
   "cell_type": "code",
   "execution_count": null,
   "metadata": {},
   "outputs": [],
   "source": [
    "\n",
    "# define/configure the resampler\n",
    "resampler = oo.RepeatedCrossValidationResampler(model=model,  # using a Random Forest model\n",
    "                                             transformations=global_transformations,\n",
    "                                             scores=[s.clone() for s in score_list],\n",
    "                                             folds=folds,\n",
    "                                             repeats=repeats)\n",
    "# define/configure the ModelTuner\n",
    "tuner = oo.ModelTuner(resampler=resampler,\n",
    "                      hyper_param_object=hyper_param_object,\n",
    "                      model_persistence_manager=oo.LocalCacheManager(cache_directory=model_cache_directory),\n",
    "                      resampler_persistence_manager=oo.LocalCacheManager(cache_directory=resampler_cache_directory),\n",
    "                      parallelization_cores=-1,\n",
    "                      #parallelization_cores=0,\n",
    "                     )"
   ]
  },
  {
   "cell_type": "code",
   "execution_count": null,
   "metadata": {},
   "outputs": [],
   "source": [
    "tuner.tune(data_x=explore.dataset.drop(columns=target_variable),\n",
    "           data_y=explore.dataset[target_variable],\n",
    "           params_grid=grid)"
   ]
  },
  {
   "cell_type": "code",
   "execution_count": null,
   "metadata": {},
   "outputs": [],
   "source": [
    "tuner.results.best_hyper_params"
   ]
  },
  {
   "cell_type": "code",
   "execution_count": null,
   "metadata": {},
   "outputs": [],
   "source": [
    "tuner.results.best_model_resampler_object.score_means"
   ]
  },
  {
   "cell_type": "code",
   "execution_count": null,
   "metadata": {},
   "outputs": [],
   "source": [
    "tuner.results.plot_resampled_stats()"
   ]
  },
  {
   "cell_type": "code",
   "execution_count": null,
   "metadata": {},
   "outputs": [],
   "source": [
    "tuner.results.plot_resampled_scores(metric=oo.Metric.AUC_ROC,\n",
    "                                    x_axis_limits=(0.86, 0.89),\n",
    "                                    show_one_ste_rule=True\n",
    "                                   )"
   ]
  },
  {
   "cell_type": "code",
   "execution_count": null,
   "metadata": {},
   "outputs": [],
   "source": [
    "tuner.results.plot_resampled_scores(oo.Metric.FBETA_SCORE,\n",
    "                                    x_axis_limits=(0.64, 0.67),\n",
    "                                    show_one_ste_rule=True\n",
    "                                   )"
   ]
  },
  {
   "cell_type": "code",
   "execution_count": null,
   "metadata": {},
   "outputs": [],
   "source": [
    "params_dict"
   ]
  },
  {
   "cell_type": "code",
   "execution_count": null,
   "metadata": {},
   "outputs": [],
   "source": [
    "tuner.results.plot_hyper_params_profile(metric=oo.Metric.AUC_ROC,\n",
    "                                        x_axis='reg_alpha',\n",
    "                                        line='reg_lambda',)"
   ]
  },
  {
   "cell_type": "code",
   "execution_count": null,
   "metadata": {},
   "outputs": [],
   "source": [
    "tuner.results.plot_hyper_params_profile(metric=oo.Metric.AUC_ROC,\n",
    "                                        x_axis='al',\n",
    "                                        line='min_child_weight',\n",
    "                                        grid='n_estimators')"
   ]
  },
  {
   "cell_type": "code",
   "execution_count": null,
   "metadata": {},
   "outputs": [],
   "source": [
    "tuner.results.plot_hyper_params_profile(metric=oo.Metric.AUC_ROC,\n",
    "                                        x_axis='max_depth',\n",
    "                                        line='min_child_weight',\n",
    "                                        grid='subsample')"
   ]
  },
  {
   "cell_type": "code",
   "execution_count": null,
   "metadata": {},
   "outputs": [],
   "source": [
    "assert False"
   ]
  },
  {
   "cell_type": "markdown",
   "metadata": {},
   "source": [
    "# Resample Ideal Threshold"
   ]
  },
  {
   "cell_type": "code",
   "execution_count": null,
   "metadata": {},
   "outputs": [],
   "source": [
    "final_hyper_param_object = oo.XGBoostTreeHP(\n",
    "                                    objective=oo.XGBObjective.BINARY_LOGISTIC,\n",
    "                                    learning_rate=0.05,\n",
    "                                    n_estimators=2000,\n",
    "                                    max_depth=3,\n",
    "                                    min_child_weight=2,\n",
    "                                    gamma=0.1,\n",
    "                                    subsample=0.95,\n",
    "                                    colsample_bytree=0.15,\n",
    "                                    reg_alpha=0.01,\n",
    "                                    reg_lambda=2,\n",
    "                                    scale_pos_weight=scale_pos_weight_calc,)\n",
    "\n",
    "final_model = oo.XGBoostClassifier()\n",
    "final_transformations = [\n",
    "                         # kaggle test file has white space around values\n",
    "                         oo.StatelessColumnTransformer(columns=explore.categoric_features,\n",
    "                                                       custom_function=lambda x: x.str.strip()),\n",
    "                         oo.ImputationTransformer(),\n",
    "                         oo.StatelessColumnTransformer(columns=['capital-gain', 'capital-loss'],\n",
    "                                                       custom_function=column_log),\n",
    "                         oo.StatelessTransformer(custom_function=create_net_capital),\n",
    "                         oo.CenterScaleTransformer(),\n",
    "                         oo.DummyEncodeTransformer(oo.CategoricalEncoding.ONE_HOT)\n",
    "]"
   ]
  },
  {
   "cell_type": "code",
   "execution_count": null,
   "metadata": {},
   "outputs": [],
   "source": [
    "decorator = oo.TwoClassThresholdDecorator(parallelization_cores=0)\n",
    "resampler = oo.RepeatedCrossValidationResampler(\n",
    "    model=final_model.clone(),\n",
    "    transformations=[t.clone() for t in final_transformations],\n",
    "    scores=[s.clone() for s in score_list],\n",
    "    folds=5,\n",
    "    repeats=2,\n",
    "    fold_decorators=[decorator])\n",
    "resampler.resample(data_x=explore.dataset.drop(columns=target_variable),\n",
    "                   data_y=explore.dataset[target_variable],\n",
    "                   hyper_params=final_hyper_param_object.clone())"
   ]
  },
  {
   "cell_type": "code",
   "execution_count": null,
   "metadata": {},
   "outputs": [],
   "source": [
    "resampler.results.plot_resampled_scores()"
   ]
  },
  {
   "cell_type": "code",
   "execution_count": null,
   "metadata": {},
   "outputs": [],
   "source": [
    "decorator.roc_ideal_thresholds"
   ]
  },
  {
   "cell_type": "code",
   "execution_count": null,
   "metadata": {},
   "outputs": [],
   "source": [
    "np.mean(decorator.roc_ideal_thresholds)"
   ]
  },
  {
   "cell_type": "code",
   "execution_count": null,
   "metadata": {},
   "outputs": [],
   "source": [
    "np.median(decorator.roc_ideal_thresholds)"
   ]
  },
  {
   "cell_type": "code",
   "execution_count": null,
   "metadata": {},
   "outputs": [],
   "source": [
    "ideal_threshold = np.mean(decorator.roc_ideal_thresholds)\n",
    "ideal_threshold"
   ]
  },
  {
   "cell_type": "code",
   "execution_count": null,
   "metadata": {},
   "outputs": [],
   "source": [
    "# use the ideal threshold for the evaluator in order to view ROC\n",
    "evaluator = oo.TwoClassProbabilityEvaluator(converter=\n",
    "                    oo.TwoClassThresholdConverter(threshold=ideal_threshold,  # ideal threshold\n",
    "                                                  positive_class=positive_class))\n",
    "\n",
    "trainer = oo.ModelTrainer(model=final_model.clone(),\n",
    "                          model_transformations=[t.clone() for t in final_transformations],\n",
    "                          splitter=None,  # don't split, train on all data\n",
    "                          evaluator=evaluator,\n",
    "                          scores=[s.clone() for s in score_list])\n",
    "trainer.train(data=explore.dataset, target_variable=target_variable, hyper_params=final_hyper_param_object.clone())\n",
    "\n",
    "trainer.training_evaluator.all_quality_metrics"
   ]
  },
  {
   "cell_type": "code",
   "execution_count": null,
   "metadata": {},
   "outputs": [],
   "source": [
    "trainer.training_scores[0].value"
   ]
  },
  {
   "cell_type": "code",
   "execution_count": null,
   "metadata": {},
   "outputs": [],
   "source": [
    "trainer.training_evaluator.plot_roc_curve()"
   ]
  },
  {
   "cell_type": "code",
   "execution_count": null,
   "metadata": {},
   "outputs": [],
   "source": [
    "csv_file = '../test_census.csv'\n",
    "test_dataset = pd.read_csv(csv_file)\n",
    "test_dataset.shape"
   ]
  },
  {
   "cell_type": "code",
   "execution_count": null,
   "metadata": {},
   "outputs": [],
   "source": [
    "test_dataset.head(100)"
   ]
  },
  {
   "cell_type": "code",
   "execution_count": null,
   "metadata": {},
   "outputs": [],
   "source": [
    "indexes = test_dataset['Unnamed: 0']\n",
    "\n",
    "predictions = trainer.predict(test_dataset.drop(columns='Unnamed: 0'))\n",
    "test_converter = oo.TwoClassThresholdConverter(threshold=ideal_threshold,  # ideal thresholds\n",
    "                                               positive_class=positive_class)\n",
    "predictions.head()"
   ]
  },
  {
   "cell_type": "code",
   "execution_count": null,
   "metadata": {},
   "outputs": [],
   "source": [
    "class_predictions = test_converter.convert(predictions)\n",
    "class_predictions[0:5]"
   ]
  },
  {
   "cell_type": "code",
   "execution_count": null,
   "metadata": {
    "scrolled": true
   },
   "outputs": [],
   "source": [
    "# previous_predictions = pd.read_csv('submission_5_xgb.csv')\n",
    "# previous_predictions.head(10)"
   ]
  },
  {
   "cell_type": "code",
   "execution_count": null,
   "metadata": {},
   "outputs": [],
   "source": [
    "income_value = predictions['>50K']#[0 if x == '<=50K' else 1 for x in class_predictions]\n",
    "new_predictions = pd.DataFrame({'id': indexes, 'income': income_value})\n",
    "new_predictions.to_csv('submission_7_xgb.csv', index=False)"
   ]
  },
  {
   "cell_type": "code",
   "execution_count": null,
   "metadata": {},
   "outputs": [],
   "source": [
    "# # e.g. lower threshold will change 0's to 1's so new - previous will give number predictions that changed to 1\n",
    "# difference = new_predictions.income - previous_predictions.income\n",
    "# difference.sum() / len(difference)"
   ]
  },
  {
   "cell_type": "markdown",
   "metadata": {},
   "source": [
    "# Results"
   ]
  },
  {
   "cell_type": "markdown",
   "metadata": {},
   "source": [
    "## 1)"
   ]
  },
  {
   "cell_type": "markdown",
   "metadata": {},
   "source": [
    "## 2)"
   ]
  },
  {
   "cell_type": "markdown",
   "metadata": {},
   "source": [
    "## 3)"
   ]
  }
 ],
 "metadata": {
  "kernelspec": {
   "display_name": "Python [default]",
   "language": "python",
   "name": "python3"
  },
  "language_info": {
   "codemirror_mode": {
    "name": "ipython",
    "version": 3
   },
   "file_extension": ".py",
   "mimetype": "text/x-python",
   "name": "python",
   "nbconvert_exporter": "python",
   "pygments_lexer": "ipython3",
   "version": "3.6.5"
  }
 },
 "nbformat": 4,
 "nbformat_minor": 2
}
