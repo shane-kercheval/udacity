{
 "cells": [
  {
   "cell_type": "code",
   "execution_count": 1,
   "metadata": {},
   "outputs": [],
   "source": [
    "# !pip install oolearning --upgrade"
   ]
  },
  {
   "cell_type": "code",
   "execution_count": 35,
   "metadata": {},
   "outputs": [],
   "source": [
    "import math\n",
    "import os\n",
    "import time\n",
    "import numpy as np\n",
    "import pandas as pd\n",
    "import matplotlib.pyplot as plt\n",
    "\n",
    "from sklearn.ensemble import AdaBoostClassifier, ExtraTreesClassifier, RandomForestClassifier\n",
    "from sklearn.linear_model import LogisticRegression\n",
    "from sklearn.metrics import make_scorer, roc_auc_score\n",
    "from sklearn.model_selection import GridSearchCV\n",
    "from sklearn.model_selection import RepeatedKFold\n",
    "from sklearn.pipeline import Pipeline, FeatureUnion\n",
    "from sklearn.preprocessing import StandardScaler, Imputer, MinMaxScaler\n",
    "from sklearn.decomposition import PCA\n",
    "from xgboost import XGBClassifier\n",
    "\n",
    "import oolearning as oo\n",
    "from helpers import DataFrameSelector, CustomLogTransform, ChooserTransform, CombineAgeHoursTransform, CombineCapitalGainLossTransform\n",
    "\n",
    "pd.set_option('display.width', 500)\n",
    "pd.set_option('display.max_colwidth', -1)\n",
    "pd.set_option('display.max_columns', None)\n",
    "pd.set_option('display.max_rows', None)\n",
    "width = 10\n",
    "plt.rcParams['figure.figsize'] = [width, width/1.333]"
   ]
  },
  {
   "cell_type": "code",
   "execution_count": 3,
   "metadata": {},
   "outputs": [
    {
     "data": {
      "text/html": [
       "<div>\n",
       "<style scoped>\n",
       "    .dataframe tbody tr th:only-of-type {\n",
       "        vertical-align: middle;\n",
       "    }\n",
       "\n",
       "    .dataframe tbody tr th {\n",
       "        vertical-align: top;\n",
       "    }\n",
       "\n",
       "    .dataframe thead th {\n",
       "        text-align: right;\n",
       "    }\n",
       "</style>\n",
       "<table border=\"1\" class=\"dataframe\">\n",
       "  <thead>\n",
       "    <tr style=\"text-align: right;\">\n",
       "      <th></th>\n",
       "      <th>age</th>\n",
       "      <th>workclass</th>\n",
       "      <th>education_level</th>\n",
       "      <th>education-num</th>\n",
       "      <th>marital-status</th>\n",
       "      <th>occupation</th>\n",
       "      <th>relationship</th>\n",
       "      <th>race</th>\n",
       "      <th>sex</th>\n",
       "      <th>capital-gain</th>\n",
       "      <th>capital-loss</th>\n",
       "      <th>hours-per-week</th>\n",
       "      <th>native-country</th>\n",
       "      <th>income</th>\n",
       "    </tr>\n",
       "  </thead>\n",
       "  <tbody>\n",
       "    <tr>\n",
       "      <th>0</th>\n",
       "      <td>39</td>\n",
       "      <td>State-gov</td>\n",
       "      <td>Bachelors</td>\n",
       "      <td>13.0</td>\n",
       "      <td>Never-married</td>\n",
       "      <td>Adm-clerical</td>\n",
       "      <td>Not-in-family</td>\n",
       "      <td>White</td>\n",
       "      <td>Male</td>\n",
       "      <td>2174.0</td>\n",
       "      <td>0.0</td>\n",
       "      <td>40.0</td>\n",
       "      <td>United-States</td>\n",
       "      <td>&lt;=50K</td>\n",
       "    </tr>\n",
       "    <tr>\n",
       "      <th>1</th>\n",
       "      <td>50</td>\n",
       "      <td>Self-emp-not-inc</td>\n",
       "      <td>Bachelors</td>\n",
       "      <td>13.0</td>\n",
       "      <td>Married-civ-spouse</td>\n",
       "      <td>Exec-managerial</td>\n",
       "      <td>Husband</td>\n",
       "      <td>White</td>\n",
       "      <td>Male</td>\n",
       "      <td>0.0</td>\n",
       "      <td>0.0</td>\n",
       "      <td>13.0</td>\n",
       "      <td>United-States</td>\n",
       "      <td>&lt;=50K</td>\n",
       "    </tr>\n",
       "    <tr>\n",
       "      <th>2</th>\n",
       "      <td>38</td>\n",
       "      <td>Private</td>\n",
       "      <td>HS-grad</td>\n",
       "      <td>9.0</td>\n",
       "      <td>Divorced</td>\n",
       "      <td>Handlers-cleaners</td>\n",
       "      <td>Not-in-family</td>\n",
       "      <td>White</td>\n",
       "      <td>Male</td>\n",
       "      <td>0.0</td>\n",
       "      <td>0.0</td>\n",
       "      <td>40.0</td>\n",
       "      <td>United-States</td>\n",
       "      <td>&lt;=50K</td>\n",
       "    </tr>\n",
       "    <tr>\n",
       "      <th>3</th>\n",
       "      <td>53</td>\n",
       "      <td>Private</td>\n",
       "      <td>11th</td>\n",
       "      <td>7.0</td>\n",
       "      <td>Married-civ-spouse</td>\n",
       "      <td>Handlers-cleaners</td>\n",
       "      <td>Husband</td>\n",
       "      <td>Black</td>\n",
       "      <td>Male</td>\n",
       "      <td>0.0</td>\n",
       "      <td>0.0</td>\n",
       "      <td>40.0</td>\n",
       "      <td>United-States</td>\n",
       "      <td>&lt;=50K</td>\n",
       "    </tr>\n",
       "    <tr>\n",
       "      <th>4</th>\n",
       "      <td>28</td>\n",
       "      <td>Private</td>\n",
       "      <td>Bachelors</td>\n",
       "      <td>13.0</td>\n",
       "      <td>Married-civ-spouse</td>\n",
       "      <td>Prof-specialty</td>\n",
       "      <td>Wife</td>\n",
       "      <td>Black</td>\n",
       "      <td>Female</td>\n",
       "      <td>0.0</td>\n",
       "      <td>0.0</td>\n",
       "      <td>40.0</td>\n",
       "      <td>Cuba</td>\n",
       "      <td>&lt;=50K</td>\n",
       "    </tr>\n",
       "  </tbody>\n",
       "</table>\n",
       "</div>"
      ],
      "text/plain": [
       "   age         workclass education_level  education-num      marital-status  \\\n",
       "0   39         State-gov       Bachelors           13.0       Never-married   \n",
       "1   50  Self-emp-not-inc       Bachelors           13.0  Married-civ-spouse   \n",
       "2   38           Private         HS-grad            9.0            Divorced   \n",
       "3   53           Private            11th            7.0  Married-civ-spouse   \n",
       "4   28           Private       Bachelors           13.0  Married-civ-spouse   \n",
       "\n",
       "          occupation   relationship   race     sex  capital-gain  \\\n",
       "0       Adm-clerical  Not-in-family  White    Male        2174.0   \n",
       "1    Exec-managerial        Husband  White    Male           0.0   \n",
       "2  Handlers-cleaners  Not-in-family  White    Male           0.0   \n",
       "3  Handlers-cleaners        Husband  Black    Male           0.0   \n",
       "4     Prof-specialty           Wife  Black  Female           0.0   \n",
       "\n",
       "   capital-loss  hours-per-week native-country income  \n",
       "0           0.0            40.0  United-States  <=50K  \n",
       "1           0.0            13.0  United-States  <=50K  \n",
       "2           0.0            40.0  United-States  <=50K  \n",
       "3           0.0            40.0  United-States  <=50K  \n",
       "4           0.0            40.0           Cuba  <=50K  "
      ]
     },
     "execution_count": 3,
     "metadata": {},
     "output_type": "execute_result"
    }
   ],
   "source": [
    "working_directory = os.path.join(os.getcwd(), '../')\n",
    "csv_file = os.path.join(working_directory, 'census.csv')\n",
    "target_variable = 'income'\n",
    "positive_class = '>50K'\n",
    "negative_class = '<=50K'\n",
    "\n",
    "#target_mapping = {0: 'died', 1: 'lived'}  # so we can convert from numeric to categoric\n",
    "\n",
    "explore = oo.ExploreClassificationDataset.from_csv(csv_file_path=csv_file,\n",
    "                                                   target_variable=target_variable)\n",
    " #                                                  map_numeric_target=target_mapping)\n",
    "\n",
    "# look at data\n",
    "explore.dataset.head()"
   ]
  },
  {
   "cell_type": "code",
   "execution_count": 4,
   "metadata": {},
   "outputs": [
    {
     "data": {
      "text/html": [
       "<div>\n",
       "<style scoped>\n",
       "    .dataframe tbody tr th:only-of-type {\n",
       "        vertical-align: middle;\n",
       "    }\n",
       "\n",
       "    .dataframe tbody tr th {\n",
       "        vertical-align: top;\n",
       "    }\n",
       "\n",
       "    .dataframe thead th {\n",
       "        text-align: right;\n",
       "    }\n",
       "</style>\n",
       "<table border=\"1\" class=\"dataframe\">\n",
       "  <thead>\n",
       "    <tr style=\"text-align: right;\">\n",
       "      <th></th>\n",
       "      <th>count</th>\n",
       "      <th>nulls</th>\n",
       "      <th>perc_nulls</th>\n",
       "      <th>num_zeros</th>\n",
       "      <th>perc_zeros</th>\n",
       "      <th>mean</th>\n",
       "      <th>st_dev</th>\n",
       "      <th>coef of var</th>\n",
       "      <th>skewness</th>\n",
       "      <th>kurtosis</th>\n",
       "      <th>min</th>\n",
       "      <th>10%</th>\n",
       "      <th>25%</th>\n",
       "      <th>50%</th>\n",
       "      <th>75%</th>\n",
       "      <th>90%</th>\n",
       "      <th>max</th>\n",
       "    </tr>\n",
       "  </thead>\n",
       "  <tbody>\n",
       "    <tr>\n",
       "      <th>age</th>\n",
       "      <td>45222</td>\n",
       "      <td>0</td>\n",
       "      <td>0.0</td>\n",
       "      <td>0</td>\n",
       "      <td>0.000</td>\n",
       "      <td>38.548</td>\n",
       "      <td>13.218</td>\n",
       "      <td>0.343</td>\n",
       "      <td>0.533</td>\n",
       "      <td>-0.156</td>\n",
       "      <td>17.0</td>\n",
       "      <td>22.0</td>\n",
       "      <td>28.0</td>\n",
       "      <td>37.0</td>\n",
       "      <td>47.0</td>\n",
       "      <td>57.0</td>\n",
       "      <td>90.0</td>\n",
       "    </tr>\n",
       "    <tr>\n",
       "      <th>education-num</th>\n",
       "      <td>45222</td>\n",
       "      <td>0</td>\n",
       "      <td>0.0</td>\n",
       "      <td>0</td>\n",
       "      <td>0.000</td>\n",
       "      <td>10.118</td>\n",
       "      <td>2.553</td>\n",
       "      <td>0.252</td>\n",
       "      <td>-0.311</td>\n",
       "      <td>0.635</td>\n",
       "      <td>1.0</td>\n",
       "      <td>7.0</td>\n",
       "      <td>9.0</td>\n",
       "      <td>10.0</td>\n",
       "      <td>13.0</td>\n",
       "      <td>13.0</td>\n",
       "      <td>16.0</td>\n",
       "    </tr>\n",
       "    <tr>\n",
       "      <th>capital-gain</th>\n",
       "      <td>45222</td>\n",
       "      <td>0</td>\n",
       "      <td>0.0</td>\n",
       "      <td>41432</td>\n",
       "      <td>0.916</td>\n",
       "      <td>1101.430</td>\n",
       "      <td>7506.430</td>\n",
       "      <td>6.815</td>\n",
       "      <td>11.789</td>\n",
       "      <td>150.151</td>\n",
       "      <td>0.0</td>\n",
       "      <td>0.0</td>\n",
       "      <td>0.0</td>\n",
       "      <td>0.0</td>\n",
       "      <td>0.0</td>\n",
       "      <td>0.0</td>\n",
       "      <td>99999.0</td>\n",
       "    </tr>\n",
       "    <tr>\n",
       "      <th>capital-loss</th>\n",
       "      <td>45222</td>\n",
       "      <td>0</td>\n",
       "      <td>0.0</td>\n",
       "      <td>43082</td>\n",
       "      <td>0.953</td>\n",
       "      <td>88.595</td>\n",
       "      <td>404.956</td>\n",
       "      <td>4.571</td>\n",
       "      <td>4.516</td>\n",
       "      <td>19.364</td>\n",
       "      <td>0.0</td>\n",
       "      <td>0.0</td>\n",
       "      <td>0.0</td>\n",
       "      <td>0.0</td>\n",
       "      <td>0.0</td>\n",
       "      <td>0.0</td>\n",
       "      <td>4356.0</td>\n",
       "    </tr>\n",
       "    <tr>\n",
       "      <th>hours-per-week</th>\n",
       "      <td>45222</td>\n",
       "      <td>0</td>\n",
       "      <td>0.0</td>\n",
       "      <td>0</td>\n",
       "      <td>0.000</td>\n",
       "      <td>40.938</td>\n",
       "      <td>12.008</td>\n",
       "      <td>0.293</td>\n",
       "      <td>0.341</td>\n",
       "      <td>3.201</td>\n",
       "      <td>1.0</td>\n",
       "      <td>25.0</td>\n",
       "      <td>40.0</td>\n",
       "      <td>40.0</td>\n",
       "      <td>45.0</td>\n",
       "      <td>55.0</td>\n",
       "      <td>99.0</td>\n",
       "    </tr>\n",
       "  </tbody>\n",
       "</table>\n",
       "</div>"
      ],
      "text/plain": [
       "                count  nulls  perc_nulls  num_zeros  perc_zeros      mean  \\\n",
       "age             45222      0         0.0          0       0.000    38.548   \n",
       "education-num   45222      0         0.0          0       0.000    10.118   \n",
       "capital-gain    45222      0         0.0      41432       0.916  1101.430   \n",
       "capital-loss    45222      0         0.0      43082       0.953    88.595   \n",
       "hours-per-week  45222      0         0.0          0       0.000    40.938   \n",
       "\n",
       "                  st_dev  coef of var  skewness  kurtosis   min   10%   25%  \\\n",
       "age               13.218        0.343     0.533    -0.156  17.0  22.0  28.0   \n",
       "education-num      2.553        0.252    -0.311     0.635   1.0   7.0   9.0   \n",
       "capital-gain    7506.430        6.815    11.789   150.151   0.0   0.0   0.0   \n",
       "capital-loss     404.956        4.571     4.516    19.364   0.0   0.0   0.0   \n",
       "hours-per-week    12.008        0.293     0.341     3.201   1.0  25.0  40.0   \n",
       "\n",
       "                 50%   75%   90%      max  \n",
       "age             37.0  47.0  57.0     90.0  \n",
       "education-num   10.0  13.0  13.0     16.0  \n",
       "capital-gain     0.0   0.0   0.0  99999.0  \n",
       "capital-loss     0.0   0.0   0.0   4356.0  \n",
       "hours-per-week  40.0  45.0  55.0     99.0  "
      ]
     },
     "execution_count": 4,
     "metadata": {},
     "output_type": "execute_result"
    }
   ],
   "source": [
    "explore.numeric_summary()"
   ]
  },
  {
   "cell_type": "code",
   "execution_count": 5,
   "metadata": {},
   "outputs": [
    {
     "data": {
      "text/html": [
       "<div>\n",
       "<style scoped>\n",
       "    .dataframe tbody tr th:only-of-type {\n",
       "        vertical-align: middle;\n",
       "    }\n",
       "\n",
       "    .dataframe tbody tr th {\n",
       "        vertical-align: top;\n",
       "    }\n",
       "\n",
       "    .dataframe thead th {\n",
       "        text-align: right;\n",
       "    }\n",
       "</style>\n",
       "<table border=\"1\" class=\"dataframe\">\n",
       "  <thead>\n",
       "    <tr style=\"text-align: right;\">\n",
       "      <th></th>\n",
       "      <th>count</th>\n",
       "      <th>nulls</th>\n",
       "      <th>perc_nulls</th>\n",
       "      <th>top</th>\n",
       "      <th>unique</th>\n",
       "      <th>perc_unique</th>\n",
       "    </tr>\n",
       "  </thead>\n",
       "  <tbody>\n",
       "    <tr>\n",
       "      <th>workclass</th>\n",
       "      <td>45222</td>\n",
       "      <td>0</td>\n",
       "      <td>0.0</td>\n",
       "      <td>Private</td>\n",
       "      <td>7</td>\n",
       "      <td>0.000</td>\n",
       "    </tr>\n",
       "    <tr>\n",
       "      <th>education_level</th>\n",
       "      <td>45222</td>\n",
       "      <td>0</td>\n",
       "      <td>0.0</td>\n",
       "      <td>HS-grad</td>\n",
       "      <td>16</td>\n",
       "      <td>0.000</td>\n",
       "    </tr>\n",
       "    <tr>\n",
       "      <th>marital-status</th>\n",
       "      <td>45222</td>\n",
       "      <td>0</td>\n",
       "      <td>0.0</td>\n",
       "      <td>Married-civ-spouse</td>\n",
       "      <td>7</td>\n",
       "      <td>0.000</td>\n",
       "    </tr>\n",
       "    <tr>\n",
       "      <th>occupation</th>\n",
       "      <td>45222</td>\n",
       "      <td>0</td>\n",
       "      <td>0.0</td>\n",
       "      <td>Craft-repair</td>\n",
       "      <td>14</td>\n",
       "      <td>0.000</td>\n",
       "    </tr>\n",
       "    <tr>\n",
       "      <th>relationship</th>\n",
       "      <td>45222</td>\n",
       "      <td>0</td>\n",
       "      <td>0.0</td>\n",
       "      <td>Husband</td>\n",
       "      <td>6</td>\n",
       "      <td>0.000</td>\n",
       "    </tr>\n",
       "    <tr>\n",
       "      <th>race</th>\n",
       "      <td>45222</td>\n",
       "      <td>0</td>\n",
       "      <td>0.0</td>\n",
       "      <td>White</td>\n",
       "      <td>5</td>\n",
       "      <td>0.000</td>\n",
       "    </tr>\n",
       "    <tr>\n",
       "      <th>sex</th>\n",
       "      <td>45222</td>\n",
       "      <td>0</td>\n",
       "      <td>0.0</td>\n",
       "      <td>Male</td>\n",
       "      <td>2</td>\n",
       "      <td>0.000</td>\n",
       "    </tr>\n",
       "    <tr>\n",
       "      <th>native-country</th>\n",
       "      <td>45222</td>\n",
       "      <td>0</td>\n",
       "      <td>0.0</td>\n",
       "      <td>United-States</td>\n",
       "      <td>41</td>\n",
       "      <td>0.001</td>\n",
       "    </tr>\n",
       "    <tr>\n",
       "      <th>income</th>\n",
       "      <td>45222</td>\n",
       "      <td>0</td>\n",
       "      <td>0.0</td>\n",
       "      <td>&lt;=50K</td>\n",
       "      <td>2</td>\n",
       "      <td>0.000</td>\n",
       "    </tr>\n",
       "  </tbody>\n",
       "</table>\n",
       "</div>"
      ],
      "text/plain": [
       "                 count  nulls  perc_nulls                 top  unique  \\\n",
       "workclass        45222      0         0.0             Private       7   \n",
       "education_level  45222      0         0.0             HS-grad      16   \n",
       "marital-status   45222      0         0.0  Married-civ-spouse       7   \n",
       "occupation       45222      0         0.0        Craft-repair      14   \n",
       "relationship     45222      0         0.0             Husband       6   \n",
       "race             45222      0         0.0               White       5   \n",
       "sex              45222      0         0.0                Male       2   \n",
       "native-country   45222      0         0.0       United-States      41   \n",
       "income           45222      0         0.0               <=50K       2   \n",
       "\n",
       "                 perc_unique  \n",
       "workclass              0.000  \n",
       "education_level        0.000  \n",
       "marital-status         0.000  \n",
       "occupation             0.000  \n",
       "relationship           0.000  \n",
       "race                   0.000  \n",
       "sex                    0.000  \n",
       "native-country         0.001  \n",
       "income                 0.000  "
      ]
     },
     "execution_count": 5,
     "metadata": {},
     "output_type": "execute_result"
    }
   ],
   "source": [
    "explore.categoric_summary()"
   ]
  },
  {
   "cell_type": "code",
   "execution_count": 6,
   "metadata": {},
   "outputs": [
    {
     "data": {
      "image/png": "[encoded data removed]",
      "text/plain": [
       "<Figure size 720x576 with 2 Axes>"
      ]
     },
     "metadata": {},
     "output_type": "display_data"
    }
   ],
   "source": [
    "explore.plot_correlation_heatmap()"
   ]
  },
  {
   "cell_type": "code",
   "execution_count": 7,
   "metadata": {},
   "outputs": [],
   "source": [
    "# NOTE: since I will be cross-validating transformations e.g. GridSearchCV, it typically won't work to\n",
    "# one-hot-encode during cross-validation because the holdout fold will tend to have categoric values that\n",
    "# weren't found in the training folds, and therefore will break during transformation because it will encode\n",
    "# a value (i.e. add a column) that didn't exist in the training folds.\n",
    "# So, for this, we need to fit ALL data. Then, below if we have new data e.g. Kaggle, we have to apply\n",
    "# the same pipeline (i.e.  cat_encoding_pipeline.transform()\n",
    "# TODO: this breaks though if there are any categorical features with missing values in the final test/Kaggle set\n",
    "one_hot_transformer = oo.DummyEncodeTransformer(encoding=oo.CategoricalEncoding.ONE_HOT)\n",
    "transformed_data = one_hot_transformer.fit_transform(explore.dataset.drop(columns=target_variable))\n",
    "transformed_data[target_variable] = explore.dataset[target_variable]"
   ]
  },
  {
   "cell_type": "markdown",
   "metadata": {},
   "source": [
    "# Transformations & Transformation Tuning Parameters\n",
    "\n",
    "define the transformations we want to do, some transformations will have parameters (e.g. base of log tranform (or no transform), type of scaling, whether or not to add column combinations (e.g. age * hours-per-week)"
   ]
  },
  {
   "cell_type": "markdown",
   "metadata": {},
   "source": [
    "Below is the pipeline for captail-gain/lost. \n",
    "\n",
    "We want to tune whether or not we should log transform. We need to do this after imputing but before scaling, so it needs to be it's own pipeline."
   ]
  },
  {
   "cell_type": "code",
   "execution_count": 8,
   "metadata": {},
   "outputs": [],
   "source": [
    "cap_gain_loss_pipeline = Pipeline([\n",
    "        ('selector', DataFrameSelector(attribute_names=['capital-gain', 'capital-loss'])),\n",
    "        ('imputer', Imputer()),\n",
    "        # tune Log trasformation base (or no transformation); update: tuned - chose base e\n",
    "        ('custom_transform', CustomLogTransform(base=math.e)),\n",
    "        # tune \"net gain\" (have to do it after log transform; log of <=0 doesn't exist)\n",
    "        ('custom_cap_gain_minus_loss', CombineCapitalGainLossTransform(combine=True)),\n",
    "        # tune MinMax vs StandardScaler; we chose MinMax; update: tuned - chose MinMax\n",
    "        ('custom_scaler', ChooserTransform(base_transformer=MinMaxScaler())),\n",
    "    ])"
   ]
  },
  {
   "cell_type": "markdown",
   "metadata": {},
   "source": [
    "Below is the pipeline for the rest of numeric features:"
   ]
  },
  {
   "cell_type": "code",
   "execution_count": 9,
   "metadata": {},
   "outputs": [],
   "source": [
    "num_pipeline = Pipeline([\n",
    "        ('selector', DataFrameSelector(attribute_names=['age', 'education-num', 'hours-per-week'])),\n",
    "        ('imputer', Imputer()),\n",
    "        # tune age * hours-per-week; update: tuned -chose not to include\n",
    "        #('combine_agehours', CombineAgeHoursTransform()),\n",
    "        # tune MinMax vs StandardScaler; update: tuned - chose MinMax\n",
    "        ('custom_scaler', ChooserTransform(base_transformer=MinMaxScaler())),\n",
    "    ])"
   ]
  },
  {
   "cell_type": "markdown",
   "metadata": {},
   "source": [
    "Pipeline that simply gets the categorical/encoded columns from the previous transformation (which used `oo-learning`)"
   ]
  },
  {
   "cell_type": "code",
   "execution_count": 10,
   "metadata": {},
   "outputs": [],
   "source": [
    "append_categoricals = Pipeline([\n",
    "        ('append_cats', DataFrameSelector(attribute_names=one_hot_transformer.encoded_columns))  # already encoded\n",
    "    ])"
   ]
  },
  {
   "cell_type": "markdown",
   "metadata": {},
   "source": [
    "Below is the pipeline for combining all of the other pipelines"
   ]
  },
  {
   "cell_type": "code",
   "execution_count": 11,
   "metadata": {},
   "outputs": [],
   "source": [
    "# combine pipelines\n",
    "transformations_pipeline = FeatureUnion(transformer_list=[\n",
    "        (\"cap_gain_loss_pipeline\", cap_gain_loss_pipeline),\n",
    "        (\"num_pipeline\", num_pipeline),\n",
    "        (\"cat_pipeline\", append_categoricals),\n",
    "    ])"
   ]
  },
  {
   "cell_type": "markdown",
   "metadata": {},
   "source": [
    "Choose the transformations to tune, below:"
   ]
  },
  {
   "cell_type": "code",
   "execution_count": 12,
   "metadata": {},
   "outputs": [],
   "source": [
    "model = RandomForestClassifier(\n",
    "                      random_state=42,        \n",
    "                      #oob_score=True,\n",
    "                      #criterion=\"gini\",\n",
    "#                       max_features=\"auto\",\n",
    "#                       n_estimators=10,                  \n",
    "#                       max_depth=None,\n",
    "#                       min_samples_split=2,\n",
    "#                       min_samples_leaf=1,\n",
    "#                       min_weight_fraction_leaf=0.,\n",
    "#                       max_leaf_nodes=None,\n",
    "#                       min_impurity_decrease=0.,\n",
    "#                       min_impurity_split=None,\n",
    "                      \n",
    "    \n",
    "                     )"
   ]
  },
  {
   "cell_type": "code",
   "execution_count": 13,
   "metadata": {},
   "outputs": [],
   "source": [
    "full_pipeline = Pipeline([\n",
    "    ('preparation', transformations_pipeline),\n",
    "    #('pca_chooser', ChooserTransform()),  # PCA option lost; didn't include\n",
    "    #('feature_selection', TopFeatureSelector(feature_importances, k)),\n",
    "    ('model', model)\n",
    "])"
   ]
  },
  {
   "cell_type": "markdown",
   "metadata": {},
   "source": [
    "Tuning strategy according to https://www.analyticsvidhya.com/blog/2016/03/complete-guide-parameter-tuning-xgboost-with-codes-python/"
   ]
  },
  {
   "cell_type": "code",
   "execution_count": 14,
   "metadata": {},
   "outputs": [],
   "source": [
    "from scipy.stats import randint, uniform, expon\n",
    "model_param_dict = {\n",
    "    # 1st\n",
    "        'model__max_features': uniform(.2, .8),  # If float, then `max_features` is a percentage\n",
    "        'model__n_estimators': randint(50, 1500),\n",
    "        'model__max_depth': randint(3, 51),\n",
    "    # 2nd\n",
    "        # 'model__gamma': uniform(0, .4),\n",
    "    # 3rd\n",
    "        # 'model__subsample': uniform(0.5, 0.4),\n",
    "        # 'model__colsample_bytree': uniform(0.5, 0.4),  \n",
    "    # 4th\n",
    "        # 'model__scale_pos_weight': randint(1, 5),\n",
    "        # 'model__reg_alpha': expon(loc=0.00, scale=1.00),\n",
    "        # 'model__reg_lambda': uniform(1, 5),\n",
    "    # final\n",
    "        # 'model__learning_rate': uniform(1, 10),\n",
    "        # 'model__n_estimators': randint(200, 2000),\n",
    "}"
   ]
  },
  {
   "cell_type": "code",
   "execution_count": 15,
   "metadata": {},
   "outputs": [],
   "source": [
    "# actual hyper-parameters/options to tune for transformations.\n",
    "transformation_parameters = {\n",
    "         #'preparation__cap_gain_loss_pipeline__custom_transform__base': [None, math.e],  # Log transform (base e) or not\n",
    "         #'preparation__cap_gain_loss_pipeline__custom_cap_gain_minus_loss__combine': [True, False],\n",
    "         #'preparation__cap_gain_loss_pipeline__custom_scaler__base_transformer': [MinMaxScaler(), StandardScaler()],\n",
    "         #'preparation__num_pipeline__imputer__strategy': ['mean', 'median', 'most_frequent'],  # tune strategy\n",
    "         #'preparation__num_pipeline__custom_scaler__base_transformer': [MinMaxScaler(), StandardScaler()],\n",
    "         #'preparation__num_pipeline__combine_agehours__combine': [True, False],\n",
    "         #'pca_chooser__base_transformer': [PCA(n_components=0.95, random_state=42), None],  # PCA vs not\n",
    "         \n",
    "    }"
   ]
  },
  {
   "cell_type": "code",
   "execution_count": 16,
   "metadata": {
    "scrolled": true
   },
   "outputs": [
    {
     "data": {
      "text/plain": [
       "{'model__max_features': <scipy.stats._distn_infrastructure.rv_frozen at 0x1a0bc98080>,\n",
       " 'model__n_estimators': <scipy.stats._distn_infrastructure.rv_frozen at 0x1a0bc98f98>,\n",
       " 'model__max_depth': <scipy.stats._distn_infrastructure.rv_frozen at 0x1a0bc98208>}"
      ]
     },
     "execution_count": 16,
     "metadata": {},
     "output_type": "execute_result"
    }
   ],
   "source": [
    "param_grid = {**transformation_parameters, **model_param_dict}\n",
    "param_grid"
   ]
  },
  {
   "cell_type": "code",
   "execution_count": 17,
   "metadata": {},
   "outputs": [],
   "source": [
    "# def binary_roc_auc(y_true, y_score):\n",
    "#     return roc_auc_score(y_true=y_true,\n",
    "#                          # binary makes it so it converts the \"scores\" to predictions\n",
    "#                          y_score=[1 if x > 0.5 else 0 for x in y_score])\n",
    "\n",
    "scorer = make_scorer(roc_auc_score, greater_is_better=True)"
   ]
  },
  {
   "cell_type": "code",
   "execution_count": 18,
   "metadata": {},
   "outputs": [],
   "source": [
    "y =  transformed_data[target_variable].apply(lambda x: 1 if x == positive_class else 0)"
   ]
  },
  {
   "cell_type": "code",
   "execution_count": 19,
   "metadata": {},
   "outputs": [
    {
     "data": {
      "text/plain": [
       "array(['<=50K', '<=50K', '<=50K', '<=50K', '<=50K', '<=50K', '<=50K',\n",
       "       '>50K', '>50K', '>50K'], dtype=object)"
      ]
     },
     "execution_count": 19,
     "metadata": {},
     "output_type": "execute_result"
    }
   ],
   "source": [
    "transformed_data[target_variable].values[0:10]"
   ]
  },
  {
   "cell_type": "code",
   "execution_count": 20,
   "metadata": {},
   "outputs": [
    {
     "data": {
      "text/plain": [
       "0    0\n",
       "1    0\n",
       "2    0\n",
       "3    0\n",
       "4    0\n",
       "5    0\n",
       "6    0\n",
       "7    1\n",
       "8    1\n",
       "9    1\n",
       "Name: income, dtype: int64"
      ]
     },
     "execution_count": 20,
     "metadata": {},
     "output_type": "execute_result"
    }
   ],
   "source": [
    "y[0:10]"
   ]
  },
  {
   "cell_type": "code",
   "execution_count": 47,
   "metadata": {
    "scrolled": true
   },
   "outputs": [
    {
     "name": "stdout",
     "output_type": "stream",
     "text": [
      "Starting....\n",
      "Fitting 5 folds for each of 20 candidates, totalling 100 fits\n",
      "[CV] model__max_depth=24, model__max_features=0.7254099506676248, model__n_estimators=1498 \n",
      "[CV] model__max_depth=24, model__max_features=0.7254099506676248, model__n_estimators=1498 \n",
      "[CV] model__max_depth=24, model__max_features=0.7254099506676248, model__n_estimators=1498 \n",
      "[CV] model__max_depth=24, model__max_features=0.7254099506676248, model__n_estimators=1498 \n",
      "[CV] model__max_depth=24, model__max_features=0.7254099506676248, model__n_estimators=1498 \n",
      "[CV] model__max_depth=26, model__max_features=0.7849926433230103, model__n_estimators=882 \n",
      "[CV] model__max_depth=26, model__max_features=0.7849926433230103, model__n_estimators=882 \n",
      "[CV] model__max_depth=26, model__max_features=0.7849926433230103, model__n_estimators=882 \n"
     ]
    },
    {
     "ename": "KeyboardInterrupt",
     "evalue": "",
     "output_type": "error",
     "traceback": [
      "\u001b[0;31m---------------------------------------------------------------------------\u001b[0m",
      "\u001b[0;31mKeyboardInterrupt\u001b[0m                         Traceback (most recent call last)",
      "\u001b[0;32m<ipython-input-47-2e1b8207f721>\u001b[0m in \u001b[0;36m<module>\u001b[0;34m()\u001b[0m\n\u001b[1;32m     10\u001b[0m                                  \u001b[0mn_jobs\u001b[0m\u001b[0;34m=\u001b[0m\u001b[0;34m-\u001b[0m\u001b[0;36m1\u001b[0m\u001b[0;34m,\u001b[0m\u001b[0;34m\u001b[0m\u001b[0m\n\u001b[1;32m     11\u001b[0m                                  verbose=2)\n\u001b[0;32m---> 12\u001b[0;31m \u001b[0mgrid_search\u001b[0m\u001b[0;34m.\u001b[0m\u001b[0mfit\u001b[0m\u001b[0;34m(\u001b[0m\u001b[0mtransformed_data\u001b[0m\u001b[0;34m.\u001b[0m\u001b[0mdrop\u001b[0m\u001b[0;34m(\u001b[0m\u001b[0mcolumns\u001b[0m\u001b[0;34m=\u001b[0m\u001b[0mtarget_variable\u001b[0m\u001b[0;34m)\u001b[0m\u001b[0;34m,\u001b[0m \u001b[0my\u001b[0m\u001b[0;34m)\u001b[0m\u001b[0;34m\u001b[0m\u001b[0m\n\u001b[0m\u001b[1;32m     13\u001b[0m \u001b[0mtime_end\u001b[0m \u001b[0;34m=\u001b[0m \u001b[0mtime\u001b[0m\u001b[0;34m.\u001b[0m\u001b[0mtime\u001b[0m\u001b[0;34m(\u001b[0m\u001b[0;34m)\u001b[0m\u001b[0;34m\u001b[0m\u001b[0m\n",
      "\u001b[0;32m~/anaconda3/lib/python3.6/site-packages/sklearn/model_selection/_search.py\u001b[0m in \u001b[0;36mfit\u001b[0;34m(self, X, y, groups, **fit_params)\u001b[0m\n\u001b[1;32m    637\u001b[0m                                   error_score=self.error_score)\n\u001b[1;32m    638\u001b[0m           for parameters, (train, test) in product(candidate_params,\n\u001b[0;32m--> 639\u001b[0;31m                                                    cv.split(X, y, groups)))\n\u001b[0m\u001b[1;32m    640\u001b[0m \u001b[0;34m\u001b[0m\u001b[0m\n\u001b[1;32m    641\u001b[0m         \u001b[0;31m# if one choose to see train score, \"out\" will contain train score info\u001b[0m\u001b[0;34m\u001b[0m\u001b[0;34m\u001b[0m\u001b[0m\n",
      "\u001b[0;32m~/anaconda3/lib/python3.6/site-packages/sklearn/externals/joblib/parallel.py\u001b[0m in \u001b[0;36m__call__\u001b[0;34m(self, iterable)\u001b[0m\n\u001b[1;32m    787\u001b[0m                 \u001b[0;31m# consumption.\u001b[0m\u001b[0;34m\u001b[0m\u001b[0;34m\u001b[0m\u001b[0m\n\u001b[1;32m    788\u001b[0m                 \u001b[0mself\u001b[0m\u001b[0;34m.\u001b[0m\u001b[0m_iterating\u001b[0m \u001b[0;34m=\u001b[0m \u001b[0;32mFalse\u001b[0m\u001b[0;34m\u001b[0m\u001b[0m\n\u001b[0;32m--> 789\u001b[0;31m             \u001b[0mself\u001b[0m\u001b[0;34m.\u001b[0m\u001b[0mretrieve\u001b[0m\u001b[0;34m(\u001b[0m\u001b[0;34m)\u001b[0m\u001b[0;34m\u001b[0m\u001b[0m\n\u001b[0m\u001b[1;32m    790\u001b[0m             \u001b[0;31m# Make sure that we get a last message telling us we are done\u001b[0m\u001b[0;34m\u001b[0m\u001b[0;34m\u001b[0m\u001b[0m\n\u001b[1;32m    791\u001b[0m             \u001b[0melapsed_time\u001b[0m \u001b[0;34m=\u001b[0m \u001b[0mtime\u001b[0m\u001b[0;34m.\u001b[0m\u001b[0mtime\u001b[0m\u001b[0;34m(\u001b[0m\u001b[0;34m)\u001b[0m \u001b[0;34m-\u001b[0m \u001b[0mself\u001b[0m\u001b[0;34m.\u001b[0m\u001b[0m_start_time\u001b[0m\u001b[0;34m\u001b[0m\u001b[0m\n",
      "\u001b[0;32m~/anaconda3/lib/python3.6/site-packages/sklearn/externals/joblib/parallel.py\u001b[0m in \u001b[0;36mretrieve\u001b[0;34m(self)\u001b[0m\n\u001b[1;32m    697\u001b[0m             \u001b[0;32mtry\u001b[0m\u001b[0;34m:\u001b[0m\u001b[0;34m\u001b[0m\u001b[0m\n\u001b[1;32m    698\u001b[0m                 \u001b[0;32mif\u001b[0m \u001b[0mgetattr\u001b[0m\u001b[0;34m(\u001b[0m\u001b[0mself\u001b[0m\u001b[0;34m.\u001b[0m\u001b[0m_backend\u001b[0m\u001b[0;34m,\u001b[0m \u001b[0;34m'supports_timeout'\u001b[0m\u001b[0;34m,\u001b[0m \u001b[0;32mFalse\u001b[0m\u001b[0;34m)\u001b[0m\u001b[0;34m:\u001b[0m\u001b[0;34m\u001b[0m\u001b[0m\n\u001b[0;32m--> 699\u001b[0;31m                     \u001b[0mself\u001b[0m\u001b[0;34m.\u001b[0m\u001b[0m_output\u001b[0m\u001b[0;34m.\u001b[0m\u001b[0mextend\u001b[0m\u001b[0;34m(\u001b[0m\u001b[0mjob\u001b[0m\u001b[0;34m.\u001b[0m\u001b[0mget\u001b[0m\u001b[0;34m(\u001b[0m\u001b[0mtimeout\u001b[0m\u001b[0;34m=\u001b[0m\u001b[0mself\u001b[0m\u001b[0;34m.\u001b[0m\u001b[0mtimeout\u001b[0m\u001b[0;34m)\u001b[0m\u001b[0;34m)\u001b[0m\u001b[0;34m\u001b[0m\u001b[0m\n\u001b[0m\u001b[1;32m    700\u001b[0m                 \u001b[0;32melse\u001b[0m\u001b[0;34m:\u001b[0m\u001b[0;34m\u001b[0m\u001b[0m\n\u001b[1;32m    701\u001b[0m                     \u001b[0mself\u001b[0m\u001b[0;34m.\u001b[0m\u001b[0m_output\u001b[0m\u001b[0;34m.\u001b[0m\u001b[0mextend\u001b[0m\u001b[0;34m(\u001b[0m\u001b[0mjob\u001b[0m\u001b[0;34m.\u001b[0m\u001b[0mget\u001b[0m\u001b[0;34m(\u001b[0m\u001b[0;34m)\u001b[0m\u001b[0;34m)\u001b[0m\u001b[0;34m\u001b[0m\u001b[0m\n",
      "\u001b[0;32m~/anaconda3/lib/python3.6/multiprocessing/pool.py\u001b[0m in \u001b[0;36mget\u001b[0;34m(self, timeout)\u001b[0m\n\u001b[1;32m    636\u001b[0m \u001b[0;34m\u001b[0m\u001b[0m\n\u001b[1;32m    637\u001b[0m     \u001b[0;32mdef\u001b[0m \u001b[0mget\u001b[0m\u001b[0;34m(\u001b[0m\u001b[0mself\u001b[0m\u001b[0;34m,\u001b[0m \u001b[0mtimeout\u001b[0m\u001b[0;34m=\u001b[0m\u001b[0;32mNone\u001b[0m\u001b[0;34m)\u001b[0m\u001b[0;34m:\u001b[0m\u001b[0;34m\u001b[0m\u001b[0m\n\u001b[0;32m--> 638\u001b[0;31m         \u001b[0mself\u001b[0m\u001b[0;34m.\u001b[0m\u001b[0mwait\u001b[0m\u001b[0;34m(\u001b[0m\u001b[0mtimeout\u001b[0m\u001b[0;34m)\u001b[0m\u001b[0;34m\u001b[0m\u001b[0m\n\u001b[0m\u001b[1;32m    639\u001b[0m         \u001b[0;32mif\u001b[0m \u001b[0;32mnot\u001b[0m \u001b[0mself\u001b[0m\u001b[0;34m.\u001b[0m\u001b[0mready\u001b[0m\u001b[0;34m(\u001b[0m\u001b[0;34m)\u001b[0m\u001b[0;34m:\u001b[0m\u001b[0;34m\u001b[0m\u001b[0m\n\u001b[1;32m    640\u001b[0m             \u001b[0;32mraise\u001b[0m \u001b[0mTimeoutError\u001b[0m\u001b[0;34m\u001b[0m\u001b[0m\n",
      "\u001b[0;32m~/anaconda3/lib/python3.6/multiprocessing/pool.py\u001b[0m in \u001b[0;36mwait\u001b[0;34m(self, timeout)\u001b[0m\n\u001b[1;32m    633\u001b[0m \u001b[0;34m\u001b[0m\u001b[0m\n\u001b[1;32m    634\u001b[0m     \u001b[0;32mdef\u001b[0m \u001b[0mwait\u001b[0m\u001b[0;34m(\u001b[0m\u001b[0mself\u001b[0m\u001b[0;34m,\u001b[0m \u001b[0mtimeout\u001b[0m\u001b[0;34m=\u001b[0m\u001b[0;32mNone\u001b[0m\u001b[0;34m)\u001b[0m\u001b[0;34m:\u001b[0m\u001b[0;34m\u001b[0m\u001b[0m\n\u001b[0;32m--> 635\u001b[0;31m         \u001b[0mself\u001b[0m\u001b[0;34m.\u001b[0m\u001b[0m_event\u001b[0m\u001b[0;34m.\u001b[0m\u001b[0mwait\u001b[0m\u001b[0;34m(\u001b[0m\u001b[0mtimeout\u001b[0m\u001b[0;34m)\u001b[0m\u001b[0;34m\u001b[0m\u001b[0m\n\u001b[0m\u001b[1;32m    636\u001b[0m \u001b[0;34m\u001b[0m\u001b[0m\n\u001b[1;32m    637\u001b[0m     \u001b[0;32mdef\u001b[0m \u001b[0mget\u001b[0m\u001b[0;34m(\u001b[0m\u001b[0mself\u001b[0m\u001b[0;34m,\u001b[0m \u001b[0mtimeout\u001b[0m\u001b[0;34m=\u001b[0m\u001b[0;32mNone\u001b[0m\u001b[0;34m)\u001b[0m\u001b[0;34m:\u001b[0m\u001b[0;34m\u001b[0m\u001b[0m\n",
      "\u001b[0;32m~/anaconda3/lib/python3.6/threading.py\u001b[0m in \u001b[0;36mwait\u001b[0;34m(self, timeout)\u001b[0m\n\u001b[1;32m    549\u001b[0m             \u001b[0msignaled\u001b[0m \u001b[0;34m=\u001b[0m \u001b[0mself\u001b[0m\u001b[0;34m.\u001b[0m\u001b[0m_flag\u001b[0m\u001b[0;34m\u001b[0m\u001b[0m\n\u001b[1;32m    550\u001b[0m             \u001b[0;32mif\u001b[0m \u001b[0;32mnot\u001b[0m \u001b[0msignaled\u001b[0m\u001b[0;34m:\u001b[0m\u001b[0;34m\u001b[0m\u001b[0m\n\u001b[0;32m--> 551\u001b[0;31m                 \u001b[0msignaled\u001b[0m \u001b[0;34m=\u001b[0m \u001b[0mself\u001b[0m\u001b[0;34m.\u001b[0m\u001b[0m_cond\u001b[0m\u001b[0;34m.\u001b[0m\u001b[0mwait\u001b[0m\u001b[0;34m(\u001b[0m\u001b[0mtimeout\u001b[0m\u001b[0;34m)\u001b[0m\u001b[0;34m\u001b[0m\u001b[0m\n\u001b[0m\u001b[1;32m    552\u001b[0m             \u001b[0;32mreturn\u001b[0m \u001b[0msignaled\u001b[0m\u001b[0;34m\u001b[0m\u001b[0m\n\u001b[1;32m    553\u001b[0m \u001b[0;34m\u001b[0m\u001b[0m\n",
      "\u001b[0;32m~/anaconda3/lib/python3.6/threading.py\u001b[0m in \u001b[0;36mwait\u001b[0;34m(self, timeout)\u001b[0m\n\u001b[1;32m    293\u001b[0m         \u001b[0;32mtry\u001b[0m\u001b[0;34m:\u001b[0m    \u001b[0;31m# restore state no matter what (e.g., KeyboardInterrupt)\u001b[0m\u001b[0;34m\u001b[0m\u001b[0m\n\u001b[1;32m    294\u001b[0m             \u001b[0;32mif\u001b[0m \u001b[0mtimeout\u001b[0m \u001b[0;32mis\u001b[0m \u001b[0;32mNone\u001b[0m\u001b[0;34m:\u001b[0m\u001b[0;34m\u001b[0m\u001b[0m\n\u001b[0;32m--> 295\u001b[0;31m                 \u001b[0mwaiter\u001b[0m\u001b[0;34m.\u001b[0m\u001b[0macquire\u001b[0m\u001b[0;34m(\u001b[0m\u001b[0;34m)\u001b[0m\u001b[0;34m\u001b[0m\u001b[0m\n\u001b[0m\u001b[1;32m    296\u001b[0m                 \u001b[0mgotit\u001b[0m \u001b[0;34m=\u001b[0m \u001b[0;32mTrue\u001b[0m\u001b[0;34m\u001b[0m\u001b[0m\n\u001b[1;32m    297\u001b[0m             \u001b[0;32melse\u001b[0m\u001b[0;34m:\u001b[0m\u001b[0;34m\u001b[0m\u001b[0m\n",
      "\u001b[0;31mKeyboardInterrupt\u001b[0m: "
     ]
    }
   ],
   "source": [
    "print('Starting....')\n",
    "time_start = time.time()\n",
    "from sklearn.model_selection import RandomizedSearchCV\n",
    "grid_search = RandomizedSearchCV(estimator=full_pipeline,\n",
    "                                 param_distributions=param_grid,\n",
    "                                 n_iter=20,\n",
    "                                 cv=RepeatedKFold(n_splits=5, n_repeats=1),\n",
    "                                 scoring=scorer,\n",
    "                                 return_train_score=True,\n",
    "                                 n_jobs=-1,\n",
    "                                 verbose=2)\n",
    "grid_search.fit(transformed_data.drop(columns=target_variable), y)\n",
    "time_end = time.time()"
   ]
  },
  {
   "cell_type": "code",
   "execution_count": 22,
   "metadata": {},
   "outputs": [
    {
     "name": "stdout",
     "output_type": "stream",
     "text": [
      "Time: 63.0m\n"
     ]
    }
   ],
   "source": [
    "print('Time: {}m'.format(round((time_end-time_start)/60, 1)))"
   ]
  },
  {
   "cell_type": "code",
   "execution_count": 27,
   "metadata": {},
   "outputs": [
    {
     "data": {
      "text/html": [
       "<div>\n",
       "<style scoped>\n",
       "    .dataframe tbody tr th:only-of-type {\n",
       "        vertical-align: middle;\n",
       "    }\n",
       "\n",
       "    .dataframe tbody tr th {\n",
       "        vertical-align: top;\n",
       "    }\n",
       "\n",
       "    .dataframe thead th {\n",
       "        text-align: right;\n",
       "    }\n",
       "</style>\n",
       "<table border=\"1\" class=\"dataframe\">\n",
       "  <thead>\n",
       "    <tr style=\"text-align: right;\">\n",
       "      <th></th>\n",
       "      <th>mean_score</th>\n",
       "      <th>st_dev_score</th>\n",
       "      <th>model__max_depth</th>\n",
       "      <th>model__max_features</th>\n",
       "      <th>model__n_estimators</th>\n",
       "    </tr>\n",
       "  </thead>\n",
       "  <tbody>\n",
       "    <tr>\n",
       "      <th>2</th>\n",
       "      <td>0.785376</td>\n",
       "      <td>0.005952</td>\n",
       "      <td>18</td>\n",
       "      <td>0.547423</td>\n",
       "      <td>1325</td>\n",
       "    </tr>\n",
       "    <tr>\n",
       "      <th>3</th>\n",
       "      <td>0.785251</td>\n",
       "      <td>0.006022</td>\n",
       "      <td>18</td>\n",
       "      <td>0.732699</td>\n",
       "      <td>1141</td>\n",
       "    </tr>\n",
       "    <tr>\n",
       "      <th>6</th>\n",
       "      <td>0.780590</td>\n",
       "      <td>0.004951</td>\n",
       "      <td>29</td>\n",
       "      <td>0.403865</td>\n",
       "      <td>231</td>\n",
       "    </tr>\n",
       "    <tr>\n",
       "      <th>4</th>\n",
       "      <td>0.779632</td>\n",
       "      <td>0.005328</td>\n",
       "      <td>27</td>\n",
       "      <td>0.920318</td>\n",
       "      <td>407</td>\n",
       "    </tr>\n",
       "    <tr>\n",
       "      <th>7</th>\n",
       "      <td>0.778767</td>\n",
       "      <td>0.005333</td>\n",
       "      <td>16</td>\n",
       "      <td>0.228508</td>\n",
       "      <td>1126</td>\n",
       "    </tr>\n",
       "    <tr>\n",
       "      <th>1</th>\n",
       "      <td>0.775394</td>\n",
       "      <td>0.004874</td>\n",
       "      <td>35</td>\n",
       "      <td>0.950561</td>\n",
       "      <td>1277</td>\n",
       "    </tr>\n",
       "    <tr>\n",
       "      <th>0</th>\n",
       "      <td>0.774579</td>\n",
       "      <td>0.006505</td>\n",
       "      <td>12</td>\n",
       "      <td>0.789692</td>\n",
       "      <td>1338</td>\n",
       "    </tr>\n",
       "    <tr>\n",
       "      <th>5</th>\n",
       "      <td>0.729011</td>\n",
       "      <td>0.004542</td>\n",
       "      <td>3</td>\n",
       "      <td>0.771501</td>\n",
       "      <td>1015</td>\n",
       "    </tr>\n",
       "  </tbody>\n",
       "</table>\n",
       "</div>"
      ],
      "text/plain": [
       "   mean_score  st_dev_score  model__max_depth  model__max_features  \\\n",
       "2    0.785376      0.005952                18             0.547423   \n",
       "3    0.785251      0.006022                18             0.732699   \n",
       "6    0.780590      0.004951                29             0.403865   \n",
       "4    0.779632      0.005328                27             0.920318   \n",
       "7    0.778767      0.005333                16             0.228508   \n",
       "1    0.775394      0.004874                35             0.950561   \n",
       "0    0.774579      0.006505                12             0.789692   \n",
       "5    0.729011      0.004542                 3             0.771501   \n",
       "\n",
       "   model__n_estimators  \n",
       "2                 1325  \n",
       "3                 1141  \n",
       "6                  231  \n",
       "4                  407  \n",
       "7                 1126  \n",
       "1                 1277  \n",
       "0                 1338  \n",
       "5                 1015  "
      ]
     },
     "execution_count": 27,
     "metadata": {},
     "output_type": "execute_result"
    }
   ],
   "source": [
    "results_df = pd.concat([pd.DataFrame({'mean_score': cvres[\"mean_test_score\"], 'st_dev_score': cvres[\"std_test_score\"]}),\n",
    "          pd.DataFrame(cvres[\"params\"])],\n",
    "          axis=1)\n",
    "results_df.sort_values(by=['mean_score'], ascending=False).head(10)"
   ]
  },
  {
   "cell_type": "code",
   "execution_count": 48,
   "metadata": {},
   "outputs": [
    {
     "ename": "AttributeError",
     "evalue": "'RandomizedSearchCV' object has no attribute 'best_score_'",
     "output_type": "error",
     "traceback": [
      "\u001b[0;31m---------------------------------------------------------------------------\u001b[0m",
      "\u001b[0;31mAttributeError\u001b[0m                            Traceback (most recent call last)",
      "\u001b[0;32m<ipython-input-48-d5781d57ed9d>\u001b[0m in \u001b[0;36m<module>\u001b[0;34m()\u001b[0m\n\u001b[0;32m----> 1\u001b[0;31m \u001b[0mgrid_search\u001b[0m\u001b[0;34m.\u001b[0m\u001b[0mbest_score_\u001b[0m\u001b[0;34m,\u001b[0m \u001b[0mgrid_search\u001b[0m\u001b[0;34m.\u001b[0m\u001b[0mbest_params_\u001b[0m\u001b[0;34m\u001b[0m\u001b[0m\n\u001b[0m",
      "\u001b[0;31mAttributeError\u001b[0m: 'RandomizedSearchCV' object has no attribute 'best_score_'"
     ]
    }
   ],
   "source": [
    "grid_search.best_score_, grid_search.best_params_"
   ]
  },
  {
   "cell_type": "code",
   "execution_count": 50,
   "metadata": {},
   "outputs": [
    {
     "data": {
      "text/plain": [
       "array([ 808.64379866,  823.08089106, 1000.        ,  997.78820041,\n",
       "        898.19442167,    1.        ,  915.1712718 ,  882.86716154])"
      ]
     },
     "execution_count": 50,
     "metadata": {},
     "output_type": "execute_result"
    }
   ],
   "source": [
    "rescaled_means = MinMaxScaler(feature_range=(1, 1000)).fit_transform(results_df['mean_score'].values.reshape(-1, 1))\n",
    "rescaled_means = rescaled_means.flatten()  # reshape back to array\n",
    "rescaled_means"
   ]
  },
  {
   "cell_type": "code",
   "execution_count": 36,
   "metadata": {},
   "outputs": [],
   "source": [
    "def compare_two_parameters(x_label, y_label):\n",
    "    x = results_df[x_label]\n",
    "    y = results_df[y_label]\n",
    "    plt.scatter(x,y,c=rescaled_means, s=rescaled_means, alpha=0.5)\n",
    "    plt.xlabel(x_label)\n",
    "    plt.ylabel(y_label)"
   ]
  },
  {
   "cell_type": "code",
   "execution_count": 37,
   "metadata": {},
   "outputs": [
    {
     "data": {
      "image/png": "[encoded data removed]",
      "text/plain": [
       "<Figure size 720x540.135 with 1 Axes>"
      ]
     },
     "metadata": {},
     "output_type": "display_data"
    }
   ],
   "source": [
    "x_label = 'model__max_depth'\n",
    "y_label = 'model__max_features'\n",
    "compare_two_parameters(x_label, y_label)"
   ]
  },
  {
   "cell_type": "code",
   "execution_count": 38,
   "metadata": {},
   "outputs": [
    {
     "data": {
      "text/plain": [
       "(0.7853756672209999,\n",
       " {'model__max_depth': 18,\n",
       "  'model__max_features': 0.5474227639342149,\n",
       "  'model__n_estimators': 1325})"
      ]
     },
     "execution_count": 38,
     "metadata": {},
     "output_type": "execute_result"
    }
   ],
   "source": [
    "grid_search.best_score_, grid_search.best_params_"
   ]
  },
  {
   "cell_type": "code",
   "execution_count": 39,
   "metadata": {},
   "outputs": [
    {
     "data": {
      "image/png": "[encoded data removed]",
      "text/plain": [
       "<Figure size 720x540.135 with 1 Axes>"
      ]
     },
     "metadata": {},
     "output_type": "display_data"
    }
   ],
   "source": [
    "x_label = 'model__max_depth'\n",
    "y_label = 'model__n_estimators'\n",
    "compare_two_parameters(x_label, y_label)"
   ]
  },
  {
   "cell_type": "code",
   "execution_count": 40,
   "metadata": {},
   "outputs": [
    {
     "data": {
      "text/plain": [
       "(0.7853756672209999,\n",
       " {'model__max_depth': 18,\n",
       "  'model__max_features': 0.5474227639342149,\n",
       "  'model__n_estimators': 1325})"
      ]
     },
     "execution_count": 40,
     "metadata": {},
     "output_type": "execute_result"
    }
   ],
   "source": [
    "grid_search.best_score_, grid_search.best_params_"
   ]
  },
  {
   "cell_type": "code",
   "execution_count": 41,
   "metadata": {},
   "outputs": [
    {
     "data": {
      "image/png": "[encoded data removed]",
      "text/plain": [
       "<Figure size 720x540.135 with 1 Axes>"
      ]
     },
     "metadata": {},
     "output_type": "display_data"
    }
   ],
   "source": [
    "x_label = 'model__max_features'\n",
    "y_label = 'model__n_estimators'\n",
    "compare_two_parameters(x_label, y_label)"
   ]
  },
  {
   "cell_type": "code",
   "execution_count": 42,
   "metadata": {},
   "outputs": [
    {
     "data": {
      "text/plain": [
       "(0.7853756672209999,\n",
       " {'model__max_depth': 18,\n",
       "  'model__max_features': 0.5474227639342149,\n",
       "  'model__n_estimators': 1325})"
      ]
     },
     "execution_count": 42,
     "metadata": {},
     "output_type": "execute_result"
    }
   ],
   "source": [
    "grid_search.best_score_, grid_search.best_params_"
   ]
  },
  {
   "cell_type": "markdown",
   "metadata": {},
   "source": [
    "reference:\n",
    "\n",
    "```\n",
    "N = 1000\n",
    "r = range(0, N)\n",
    "x = r\n",
    "y = r\n",
    "colors = r\n",
    "area = r\n",
    "\n",
    "plt.scatter(x, y, s=area, c=colors, alpha=0.5)\n",
    "plt.show()\n",
    "```"
   ]
  },
  {
   "cell_type": "code",
   "execution_count": 45,
   "metadata": {},
   "outputs": [],
   "source": [
    "# column order is based off of the pipeline and FeatureUnion\n",
    "    # cap_gain_loss_pipeline\n",
    "    # num_pipeline\n",
    "    # cat_pipeline\n",
    "features = ['capital-gain', 'capital-loss'] + ['Net Capital'] + ['age', 'education-num', 'hours-per-week'] + one_hot_transformer.encoded_columns\n",
    "importances = grid_search.best_estimator_.steps[1][1].feature_importances_"
   ]
  },
  {
   "cell_type": "code",
   "execution_count": 46,
   "metadata": {},
   "outputs": [
    {
     "data": {
      "text/html": [
       "<div>\n",
       "<style scoped>\n",
       "    .dataframe tbody tr th:only-of-type {\n",
       "        vertical-align: middle;\n",
       "    }\n",
       "\n",
       "    .dataframe tbody tr th {\n",
       "        vertical-align: top;\n",
       "    }\n",
       "\n",
       "    .dataframe thead th {\n",
       "        text-align: right;\n",
       "    }\n",
       "</style>\n",
       "<table border=\"1\" class=\"dataframe\">\n",
       "  <thead>\n",
       "    <tr style=\"text-align: right;\">\n",
       "      <th></th>\n",
       "      <th>feature</th>\n",
       "      <th>importance</th>\n",
       "    </tr>\n",
       "  </thead>\n",
       "  <tbody>\n",
       "    <tr>\n",
       "      <th>31</th>\n",
       "      <td>marital-status_Married-civ-spouse</td>\n",
       "      <td>0.192833</td>\n",
       "    </tr>\n",
       "    <tr>\n",
       "      <th>4</th>\n",
       "      <td>education-num</td>\n",
       "      <td>0.137212</td>\n",
       "    </tr>\n",
       "    <tr>\n",
       "      <th>2</th>\n",
       "      <td>Net Capital</td>\n",
       "      <td>0.118398</td>\n",
       "    </tr>\n",
       "    <tr>\n",
       "      <th>3</th>\n",
       "      <td>age</td>\n",
       "      <td>0.099145</td>\n",
       "    </tr>\n",
       "    <tr>\n",
       "      <th>0</th>\n",
       "      <td>capital-gain</td>\n",
       "      <td>0.086874</td>\n",
       "    </tr>\n",
       "    <tr>\n",
       "      <th>50</th>\n",
       "      <td>relationship_Husband</td>\n",
       "      <td>0.073707</td>\n",
       "    </tr>\n",
       "    <tr>\n",
       "      <th>5</th>\n",
       "      <td>hours-per-week</td>\n",
       "      <td>0.062936</td>\n",
       "    </tr>\n",
       "    <tr>\n",
       "      <th>1</th>\n",
       "      <td>capital-loss</td>\n",
       "      <td>0.030731</td>\n",
       "    </tr>\n",
       "    <tr>\n",
       "      <th>39</th>\n",
       "      <td>occupation_Exec-managerial</td>\n",
       "      <td>0.016215</td>\n",
       "    </tr>\n",
       "    <tr>\n",
       "      <th>55</th>\n",
       "      <td>relationship_Wife</td>\n",
       "      <td>0.013383</td>\n",
       "    </tr>\n",
       "    <tr>\n",
       "      <th>10</th>\n",
       "      <td>workclass_Self-emp-not-inc</td>\n",
       "      <td>0.010331</td>\n",
       "    </tr>\n",
       "    <tr>\n",
       "      <th>45</th>\n",
       "      <td>occupation_Prof-specialty</td>\n",
       "      <td>0.009847</td>\n",
       "    </tr>\n",
       "    <tr>\n",
       "      <th>33</th>\n",
       "      <td>marital-status_Never-married</td>\n",
       "      <td>0.007877</td>\n",
       "    </tr>\n",
       "    <tr>\n",
       "      <th>8</th>\n",
       "      <td>workclass_Private</td>\n",
       "      <td>0.007547</td>\n",
       "    </tr>\n",
       "    <tr>\n",
       "      <th>22</th>\n",
       "      <td>education_level_Bachelors</td>\n",
       "      <td>0.007056</td>\n",
       "    </tr>\n",
       "    <tr>\n",
       "      <th>43</th>\n",
       "      <td>occupation_Other-service</td>\n",
       "      <td>0.005741</td>\n",
       "    </tr>\n",
       "    <tr>\n",
       "      <th>47</th>\n",
       "      <td>occupation_Sales</td>\n",
       "      <td>0.005101</td>\n",
       "    </tr>\n",
       "    <tr>\n",
       "      <th>7</th>\n",
       "      <td>workclass_Local-gov</td>\n",
       "      <td>0.004860</td>\n",
       "    </tr>\n",
       "    <tr>\n",
       "      <th>6</th>\n",
       "      <td>workclass_Federal-gov</td>\n",
       "      <td>0.004836</td>\n",
       "    </tr>\n",
       "    <tr>\n",
       "      <th>9</th>\n",
       "      <td>workclass_Self-emp-inc</td>\n",
       "      <td>0.004506</td>\n",
       "    </tr>\n",
       "  </tbody>\n",
       "</table>\n",
       "</div>"
      ],
      "text/plain": [
       "                              feature  importance\n",
       "31  marital-status_Married-civ-spouse  0.192833  \n",
       "4   education-num                      0.137212  \n",
       "2   Net Capital                        0.118398  \n",
       "3   age                                0.099145  \n",
       "0   capital-gain                       0.086874  \n",
       "50  relationship_Husband               0.073707  \n",
       "5   hours-per-week                     0.062936  \n",
       "1   capital-loss                       0.030731  \n",
       "39  occupation_Exec-managerial         0.016215  \n",
       "55  relationship_Wife                  0.013383  \n",
       "10  workclass_Self-emp-not-inc         0.010331  \n",
       "45  occupation_Prof-specialty          0.009847  \n",
       "33  marital-status_Never-married       0.007877  \n",
       "8   workclass_Private                  0.007547  \n",
       "22  education_level_Bachelors          0.007056  \n",
       "43  occupation_Other-service           0.005741  \n",
       "47  occupation_Sales                   0.005101  \n",
       "7   workclass_Local-gov                0.004860  \n",
       "6   workclass_Federal-gov              0.004836  \n",
       "9   workclass_Self-emp-inc             0.004506  "
      ]
     },
     "execution_count": 46,
     "metadata": {},
     "output_type": "execute_result"
    }
   ],
   "source": [
    "import pandas as pd\n",
    "pd.DataFrame({'feature': features, 'importance': importances}).sort_values(by=['importance'], ascending=False).head(20)"
   ]
  },
  {
   "cell_type": "code",
   "execution_count": null,
   "metadata": {},
   "outputs": [],
   "source": []
  }
 ],
 "metadata": {
  "kernelspec": {
   "display_name": "Python [default]",
   "language": "python",
   "name": "python3"
  },
  "language_info": {
   "codemirror_mode": {
    "name": "ipython",
    "version": 3
   },
   "file_extension": ".py",
   "mimetype": "text/x-python",
   "name": "python",
   "nbconvert_exporter": "python",
   "pygments_lexer": "ipython3",
   "version": "3.6.5"
  }
 },
 "nbformat": 4,
 "nbformat_minor": 2
}
