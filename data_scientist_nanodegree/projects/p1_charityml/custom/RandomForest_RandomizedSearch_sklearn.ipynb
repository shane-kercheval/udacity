{
 "cells": [
  {
   "cell_type": "code",
   "execution_count": 1,
   "metadata": {},
   "outputs": [],
   "source": [
    "# !pip install oolearning --upgrade"
   ]
  },
  {
   "cell_type": "code",
   "execution_count": 32,
   "metadata": {},
   "outputs": [],
   "source": [
    "import math\n",
    "import os\n",
    "import time\n",
    "import numpy as np\n",
    "import pandas as pd\n",
    "import matplotlib.pyplot as plt\n",
    "\n",
    "from sklearn.ensemble import AdaBoostClassifier, ExtraTreesClassifier, RandomForestClassifier\n",
    "from sklearn.linear_model import LogisticRegression\n",
    "from sklearn.metrics import make_scorer, roc_auc_score\n",
    "from sklearn.model_selection import GridSearchCV\n",
    "from sklearn.model_selection import RepeatedKFold\n",
    "from sklearn.pipeline import Pipeline, FeatureUnion\n",
    "from sklearn.preprocessing import StandardScaler, Imputer, MinMaxScaler\n",
    "from sklearn.decomposition import PCA\n",
    "from xgboost import XGBClassifier\n",
    "\n",
    "import oolearning as oo\n",
    "from helpers import DataFrameSelector, CustomLogTransform, ChooserTransform, CombineAgeHoursTransform, CombineCapitalGainLossTransform\n",
    "\n",
    "pd.set_option('display.width', 500)\n",
    "pd.set_option('display.max_colwidth', -1)\n",
    "pd.set_option('display.max_columns', None)\n",
    "pd.set_option('display.max_rows', None)\n",
    "width = 10\n",
    "plt.rcParams['figure.figsize'] = [width, width/1.333]"
   ]
  },
  {
   "cell_type": "code",
   "execution_count": 3,
   "metadata": {},
   "outputs": [
    {
     "data": {
      "text/html": [
       "<div>\n",
       "<style scoped>\n",
       "    .dataframe tbody tr th:only-of-type {\n",
       "        vertical-align: middle;\n",
       "    }\n",
       "\n",
       "    .dataframe tbody tr th {\n",
       "        vertical-align: top;\n",
       "    }\n",
       "\n",
       "    .dataframe thead th {\n",
       "        text-align: right;\n",
       "    }\n",
       "</style>\n",
       "<table border=\"1\" class=\"dataframe\">\n",
       "  <thead>\n",
       "    <tr style=\"text-align: right;\">\n",
       "      <th></th>\n",
       "      <th>age</th>\n",
       "      <th>workclass</th>\n",
       "      <th>education_level</th>\n",
       "      <th>education-num</th>\n",
       "      <th>marital-status</th>\n",
       "      <th>occupation</th>\n",
       "      <th>relationship</th>\n",
       "      <th>race</th>\n",
       "      <th>sex</th>\n",
       "      <th>capital-gain</th>\n",
       "      <th>capital-loss</th>\n",
       "      <th>hours-per-week</th>\n",
       "      <th>native-country</th>\n",
       "      <th>income</th>\n",
       "    </tr>\n",
       "  </thead>\n",
       "  <tbody>\n",
       "    <tr>\n",
       "      <th>0</th>\n",
       "      <td>39</td>\n",
       "      <td>State-gov</td>\n",
       "      <td>Bachelors</td>\n",
       "      <td>13.0</td>\n",
       "      <td>Never-married</td>\n",
       "      <td>Adm-clerical</td>\n",
       "      <td>Not-in-family</td>\n",
       "      <td>White</td>\n",
       "      <td>Male</td>\n",
       "      <td>2174.0</td>\n",
       "      <td>0.0</td>\n",
       "      <td>40.0</td>\n",
       "      <td>United-States</td>\n",
       "      <td>&lt;=50K</td>\n",
       "    </tr>\n",
       "    <tr>\n",
       "      <th>1</th>\n",
       "      <td>50</td>\n",
       "      <td>Self-emp-not-inc</td>\n",
       "      <td>Bachelors</td>\n",
       "      <td>13.0</td>\n",
       "      <td>Married-civ-spouse</td>\n",
       "      <td>Exec-managerial</td>\n",
       "      <td>Husband</td>\n",
       "      <td>White</td>\n",
       "      <td>Male</td>\n",
       "      <td>0.0</td>\n",
       "      <td>0.0</td>\n",
       "      <td>13.0</td>\n",
       "      <td>United-States</td>\n",
       "      <td>&lt;=50K</td>\n",
       "    </tr>\n",
       "    <tr>\n",
       "      <th>2</th>\n",
       "      <td>38</td>\n",
       "      <td>Private</td>\n",
       "      <td>HS-grad</td>\n",
       "      <td>9.0</td>\n",
       "      <td>Divorced</td>\n",
       "      <td>Handlers-cleaners</td>\n",
       "      <td>Not-in-family</td>\n",
       "      <td>White</td>\n",
       "      <td>Male</td>\n",
       "      <td>0.0</td>\n",
       "      <td>0.0</td>\n",
       "      <td>40.0</td>\n",
       "      <td>United-States</td>\n",
       "      <td>&lt;=50K</td>\n",
       "    </tr>\n",
       "    <tr>\n",
       "      <th>3</th>\n",
       "      <td>53</td>\n",
       "      <td>Private</td>\n",
       "      <td>11th</td>\n",
       "      <td>7.0</td>\n",
       "      <td>Married-civ-spouse</td>\n",
       "      <td>Handlers-cleaners</td>\n",
       "      <td>Husband</td>\n",
       "      <td>Black</td>\n",
       "      <td>Male</td>\n",
       "      <td>0.0</td>\n",
       "      <td>0.0</td>\n",
       "      <td>40.0</td>\n",
       "      <td>United-States</td>\n",
       "      <td>&lt;=50K</td>\n",
       "    </tr>\n",
       "    <tr>\n",
       "      <th>4</th>\n",
       "      <td>28</td>\n",
       "      <td>Private</td>\n",
       "      <td>Bachelors</td>\n",
       "      <td>13.0</td>\n",
       "      <td>Married-civ-spouse</td>\n",
       "      <td>Prof-specialty</td>\n",
       "      <td>Wife</td>\n",
       "      <td>Black</td>\n",
       "      <td>Female</td>\n",
       "      <td>0.0</td>\n",
       "      <td>0.0</td>\n",
       "      <td>40.0</td>\n",
       "      <td>Cuba</td>\n",
       "      <td>&lt;=50K</td>\n",
       "    </tr>\n",
       "  </tbody>\n",
       "</table>\n",
       "</div>"
      ],
      "text/plain": [
       "   age         workclass education_level  education-num      marital-status         occupation   relationship   race     sex  capital-gain  capital-loss  hours-per-week native-country income\n",
       "0  39   State-gov         Bachelors       13.0           Never-married       Adm-clerical       Not-in-family  White  Male    2174.0        0.0           40.0            United-States  <=50K\n",
       "1  50   Self-emp-not-inc  Bachelors       13.0           Married-civ-spouse  Exec-managerial    Husband        White  Male    0.0           0.0           13.0            United-States  <=50K\n",
       "2  38   Private           HS-grad         9.0            Divorced            Handlers-cleaners  Not-in-family  White  Male    0.0           0.0           40.0            United-States  <=50K\n",
       "3  53   Private           11th            7.0            Married-civ-spouse  Handlers-cleaners  Husband        Black  Male    0.0           0.0           40.0            United-States  <=50K\n",
       "4  28   Private           Bachelors       13.0           Married-civ-spouse  Prof-specialty     Wife           Black  Female  0.0           0.0           40.0            Cuba           <=50K"
      ]
     },
     "execution_count": 3,
     "metadata": {},
     "output_type": "execute_result"
    }
   ],
   "source": [
    "working_directory = os.path.join(os.getcwd(), '../')\n",
    "csv_file = os.path.join(working_directory, 'census.csv')\n",
    "target_variable = 'income'\n",
    "positive_class = '>50K'\n",
    "negative_class = '<=50K'\n",
    "\n",
    "#target_mapping = {0: 'died', 1: 'lived'}  # so we can convert from numeric to categoric\n",
    "\n",
    "explore = oo.ExploreClassificationDataset.from_csv(csv_file_path=csv_file,\n",
    "                                                   target_variable=target_variable)\n",
    " #                                                  map_numeric_target=target_mapping)\n",
    "\n",
    "# look at data\n",
    "explore.dataset.head()"
   ]
  },
  {
   "cell_type": "code",
   "execution_count": 4,
   "metadata": {},
   "outputs": [
    {
     "data": {
      "text/html": [
       "<div>\n",
       "<style scoped>\n",
       "    .dataframe tbody tr th:only-of-type {\n",
       "        vertical-align: middle;\n",
       "    }\n",
       "\n",
       "    .dataframe tbody tr th {\n",
       "        vertical-align: top;\n",
       "    }\n",
       "\n",
       "    .dataframe thead th {\n",
       "        text-align: right;\n",
       "    }\n",
       "</style>\n",
       "<table border=\"1\" class=\"dataframe\">\n",
       "  <thead>\n",
       "    <tr style=\"text-align: right;\">\n",
       "      <th></th>\n",
       "      <th>count</th>\n",
       "      <th>nulls</th>\n",
       "      <th>perc_nulls</th>\n",
       "      <th>num_zeros</th>\n",
       "      <th>perc_zeros</th>\n",
       "      <th>mean</th>\n",
       "      <th>st_dev</th>\n",
       "      <th>coef of var</th>\n",
       "      <th>skewness</th>\n",
       "      <th>kurtosis</th>\n",
       "      <th>min</th>\n",
       "      <th>10%</th>\n",
       "      <th>25%</th>\n",
       "      <th>50%</th>\n",
       "      <th>75%</th>\n",
       "      <th>90%</th>\n",
       "      <th>max</th>\n",
       "    </tr>\n",
       "  </thead>\n",
       "  <tbody>\n",
       "    <tr>\n",
       "      <th>age</th>\n",
       "      <td>45222</td>\n",
       "      <td>0</td>\n",
       "      <td>0.0</td>\n",
       "      <td>0</td>\n",
       "      <td>0.000</td>\n",
       "      <td>38.548</td>\n",
       "      <td>13.218</td>\n",
       "      <td>0.343</td>\n",
       "      <td>0.533</td>\n",
       "      <td>-0.156</td>\n",
       "      <td>17.0</td>\n",
       "      <td>22.0</td>\n",
       "      <td>28.0</td>\n",
       "      <td>37.0</td>\n",
       "      <td>47.0</td>\n",
       "      <td>57.0</td>\n",
       "      <td>90.0</td>\n",
       "    </tr>\n",
       "    <tr>\n",
       "      <th>education-num</th>\n",
       "      <td>45222</td>\n",
       "      <td>0</td>\n",
       "      <td>0.0</td>\n",
       "      <td>0</td>\n",
       "      <td>0.000</td>\n",
       "      <td>10.118</td>\n",
       "      <td>2.553</td>\n",
       "      <td>0.252</td>\n",
       "      <td>-0.311</td>\n",
       "      <td>0.635</td>\n",
       "      <td>1.0</td>\n",
       "      <td>7.0</td>\n",
       "      <td>9.0</td>\n",
       "      <td>10.0</td>\n",
       "      <td>13.0</td>\n",
       "      <td>13.0</td>\n",
       "      <td>16.0</td>\n",
       "    </tr>\n",
       "    <tr>\n",
       "      <th>capital-gain</th>\n",
       "      <td>45222</td>\n",
       "      <td>0</td>\n",
       "      <td>0.0</td>\n",
       "      <td>41432</td>\n",
       "      <td>0.916</td>\n",
       "      <td>1101.430</td>\n",
       "      <td>7506.430</td>\n",
       "      <td>6.815</td>\n",
       "      <td>11.789</td>\n",
       "      <td>150.151</td>\n",
       "      <td>0.0</td>\n",
       "      <td>0.0</td>\n",
       "      <td>0.0</td>\n",
       "      <td>0.0</td>\n",
       "      <td>0.0</td>\n",
       "      <td>0.0</td>\n",
       "      <td>99999.0</td>\n",
       "    </tr>\n",
       "    <tr>\n",
       "      <th>capital-loss</th>\n",
       "      <td>45222</td>\n",
       "      <td>0</td>\n",
       "      <td>0.0</td>\n",
       "      <td>43082</td>\n",
       "      <td>0.953</td>\n",
       "      <td>88.595</td>\n",
       "      <td>404.956</td>\n",
       "      <td>4.571</td>\n",
       "      <td>4.516</td>\n",
       "      <td>19.364</td>\n",
       "      <td>0.0</td>\n",
       "      <td>0.0</td>\n",
       "      <td>0.0</td>\n",
       "      <td>0.0</td>\n",
       "      <td>0.0</td>\n",
       "      <td>0.0</td>\n",
       "      <td>4356.0</td>\n",
       "    </tr>\n",
       "    <tr>\n",
       "      <th>hours-per-week</th>\n",
       "      <td>45222</td>\n",
       "      <td>0</td>\n",
       "      <td>0.0</td>\n",
       "      <td>0</td>\n",
       "      <td>0.000</td>\n",
       "      <td>40.938</td>\n",
       "      <td>12.008</td>\n",
       "      <td>0.293</td>\n",
       "      <td>0.341</td>\n",
       "      <td>3.201</td>\n",
       "      <td>1.0</td>\n",
       "      <td>25.0</td>\n",
       "      <td>40.0</td>\n",
       "      <td>40.0</td>\n",
       "      <td>45.0</td>\n",
       "      <td>55.0</td>\n",
       "      <td>99.0</td>\n",
       "    </tr>\n",
       "  </tbody>\n",
       "</table>\n",
       "</div>"
      ],
      "text/plain": [
       "                count  nulls  perc_nulls  num_zeros  perc_zeros      mean    st_dev  coef of var  skewness  kurtosis   min   10%   25%   50%   75%   90%      max\n",
       "age             45222  0      0.0         0          0.000       38.548    13.218    0.343        0.533    -0.156     17.0  22.0  28.0  37.0  47.0  57.0  90.0   \n",
       "education-num   45222  0      0.0         0          0.000       10.118    2.553     0.252       -0.311     0.635     1.0   7.0   9.0   10.0  13.0  13.0  16.0   \n",
       "capital-gain    45222  0      0.0         41432      0.916       1101.430  7506.430  6.815        11.789    150.151   0.0   0.0   0.0   0.0   0.0   0.0   99999.0\n",
       "capital-loss    45222  0      0.0         43082      0.953       88.595    404.956   4.571        4.516     19.364    0.0   0.0   0.0   0.0   0.0   0.0   4356.0 \n",
       "hours-per-week  45222  0      0.0         0          0.000       40.938    12.008    0.293        0.341     3.201     1.0   25.0  40.0  40.0  45.0  55.0  99.0   "
      ]
     },
     "execution_count": 4,
     "metadata": {},
     "output_type": "execute_result"
    }
   ],
   "source": [
    "explore.numeric_summary()"
   ]
  },
  {
   "cell_type": "code",
   "execution_count": 5,
   "metadata": {},
   "outputs": [
    {
     "data": {
      "text/html": [
       "<div>\n",
       "<style scoped>\n",
       "    .dataframe tbody tr th:only-of-type {\n",
       "        vertical-align: middle;\n",
       "    }\n",
       "\n",
       "    .dataframe tbody tr th {\n",
       "        vertical-align: top;\n",
       "    }\n",
       "\n",
       "    .dataframe thead th {\n",
       "        text-align: right;\n",
       "    }\n",
       "</style>\n",
       "<table border=\"1\" class=\"dataframe\">\n",
       "  <thead>\n",
       "    <tr style=\"text-align: right;\">\n",
       "      <th></th>\n",
       "      <th>count</th>\n",
       "      <th>nulls</th>\n",
       "      <th>perc_nulls</th>\n",
       "      <th>top</th>\n",
       "      <th>unique</th>\n",
       "      <th>perc_unique</th>\n",
       "    </tr>\n",
       "  </thead>\n",
       "  <tbody>\n",
       "    <tr>\n",
       "      <th>workclass</th>\n",
       "      <td>45222</td>\n",
       "      <td>0</td>\n",
       "      <td>0.0</td>\n",
       "      <td>Private</td>\n",
       "      <td>7</td>\n",
       "      <td>0.000</td>\n",
       "    </tr>\n",
       "    <tr>\n",
       "      <th>education_level</th>\n",
       "      <td>45222</td>\n",
       "      <td>0</td>\n",
       "      <td>0.0</td>\n",
       "      <td>HS-grad</td>\n",
       "      <td>16</td>\n",
       "      <td>0.000</td>\n",
       "    </tr>\n",
       "    <tr>\n",
       "      <th>marital-status</th>\n",
       "      <td>45222</td>\n",
       "      <td>0</td>\n",
       "      <td>0.0</td>\n",
       "      <td>Married-civ-spouse</td>\n",
       "      <td>7</td>\n",
       "      <td>0.000</td>\n",
       "    </tr>\n",
       "    <tr>\n",
       "      <th>occupation</th>\n",
       "      <td>45222</td>\n",
       "      <td>0</td>\n",
       "      <td>0.0</td>\n",
       "      <td>Craft-repair</td>\n",
       "      <td>14</td>\n",
       "      <td>0.000</td>\n",
       "    </tr>\n",
       "    <tr>\n",
       "      <th>relationship</th>\n",
       "      <td>45222</td>\n",
       "      <td>0</td>\n",
       "      <td>0.0</td>\n",
       "      <td>Husband</td>\n",
       "      <td>6</td>\n",
       "      <td>0.000</td>\n",
       "    </tr>\n",
       "    <tr>\n",
       "      <th>race</th>\n",
       "      <td>45222</td>\n",
       "      <td>0</td>\n",
       "      <td>0.0</td>\n",
       "      <td>White</td>\n",
       "      <td>5</td>\n",
       "      <td>0.000</td>\n",
       "    </tr>\n",
       "    <tr>\n",
       "      <th>sex</th>\n",
       "      <td>45222</td>\n",
       "      <td>0</td>\n",
       "      <td>0.0</td>\n",
       "      <td>Male</td>\n",
       "      <td>2</td>\n",
       "      <td>0.000</td>\n",
       "    </tr>\n",
       "    <tr>\n",
       "      <th>native-country</th>\n",
       "      <td>45222</td>\n",
       "      <td>0</td>\n",
       "      <td>0.0</td>\n",
       "      <td>United-States</td>\n",
       "      <td>41</td>\n",
       "      <td>0.001</td>\n",
       "    </tr>\n",
       "    <tr>\n",
       "      <th>income</th>\n",
       "      <td>45222</td>\n",
       "      <td>0</td>\n",
       "      <td>0.0</td>\n",
       "      <td>&lt;=50K</td>\n",
       "      <td>2</td>\n",
       "      <td>0.000</td>\n",
       "    </tr>\n",
       "  </tbody>\n",
       "</table>\n",
       "</div>"
      ],
      "text/plain": [
       "                 count  nulls  perc_nulls                 top  unique  perc_unique\n",
       "workclass        45222  0      0.0         Private             7       0.000      \n",
       "education_level  45222  0      0.0         HS-grad             16      0.000      \n",
       "marital-status   45222  0      0.0         Married-civ-spouse  7       0.000      \n",
       "occupation       45222  0      0.0         Craft-repair        14      0.000      \n",
       "relationship     45222  0      0.0         Husband             6       0.000      \n",
       "race             45222  0      0.0         White               5       0.000      \n",
       "sex              45222  0      0.0         Male                2       0.000      \n",
       "native-country   45222  0      0.0         United-States       41      0.001      \n",
       "income           45222  0      0.0         <=50K               2       0.000      "
      ]
     },
     "execution_count": 5,
     "metadata": {},
     "output_type": "execute_result"
    }
   ],
   "source": [
    "explore.categoric_summary()"
   ]
  },
  {
   "cell_type": "code",
   "execution_count": 6,
   "metadata": {},
   "outputs": [
    {
     "data": {
      "image/png": "[encoded data removed]",
      "text/plain": [
       "<Figure size 720x576 with 2 Axes>"
      ]
     },
     "metadata": {},
     "output_type": "display_data"
    }
   ],
   "source": [
    "explore.plot_correlation_heatmap()"
   ]
  },
  {
   "cell_type": "code",
   "execution_count": 7,
   "metadata": {},
   "outputs": [],
   "source": [
    "# NOTE: since I will be cross-validating transformations e.g. GridSearchCV, it typically won't work to\n",
    "# one-hot-encode during cross-validation because the holdout fold will tend to have categoric values that\n",
    "# weren't found in the training folds, and therefore will break during transformation because it will encode\n",
    "# a value (i.e. add a column) that didn't exist in the training folds.\n",
    "# So, for this, we need to fit ALL data. Then, below if we have new data e.g. Kaggle, we have to apply\n",
    "# the same pipeline (i.e.  cat_encoding_pipeline.transform()\n",
    "# TODO: this breaks though if there are any categorical features with missing values in the final test/Kaggle set\n",
    "one_hot_transformer = oo.DummyEncodeTransformer(encoding=oo.CategoricalEncoding.ONE_HOT)\n",
    "transformed_data = one_hot_transformer.fit_transform(explore.dataset.drop(columns=target_variable))\n",
    "transformed_data[target_variable] = explore.dataset[target_variable]"
   ]
  },
  {
   "cell_type": "markdown",
   "metadata": {},
   "source": [
    "# Transformations & Transformation Tuning Parameters\n",
    "\n",
    "define the transformations we want to do, some transformations will have parameters (e.g. base of log tranform (or no transform), type of scaling, whether or not to add column combinations (e.g. age * hours-per-week)"
   ]
  },
  {
   "cell_type": "markdown",
   "metadata": {},
   "source": [
    "Below is the pipeline for captail-gain/lost. \n",
    "\n",
    "We want to tune whether or not we should log transform. We need to do this after imputing but before scaling, so it needs to be it's own pipeline."
   ]
  },
  {
   "cell_type": "code",
   "execution_count": 8,
   "metadata": {},
   "outputs": [],
   "source": [
    "cap_gain_loss_pipeline = Pipeline([\n",
    "        ('selector', DataFrameSelector(attribute_names=['capital-gain', 'capital-loss'])),\n",
    "        ('imputer', Imputer()),\n",
    "        # tune Log trasformation base (or no transformation); update: tuned - chose base e\n",
    "        ('custom_transform', CustomLogTransform(base=math.e)),\n",
    "        # tune \"net gain\" (have to do it after log transform; log of <=0 doesn't exist)\n",
    "        ('custom_cap_gain_minus_loss', CombineCapitalGainLossTransform(combine=True)),\n",
    "        # tune MinMax vs StandardScaler; we chose MinMax; update: tuned - chose MinMax\n",
    "        ('custom_scaler', ChooserTransform(base_transformer=MinMaxScaler())),\n",
    "    ])"
   ]
  },
  {
   "cell_type": "markdown",
   "metadata": {},
   "source": [
    "Below is the pipeline for the rest of numeric features:"
   ]
  },
  {
   "cell_type": "code",
   "execution_count": 9,
   "metadata": {},
   "outputs": [],
   "source": [
    "num_pipeline = Pipeline([\n",
    "        ('selector', DataFrameSelector(attribute_names=['age', 'education-num', 'hours-per-week'])),\n",
    "        ('imputer', Imputer()),\n",
    "        # tune age * hours-per-week; update: tuned -chose not to include\n",
    "        #('combine_agehours', CombineAgeHoursTransform()),\n",
    "        # tune MinMax vs StandardScaler; update: tuned - chose MinMax\n",
    "        ('custom_scaler', ChooserTransform(base_transformer=MinMaxScaler())),\n",
    "    ])"
   ]
  },
  {
   "cell_type": "markdown",
   "metadata": {},
   "source": [
    "Pipeline that simply gets the categorical/encoded columns from the previous transformation (which used `oo-learning`)"
   ]
  },
  {
   "cell_type": "code",
   "execution_count": 10,
   "metadata": {},
   "outputs": [],
   "source": [
    "append_categoricals = Pipeline([\n",
    "        ('append_cats', DataFrameSelector(attribute_names=one_hot_transformer.encoded_columns))  # already encoded\n",
    "    ])"
   ]
  },
  {
   "cell_type": "markdown",
   "metadata": {},
   "source": [
    "Below is the pipeline for combining all of the other pipelines"
   ]
  },
  {
   "cell_type": "code",
   "execution_count": 11,
   "metadata": {},
   "outputs": [],
   "source": [
    "# combine pipelines\n",
    "transformations_pipeline = FeatureUnion(transformer_list=[\n",
    "        (\"cap_gain_loss_pipeline\", cap_gain_loss_pipeline),\n",
    "        (\"num_pipeline\", num_pipeline),\n",
    "        (\"cat_pipeline\", append_categoricals),\n",
    "    ])"
   ]
  },
  {
   "cell_type": "markdown",
   "metadata": {},
   "source": [
    "Choose the transformations to tune, below:"
   ]
  },
  {
   "cell_type": "code",
   "execution_count": 12,
   "metadata": {},
   "outputs": [],
   "source": [
    "model = RandomForestClassifier(\n",
    "                      random_state=42,        \n",
    "                      #oob_score=True,\n",
    "                      #criterion=\"gini\",\n",
    "#                       max_features=\"auto\",\n",
    "#                       n_estimators=10,                  \n",
    "#                       max_depth=None,\n",
    "#                       min_samples_split=2,\n",
    "#                       min_samples_leaf=1,\n",
    "#                       min_weight_fraction_leaf=0.,\n",
    "#                       max_leaf_nodes=None,\n",
    "#                       min_impurity_decrease=0.,\n",
    "#                       min_impurity_split=None,\n",
    "                      \n",
    "    \n",
    "                     )"
   ]
  },
  {
   "cell_type": "code",
   "execution_count": 13,
   "metadata": {},
   "outputs": [],
   "source": [
    "full_pipeline = Pipeline([\n",
    "    ('preparation', transformations_pipeline),\n",
    "    #('pca_chooser', ChooserTransform()),  # PCA option lost; didn't include\n",
    "    #('feature_selection', TopFeatureSelector(feature_importances, k)),\n",
    "    ('model', model)\n",
    "])"
   ]
  },
  {
   "cell_type": "markdown",
   "metadata": {},
   "source": [
    "Tuning strategy according to https://www.analyticsvidhya.com/blog/2016/03/complete-guide-parameter-tuning-xgboost-with-codes-python/"
   ]
  },
  {
   "cell_type": "code",
   "execution_count": 14,
   "metadata": {},
   "outputs": [],
   "source": [
    "from scipy.stats import randint, uniform, expon\n",
    "model_param_dict = {\n",
    "        'model__max_features': uniform(.2, .8),\n",
    "        'model__n_estimators': randint(50, 2000),\n",
    "        'model__max_depth': randint(3, 100),\n",
    "        'model__min_samples_split': randint(2, 20),\n",
    "        'model__min_samples_leaf': randint(1, 20),\n",
    "}"
   ]
  },
  {
   "cell_type": "code",
   "execution_count": 15,
   "metadata": {},
   "outputs": [],
   "source": [
    "# actual hyper-parameters/options to tune for transformations.\n",
    "transformation_parameters = {\n",
    "         #'preparation__cap_gain_loss_pipeline__custom_transform__base': [None, math.e],  # Log transform (base e) or not\n",
    "         #'preparation__cap_gain_loss_pipeline__custom_cap_gain_minus_loss__combine': [True, False],\n",
    "         #'preparation__cap_gain_loss_pipeline__custom_scaler__base_transformer': [MinMaxScaler(), StandardScaler()],\n",
    "         #'preparation__num_pipeline__imputer__strategy': ['mean', 'median', 'most_frequent'],  # tune strategy\n",
    "         #'preparation__num_pipeline__custom_scaler__base_transformer': [MinMaxScaler(), StandardScaler()],\n",
    "         #'preparation__num_pipeline__combine_agehours__combine': [True, False],\n",
    "         #'pca_chooser__base_transformer': [PCA(n_components=0.95, random_state=42), None],  # PCA vs not\n",
    "         \n",
    "    }"
   ]
  },
  {
   "cell_type": "code",
   "execution_count": 16,
   "metadata": {
    "scrolled": true
   },
   "outputs": [
    {
     "data": {
      "text/plain": [
       "{'model__max_features': <scipy.stats._distn_infrastructure.rv_frozen at 0x1062421d0>,\n",
       " 'model__n_estimators': <scipy.stats._distn_infrastructure.rv_frozen at 0x106242e10>,\n",
       " 'model__max_depth': <scipy.stats._distn_infrastructure.rv_frozen at 0x1062425c0>,\n",
       " 'model__min_samples_split': <scipy.stats._distn_infrastructure.rv_frozen at 0x106242b70>,\n",
       " 'model__min_samples_leaf': <scipy.stats._distn_infrastructure.rv_frozen at 0x106266208>}"
      ]
     },
     "execution_count": 16,
     "metadata": {},
     "output_type": "execute_result"
    }
   ],
   "source": [
    "param_grid = {**transformation_parameters, **model_param_dict}\n",
    "param_grid"
   ]
  },
  {
   "cell_type": "code",
   "execution_count": 17,
   "metadata": {},
   "outputs": [],
   "source": [
    "# def binary_roc_auc(y_true, y_score):\n",
    "#     return roc_auc_score(y_true=y_true,\n",
    "#                          # binary makes it so it converts the \"scores\" to predictions\n",
    "#                          y_score=[1 if x > 0.5 else 0 for x in y_score])\n",
    "\n",
    "scorer = make_scorer(roc_auc_score, greater_is_better=True)"
   ]
  },
  {
   "cell_type": "code",
   "execution_count": 18,
   "metadata": {},
   "outputs": [],
   "source": [
    "y =  transformed_data[target_variable].apply(lambda x: 1 if x == positive_class else 0)"
   ]
  },
  {
   "cell_type": "code",
   "execution_count": 19,
   "metadata": {},
   "outputs": [
    {
     "data": {
      "text/plain": [
       "array(['<=50K', '<=50K', '<=50K', '<=50K', '<=50K', '<=50K', '<=50K',\n",
       "       '>50K', '>50K', '>50K'], dtype=object)"
      ]
     },
     "execution_count": 19,
     "metadata": {},
     "output_type": "execute_result"
    }
   ],
   "source": [
    "transformed_data[target_variable].values[0:10]"
   ]
  },
  {
   "cell_type": "code",
   "execution_count": 20,
   "metadata": {},
   "outputs": [
    {
     "data": {
      "text/plain": [
       "0    0\n",
       "1    0\n",
       "2    0\n",
       "3    0\n",
       "4    0\n",
       "5    0\n",
       "6    0\n",
       "7    1\n",
       "8    1\n",
       "9    1\n",
       "Name: income, dtype: int64"
      ]
     },
     "execution_count": 20,
     "metadata": {},
     "output_type": "execute_result"
    }
   ],
   "source": [
    "y[0:10]"
   ]
  },
  {
   "cell_type": "code",
   "execution_count": 21,
   "metadata": {
    "scrolled": true
   },
   "outputs": [
    {
     "name": "stdout",
     "output_type": "stream",
     "text": [
      "Starting....\n",
      "Fitting 5 folds for each of 40 candidates, totalling 200 fits\n",
      "[CV] model__max_depth=31, model__max_features=0.8268839266552601, model__min_samples_leaf=6, model__min_samples_split=2, model__n_estimators=614 \n",
      "[CV] model__max_depth=31, model__max_features=0.8268839266552601, model__min_samples_leaf=6, model__min_samples_split=2, model__n_estimators=614 \n",
      "[CV] model__max_depth=31, model__max_features=0.8268839266552601, model__min_samples_leaf=6, model__min_samples_split=2, model__n_estimators=614 \n",
      "[CV] model__max_depth=31, model__max_features=0.8268839266552601, model__min_samples_leaf=6, model__min_samples_split=2, model__n_estimators=614 \n",
      "[CV] model__max_depth=31, model__max_features=0.8268839266552601, model__min_samples_leaf=6, model__min_samples_split=2, model__n_estimators=614 \n",
      "[CV] model__max_depth=57, model__max_features=0.6634777723233736, model__min_samples_leaf=12, model__min_samples_split=9, model__n_estimators=1990 \n",
      "[CV] model__max_depth=57, model__max_features=0.6634777723233736, model__min_samples_leaf=12, model__min_samples_split=9, model__n_estimators=1990 \n",
      "[CV] model__max_depth=57, model__max_features=0.6634777723233736, model__min_samples_leaf=12, model__min_samples_split=9, model__n_estimators=1990 \n",
      "[CV]  model__max_depth=31, model__max_features=0.8268839266552601, model__min_samples_leaf=6, model__min_samples_split=2, model__n_estimators=614, total= 8.7min\n",
      "[CV] model__max_depth=57, model__max_features=0.6634777723233736, model__min_samples_leaf=12, model__min_samples_split=9, model__n_estimators=1990 \n",
      "[CV]  model__max_depth=31, model__max_features=0.8268839266552601, model__min_samples_leaf=6, model__min_samples_split=2, model__n_estimators=614, total= 8.8min\n",
      "[CV] model__max_depth=57, model__max_features=0.6634777723233736, model__min_samples_leaf=12, model__min_samples_split=9, model__n_estimators=1990 \n",
      "[CV]  model__max_depth=31, model__max_features=0.8268839266552601, model__min_samples_leaf=6, model__min_samples_split=2, model__n_estimators=614, total= 8.9min\n",
      "[CV] model__max_depth=15, model__max_features=0.43030360134123313, model__min_samples_leaf=16, model__min_samples_split=18, model__n_estimators=1698 \n",
      "[CV]  model__max_depth=31, model__max_features=0.8268839266552601, model__min_samples_leaf=6, model__min_samples_split=2, model__n_estimators=614, total= 9.0min\n",
      "[CV]  model__max_depth=31, model__max_features=0.8268839266552601, model__min_samples_leaf=6, model__min_samples_split=2, model__n_estimators=614, total= 9.0min\n",
      "[CV] model__max_depth=15, model__max_features=0.43030360134123313, model__min_samples_leaf=16, model__min_samples_split=18, model__n_estimators=1698 \n",
      "[CV] model__max_depth=15, model__max_features=0.43030360134123313, model__min_samples_leaf=16, model__min_samples_split=18, model__n_estimators=1698 \n",
      "[CV]  model__max_depth=15, model__max_features=0.43030360134123313, model__min_samples_leaf=16, model__min_samples_split=18, model__n_estimators=1698, total=12.1min\n",
      "[CV] model__max_depth=15, model__max_features=0.43030360134123313, model__min_samples_leaf=16, model__min_samples_split=18, model__n_estimators=1698 \n",
      "[CV]  model__max_depth=15, model__max_features=0.43030360134123313, model__min_samples_leaf=16, model__min_samples_split=18, model__n_estimators=1698, total=12.0min\n",
      "[CV] model__max_depth=15, model__max_features=0.43030360134123313, model__min_samples_leaf=16, model__min_samples_split=18, model__n_estimators=1698 \n",
      "[CV]  model__max_depth=15, model__max_features=0.43030360134123313, model__min_samples_leaf=16, model__min_samples_split=18, model__n_estimators=1698, total=12.2min\n",
      "[CV] model__max_depth=93, model__max_features=0.5798939954369224, model__min_samples_leaf=3, model__min_samples_split=14, model__n_estimators=1810 \n",
      "[CV]  model__max_depth=57, model__max_features=0.6634777723233736, model__min_samples_leaf=12, model__min_samples_split=9, model__n_estimators=1990, total=22.2min\n",
      "[CV] model__max_depth=93, model__max_features=0.5798939954369224, model__min_samples_leaf=3, model__min_samples_split=14, model__n_estimators=1810 \n",
      "[CV]  model__max_depth=57, model__max_features=0.6634777723233736, model__min_samples_leaf=12, model__min_samples_split=9, model__n_estimators=1990, total=22.3min\n",
      "[CV] model__max_depth=93, model__max_features=0.5798939954369224, model__min_samples_leaf=3, model__min_samples_split=14, model__n_estimators=1810 \n",
      "[CV]  model__max_depth=57, model__max_features=0.6634777723233736, model__min_samples_leaf=12, model__min_samples_split=9, model__n_estimators=1990, total=22.4min\n",
      "[CV] model__max_depth=93, model__max_features=0.5798939954369224, model__min_samples_leaf=3, model__min_samples_split=14, model__n_estimators=1810 \n",
      "[CV]  model__max_depth=57, model__max_features=0.6634777723233736, model__min_samples_leaf=12, model__min_samples_split=9, model__n_estimators=1990, total=25.8min\n",
      "[CV] model__max_depth=93, model__max_features=0.5798939954369224, model__min_samples_leaf=3, model__min_samples_split=14, model__n_estimators=1810 \n",
      "[CV]  model__max_depth=57, model__max_features=0.6634777723233736, model__min_samples_leaf=12, model__min_samples_split=9, model__n_estimators=1990, total=25.9min\n",
      "[CV] model__max_depth=46, model__max_features=0.3267419200887751, model__min_samples_leaf=9, model__min_samples_split=10, model__n_estimators=1162 \n",
      "[CV]  model__max_depth=15, model__max_features=0.43030360134123313, model__min_samples_leaf=16, model__min_samples_split=18, model__n_estimators=1698, total=15.8min\n",
      "[CV] model__max_depth=46, model__max_features=0.3267419200887751, model__min_samples_leaf=9, model__min_samples_split=10, model__n_estimators=1162 \n",
      "[CV]  model__max_depth=15, model__max_features=0.43030360134123313, model__min_samples_leaf=16, model__min_samples_split=18, model__n_estimators=1698, total=15.9min\n",
      "[CV] model__max_depth=46, model__max_features=0.3267419200887751, model__min_samples_leaf=9, model__min_samples_split=10, model__n_estimators=1162 \n",
      "[CV]  model__max_depth=46, model__max_features=0.3267419200887751, model__min_samples_leaf=9, model__min_samples_split=10, model__n_estimators=1162, total= 8.1min\n",
      "[CV] model__max_depth=46, model__max_features=0.3267419200887751, model__min_samples_leaf=9, model__min_samples_split=10, model__n_estimators=1162 \n",
      "[CV]  model__max_depth=46, model__max_features=0.3267419200887751, model__min_samples_leaf=9, model__min_samples_split=10, model__n_estimators=1162, total= 7.3min\n",
      "[CV] model__max_depth=46, model__max_features=0.3267419200887751, model__min_samples_leaf=9, model__min_samples_split=10, model__n_estimators=1162 \n",
      "[CV]  model__max_depth=46, model__max_features=0.3267419200887751, model__min_samples_leaf=9, model__min_samples_split=10, model__n_estimators=1162, total= 7.4min\n",
      "[CV] model__max_depth=96, model__max_features=0.4087148680294206, model__min_samples_leaf=2, model__min_samples_split=16, model__n_estimators=1815 \n",
      "[CV]  model__max_depth=93, model__max_features=0.5798939954369224, model__min_samples_leaf=3, model__min_samples_split=14, model__n_estimators=1810, total=24.0min\n",
      "[CV] model__max_depth=96, model__max_features=0.4087148680294206, model__min_samples_leaf=2, model__min_samples_split=16, model__n_estimators=1815 \n",
      "[CV]  model__max_depth=93, model__max_features=0.5798939954369224, model__min_samples_leaf=3, model__min_samples_split=14, model__n_estimators=1810, total=23.7min\n",
      "[CV] model__max_depth=96, model__max_features=0.4087148680294206, model__min_samples_leaf=2, model__min_samples_split=16, model__n_estimators=1815 \n",
      "[CV]  model__max_depth=93, model__max_features=0.5798939954369224, model__min_samples_leaf=3, model__min_samples_split=14, model__n_estimators=1810, total=23.9min\n",
      "[CV] model__max_depth=96, model__max_features=0.4087148680294206, model__min_samples_leaf=2, model__min_samples_split=16, model__n_estimators=1815 \n",
      "[CV]  model__max_depth=93, model__max_features=0.5798939954369224, model__min_samples_leaf=3, model__min_samples_split=14, model__n_estimators=1810, total=24.2min\n",
      "[CV] model__max_depth=96, model__max_features=0.4087148680294206, model__min_samples_leaf=2, model__min_samples_split=16, model__n_estimators=1815 \n",
      "[CV]  model__max_depth=46, model__max_features=0.3267419200887751, model__min_samples_leaf=9, model__min_samples_split=10, model__n_estimators=1162, total= 7.3min\n"
     ]
    },
    {
     "name": "stdout",
     "output_type": "stream",
     "text": [
      "[CV] model__max_depth=79, model__max_features=0.5158825326984933, model__min_samples_leaf=14, model__min_samples_split=2, model__n_estimators=452 \n",
      "[CV]  model__max_depth=46, model__max_features=0.3267419200887751, model__min_samples_leaf=9, model__min_samples_split=10, model__n_estimators=1162, total= 7.2min\n",
      "[CV] model__max_depth=79, model__max_features=0.5158825326984933, model__min_samples_leaf=14, model__min_samples_split=2, model__n_estimators=452 \n",
      "[CV]  model__max_depth=79, model__max_features=0.5158825326984933, model__min_samples_leaf=14, model__min_samples_split=2, model__n_estimators=452, total= 4.1min\n",
      "[CV] model__max_depth=79, model__max_features=0.5158825326984933, model__min_samples_leaf=14, model__min_samples_split=2, model__n_estimators=452 \n"
     ]
    },
    {
     "name": "stderr",
     "output_type": "stream",
     "text": [
      "[Parallel(n_jobs=-1)]: Done  25 tasks      | elapsed: 56.1min\n"
     ]
    },
    {
     "name": "stdout",
     "output_type": "stream",
     "text": [
      "[CV]  model__max_depth=93, model__max_features=0.5798939954369224, model__min_samples_leaf=3, model__min_samples_split=14, model__n_estimators=1810, total=21.1min\n",
      "[CV] model__max_depth=79, model__max_features=0.5158825326984933, model__min_samples_leaf=14, model__min_samples_split=2, model__n_estimators=452 \n",
      "[CV]  model__max_depth=79, model__max_features=0.5158825326984933, model__min_samples_leaf=14, model__min_samples_split=2, model__n_estimators=452, total= 4.0min\n",
      "[CV] model__max_depth=79, model__max_features=0.5158825326984933, model__min_samples_leaf=14, model__min_samples_split=2, model__n_estimators=452 \n",
      "[CV]  model__max_depth=79, model__max_features=0.5158825326984933, model__min_samples_leaf=14, model__min_samples_split=2, model__n_estimators=452, total= 4.2min\n",
      "[CV] model__max_depth=36, model__max_features=0.9435257048037449, model__min_samples_leaf=12, model__min_samples_split=6, model__n_estimators=290 \n",
      "[CV]  model__max_depth=96, model__max_features=0.4087148680294206, model__min_samples_leaf=2, model__min_samples_split=16, model__n_estimators=1815, total=15.1min\n",
      "[CV] model__max_depth=36, model__max_features=0.9435257048037449, model__min_samples_leaf=12, model__min_samples_split=6, model__n_estimators=290 \n",
      "[CV]  model__max_depth=79, model__max_features=0.5158825326984933, model__min_samples_leaf=14, model__min_samples_split=2, model__n_estimators=452, total= 4.2min\n",
      "[CV] model__max_depth=36, model__max_features=0.9435257048037449, model__min_samples_leaf=12, model__min_samples_split=6, model__n_estimators=290 \n",
      "[CV]  model__max_depth=79, model__max_features=0.5158825326984933, model__min_samples_leaf=14, model__min_samples_split=2, model__n_estimators=452, total= 4.2min\n",
      "[CV] model__max_depth=36, model__max_features=0.9435257048037449, model__min_samples_leaf=12, model__min_samples_split=6, model__n_estimators=290 \n",
      "[CV]  model__max_depth=96, model__max_features=0.4087148680294206, model__min_samples_leaf=2, model__min_samples_split=16, model__n_estimators=1815, total=14.9min\n",
      "[CV] model__max_depth=36, model__max_features=0.9435257048037449, model__min_samples_leaf=12, model__min_samples_split=6, model__n_estimators=290 \n",
      "[CV]  model__max_depth=96, model__max_features=0.4087148680294206, model__min_samples_leaf=2, model__min_samples_split=16, model__n_estimators=1815, total=15.1min\n",
      "[CV] model__max_depth=31, model__max_features=0.33233809043336837, model__min_samples_leaf=12, model__min_samples_split=14, model__n_estimators=1521 \n",
      "[CV]  model__max_depth=96, model__max_features=0.4087148680294206, model__min_samples_leaf=2, model__min_samples_split=16, model__n_estimators=1815, total=15.1min\n",
      "[CV] model__max_depth=31, model__max_features=0.33233809043336837, model__min_samples_leaf=12, model__min_samples_split=14, model__n_estimators=1521 \n",
      "[CV]  model__max_depth=96, model__max_features=0.4087148680294206, model__min_samples_leaf=2, model__min_samples_split=16, model__n_estimators=1815, total=15.1min\n",
      "[CV] model__max_depth=31, model__max_features=0.33233809043336837, model__min_samples_leaf=12, model__min_samples_split=14, model__n_estimators=1521 \n",
      "[CV]  model__max_depth=36, model__max_features=0.9435257048037449, model__min_samples_leaf=12, model__min_samples_split=6, model__n_estimators=290, total= 4.7min\n",
      "[CV] model__max_depth=31, model__max_features=0.33233809043336837, model__min_samples_leaf=12, model__min_samples_split=14, model__n_estimators=1521 \n",
      "[CV]  model__max_depth=36, model__max_features=0.9435257048037449, model__min_samples_leaf=12, model__min_samples_split=6, model__n_estimators=290, total= 4.6min\n",
      "[CV] model__max_depth=31, model__max_features=0.33233809043336837, model__min_samples_leaf=12, model__min_samples_split=14, model__n_estimators=1521 \n",
      "[CV]  model__max_depth=36, model__max_features=0.9435257048037449, model__min_samples_leaf=12, model__min_samples_split=6, model__n_estimators=290, total= 4.7min\n",
      "[CV] model__max_depth=76, model__max_features=0.9547428617050042, model__min_samples_leaf=13, model__min_samples_split=18, model__n_estimators=909 \n",
      "[CV]  model__max_depth=36, model__max_features=0.9435257048037449, model__min_samples_leaf=12, model__min_samples_split=6, model__n_estimators=290, total= 4.7min\n",
      "[CV] model__max_depth=76, model__max_features=0.9547428617050042, model__min_samples_leaf=13, model__min_samples_split=18, model__n_estimators=909 \n",
      "[CV]  model__max_depth=36, model__max_features=0.9435257048037449, model__min_samples_leaf=12, model__min_samples_split=6, model__n_estimators=290, total= 4.7min\n",
      "[CV] model__max_depth=76, model__max_features=0.9547428617050042, model__min_samples_leaf=13, model__min_samples_split=18, model__n_estimators=909 \n",
      "[CV]  model__max_depth=31, model__max_features=0.33233809043336837, model__min_samples_leaf=12, model__min_samples_split=14, model__n_estimators=1521, total=10.1min\n",
      "[CV] model__max_depth=76, model__max_features=0.9547428617050042, model__min_samples_leaf=13, model__min_samples_split=18, model__n_estimators=909 \n",
      "[CV]  model__max_depth=31, model__max_features=0.33233809043336837, model__min_samples_leaf=12, model__min_samples_split=14, model__n_estimators=1521, total= 9.9min\n",
      "[CV] model__max_depth=76, model__max_features=0.9547428617050042, model__min_samples_leaf=13, model__min_samples_split=18, model__n_estimators=909 \n",
      "[CV]  model__max_depth=31, model__max_features=0.33233809043336837, model__min_samples_leaf=12, model__min_samples_split=14, model__n_estimators=1521, total=10.0min\n",
      "[CV] model__max_depth=71, model__max_features=0.44276769426590046, model__min_samples_leaf=12, model__min_samples_split=14, model__n_estimators=1460 \n",
      "[CV]  model__max_depth=31, model__max_features=0.33233809043336837, model__min_samples_leaf=12, model__min_samples_split=14, model__n_estimators=1521, total=10.1min\n",
      "[CV] model__max_depth=71, model__max_features=0.44276769426590046, model__min_samples_leaf=12, model__min_samples_split=14, model__n_estimators=1460 \n",
      "[CV]  model__max_depth=31, model__max_features=0.33233809043336837, model__min_samples_leaf=12, model__min_samples_split=14, model__n_estimators=1521, total= 9.9min\n",
      "[CV] model__max_depth=71, model__max_features=0.44276769426590046, model__min_samples_leaf=12, model__min_samples_split=14, model__n_estimators=1460 \n",
      "[CV]  model__max_depth=76, model__max_features=0.9547428617050042, model__min_samples_leaf=13, model__min_samples_split=18, model__n_estimators=909, total=14.6min\n",
      "[CV] model__max_depth=71, model__max_features=0.44276769426590046, model__min_samples_leaf=12, model__min_samples_split=14, model__n_estimators=1460 \n",
      "[CV]  model__max_depth=76, model__max_features=0.9547428617050042, model__min_samples_leaf=13, model__min_samples_split=18, model__n_estimators=909, total=14.6min\n",
      "[CV] model__max_depth=71, model__max_features=0.44276769426590046, model__min_samples_leaf=12, model__min_samples_split=14, model__n_estimators=1460 \n",
      "[CV]  model__max_depth=76, model__max_features=0.9547428617050042, model__min_samples_leaf=13, model__min_samples_split=18, model__n_estimators=909, total=14.6min\n",
      "[CV] model__max_depth=25, model__max_features=0.8312208426881189, model__min_samples_leaf=13, model__min_samples_split=16, model__n_estimators=709 \n",
      "[CV]  model__max_depth=71, model__max_features=0.44276769426590046, model__min_samples_leaf=12, model__min_samples_split=14, model__n_estimators=1460, total=12.2min\n",
      "[CV] model__max_depth=25, model__max_features=0.8312208426881189, model__min_samples_leaf=13, model__min_samples_split=16, model__n_estimators=709 \n",
      "[CV]  model__max_depth=71, model__max_features=0.44276769426590046, model__min_samples_leaf=12, model__min_samples_split=14, model__n_estimators=1460, total=12.0min\n",
      "[CV] model__max_depth=25, model__max_features=0.8312208426881189, model__min_samples_leaf=13, model__min_samples_split=16, model__n_estimators=709 \n",
      "[CV]  model__max_depth=76, model__max_features=0.9547428617050042, model__min_samples_leaf=13, model__min_samples_split=18, model__n_estimators=909, total=14.7min\n",
      "[CV] model__max_depth=25, model__max_features=0.8312208426881189, model__min_samples_leaf=13, model__min_samples_split=16, model__n_estimators=709 \n",
      "[CV]  model__max_depth=76, model__max_features=0.9547428617050042, model__min_samples_leaf=13, model__min_samples_split=18, model__n_estimators=909, total=14.8min\n"
     ]
    },
    {
     "name": "stdout",
     "output_type": "stream",
     "text": [
      "[CV] model__max_depth=25, model__max_features=0.8312208426881189, model__min_samples_leaf=13, model__min_samples_split=16, model__n_estimators=709 \n",
      "[CV]  model__max_depth=71, model__max_features=0.44276769426590046, model__min_samples_leaf=12, model__min_samples_split=14, model__n_estimators=1460, total=12.1min\n",
      "[CV] model__max_depth=60, model__max_features=0.6495536649513012, model__min_samples_leaf=14, model__min_samples_split=3, model__n_estimators=1719 \n",
      "[CV]  model__max_depth=25, model__max_features=0.8312208426881189, model__min_samples_leaf=13, model__min_samples_split=16, model__n_estimators=709, total=10.8min\n",
      "[CV] model__max_depth=60, model__max_features=0.6495536649513012, model__min_samples_leaf=14, model__min_samples_split=3, model__n_estimators=1719 \n",
      "[CV]  model__max_depth=71, model__max_features=0.44276769426590046, model__min_samples_leaf=12, model__min_samples_split=14, model__n_estimators=1460, total=14.0min\n",
      "[CV] model__max_depth=60, model__max_features=0.6495536649513012, model__min_samples_leaf=14, model__min_samples_split=3, model__n_estimators=1719 \n",
      "[CV]  model__max_depth=71, model__max_features=0.44276769426590046, model__min_samples_leaf=12, model__min_samples_split=14, model__n_estimators=1460, total=14.0min\n",
      "[CV] model__max_depth=60, model__max_features=0.6495536649513012, model__min_samples_leaf=14, model__min_samples_split=3, model__n_estimators=1719 \n",
      "[CV]  model__max_depth=25, model__max_features=0.8312208426881189, model__min_samples_leaf=13, model__min_samples_split=16, model__n_estimators=709, total=13.0min\n",
      "[CV] model__max_depth=60, model__max_features=0.6495536649513012, model__min_samples_leaf=14, model__min_samples_split=3, model__n_estimators=1719 \n",
      "[CV]  model__max_depth=25, model__max_features=0.8312208426881189, model__min_samples_leaf=13, model__min_samples_split=16, model__n_estimators=709, total=14.1min\n",
      "[CV] model__max_depth=24, model__max_features=0.38372266017748136, model__min_samples_leaf=12, model__min_samples_split=14, model__n_estimators=1847 \n",
      "[CV]  model__max_depth=25, model__max_features=0.8312208426881189, model__min_samples_leaf=13, model__min_samples_split=16, model__n_estimators=709, total=14.3min\n",
      "[CV] model__max_depth=24, model__max_features=0.38372266017748136, model__min_samples_leaf=12, model__min_samples_split=14, model__n_estimators=1847 \n",
      "[CV]  model__max_depth=25, model__max_features=0.8312208426881189, model__min_samples_leaf=13, model__min_samples_split=16, model__n_estimators=709, total=14.3min\n",
      "[CV] model__max_depth=24, model__max_features=0.38372266017748136, model__min_samples_leaf=12, model__min_samples_split=14, model__n_estimators=1847 \n",
      "[CV]  model__max_depth=60, model__max_features=0.6495536649513012, model__min_samples_leaf=14, model__min_samples_split=3, model__n_estimators=1719, total=27.5min\n",
      "[CV] model__max_depth=24, model__max_features=0.38372266017748136, model__min_samples_leaf=12, model__min_samples_split=14, model__n_estimators=1847 \n",
      "[CV]  model__max_depth=60, model__max_features=0.6495536649513012, model__min_samples_leaf=14, model__min_samples_split=3, model__n_estimators=1719, total=26.2min\n",
      "[CV] model__max_depth=24, model__max_features=0.38372266017748136, model__min_samples_leaf=12, model__min_samples_split=14, model__n_estimators=1847 \n",
      "[CV]  model__max_depth=24, model__max_features=0.38372266017748136, model__min_samples_leaf=12, model__min_samples_split=14, model__n_estimators=1847, total=16.9min\n",
      "[CV] model__max_depth=96, model__max_features=0.8162250465927565, model__min_samples_leaf=2, model__min_samples_split=5, model__n_estimators=1708 \n",
      "[CV]  model__max_depth=24, model__max_features=0.38372266017748136, model__min_samples_leaf=12, model__min_samples_split=14, model__n_estimators=1847, total=16.4min\n",
      "[CV] model__max_depth=96, model__max_features=0.8162250465927565, model__min_samples_leaf=2, model__min_samples_split=5, model__n_estimators=1708 \n",
      "[CV]  model__max_depth=24, model__max_features=0.38372266017748136, model__min_samples_leaf=12, model__min_samples_split=14, model__n_estimators=1847, total=16.6min\n",
      "[CV] model__max_depth=96, model__max_features=0.8162250465927565, model__min_samples_leaf=2, model__min_samples_split=5, model__n_estimators=1708 \n",
      "[CV]  model__max_depth=60, model__max_features=0.6495536649513012, model__min_samples_leaf=14, model__min_samples_split=3, model__n_estimators=1719, total=25.0min\n",
      "[CV] model__max_depth=96, model__max_features=0.8162250465927565, model__min_samples_leaf=2, model__min_samples_split=5, model__n_estimators=1708 \n",
      "[CV]  model__max_depth=60, model__max_features=0.6495536649513012, model__min_samples_leaf=14, model__min_samples_split=3, model__n_estimators=1719, total=25.1min\n",
      "[CV] model__max_depth=96, model__max_features=0.8162250465927565, model__min_samples_leaf=2, model__min_samples_split=5, model__n_estimators=1708 \n",
      "[CV]  model__max_depth=60, model__max_features=0.6495536649513012, model__min_samples_leaf=14, model__min_samples_split=3, model__n_estimators=1719, total=23.4min\n",
      "[CV] model__max_depth=41, model__max_features=0.5053824267955953, model__min_samples_leaf=15, model__min_samples_split=11, model__n_estimators=251 \n",
      "[CV]  model__max_depth=41, model__max_features=0.5053824267955953, model__min_samples_leaf=15, model__min_samples_split=11, model__n_estimators=251, total= 2.0min\n",
      "[CV] model__max_depth=41, model__max_features=0.5053824267955953, model__min_samples_leaf=15, model__min_samples_split=11, model__n_estimators=251 \n",
      "[CV]  model__max_depth=41, model__max_features=0.5053824267955953, model__min_samples_leaf=15, model__min_samples_split=11, model__n_estimators=251, total= 2.0min\n",
      "[CV] model__max_depth=41, model__max_features=0.5053824267955953, model__min_samples_leaf=15, model__min_samples_split=11, model__n_estimators=251 \n",
      "[CV]  model__max_depth=24, model__max_features=0.38372266017748136, model__min_samples_leaf=12, model__min_samples_split=14, model__n_estimators=1847, total=11.8min\n",
      "[CV] model__max_depth=41, model__max_features=0.5053824267955953, model__min_samples_leaf=15, model__min_samples_split=11, model__n_estimators=251 \n",
      "[CV]  model__max_depth=41, model__max_features=0.5053824267955953, model__min_samples_leaf=15, model__min_samples_split=11, model__n_estimators=251, total= 2.0min\n",
      "[CV] model__max_depth=41, model__max_features=0.5053824267955953, model__min_samples_leaf=15, model__min_samples_split=11, model__n_estimators=251 \n",
      "[CV]  model__max_depth=41, model__max_features=0.5053824267955953, model__min_samples_leaf=15, model__min_samples_split=11, model__n_estimators=251, total= 2.0min\n",
      "[CV] model__max_depth=39, model__max_features=0.8216408049669899, model__min_samples_leaf=10, model__min_samples_split=5, model__n_estimators=1134 \n",
      "[CV]  model__max_depth=24, model__max_features=0.38372266017748136, model__min_samples_leaf=12, model__min_samples_split=14, model__n_estimators=1847, total=11.7min\n",
      "[CV] model__max_depth=39, model__max_features=0.8216408049669899, model__min_samples_leaf=10, model__min_samples_split=5, model__n_estimators=1134 \n",
      "[CV]  model__max_depth=41, model__max_features=0.5053824267955953, model__min_samples_leaf=15, model__min_samples_split=11, model__n_estimators=251, total= 2.0min\n",
      "[CV] model__max_depth=39, model__max_features=0.8216408049669899, model__min_samples_leaf=10, model__min_samples_split=5, model__n_estimators=1134 \n",
      "[CV]  model__max_depth=96, model__max_features=0.8162250465927565, model__min_samples_leaf=2, model__min_samples_split=5, model__n_estimators=1708, total=23.5min\n",
      "[CV] model__max_depth=39, model__max_features=0.8216408049669899, model__min_samples_leaf=10, model__min_samples_split=5, model__n_estimators=1134 \n",
      "[CV]  model__max_depth=96, model__max_features=0.8162250465927565, model__min_samples_leaf=2, model__min_samples_split=5, model__n_estimators=1708, total=24.2min\n",
      "[CV] model__max_depth=39, model__max_features=0.8216408049669899, model__min_samples_leaf=10, model__min_samples_split=5, model__n_estimators=1134 \n",
      "[CV]  model__max_depth=96, model__max_features=0.8162250465927565, model__min_samples_leaf=2, model__min_samples_split=5, model__n_estimators=1708, total=24.1min\n",
      "[CV] model__max_depth=36, model__max_features=0.4544809813980024, model__min_samples_leaf=11, model__min_samples_split=12, model__n_estimators=732 \n"
     ]
    },
    {
     "name": "stdout",
     "output_type": "stream",
     "text": [
      "[CV]  model__max_depth=39, model__max_features=0.8216408049669899, model__min_samples_leaf=10, model__min_samples_split=5, model__n_estimators=1134, total=14.1min\n",
      "[CV] model__max_depth=36, model__max_features=0.4544809813980024, model__min_samples_leaf=11, model__min_samples_split=12, model__n_estimators=732 \n",
      "[CV]  model__max_depth=39, model__max_features=0.8216408049669899, model__min_samples_leaf=10, model__min_samples_split=5, model__n_estimators=1134, total=14.3min\n",
      "[CV] model__max_depth=36, model__max_features=0.4544809813980024, model__min_samples_leaf=11, model__min_samples_split=12, model__n_estimators=732 \n",
      "[CV]  model__max_depth=96, model__max_features=0.8162250465927565, model__min_samples_leaf=2, model__min_samples_split=5, model__n_estimators=1708, total=24.3min\n",
      "[CV] model__max_depth=36, model__max_features=0.4544809813980024, model__min_samples_leaf=11, model__min_samples_split=12, model__n_estimators=732 \n",
      "[CV]  model__max_depth=96, model__max_features=0.8162250465927565, model__min_samples_leaf=2, model__min_samples_split=5, model__n_estimators=1708, total=24.2min\n",
      "[CV] model__max_depth=36, model__max_features=0.4544809813980024, model__min_samples_leaf=11, model__min_samples_split=12, model__n_estimators=732 \n",
      "[CV]  model__max_depth=39, model__max_features=0.8216408049669899, model__min_samples_leaf=10, model__min_samples_split=5, model__n_estimators=1134, total=14.4min\n",
      "[CV] model__max_depth=24, model__max_features=0.7538148128354751, model__min_samples_leaf=14, model__min_samples_split=7, model__n_estimators=1200 \n",
      "[CV]  model__max_depth=36, model__max_features=0.4544809813980024, model__min_samples_leaf=11, model__min_samples_split=12, model__n_estimators=732, total= 5.5min\n",
      "[CV] model__max_depth=24, model__max_features=0.7538148128354751, model__min_samples_leaf=14, model__min_samples_split=7, model__n_estimators=1200 \n",
      "[CV]  model__max_depth=36, model__max_features=0.4544809813980024, model__min_samples_leaf=11, model__min_samples_split=12, model__n_estimators=732, total= 5.4min\n",
      "[CV] model__max_depth=24, model__max_features=0.7538148128354751, model__min_samples_leaf=14, model__min_samples_split=7, model__n_estimators=1200 \n",
      "[CV]  model__max_depth=36, model__max_features=0.4544809813980024, model__min_samples_leaf=11, model__min_samples_split=12, model__n_estimators=732, total= 5.5min\n",
      "[CV] model__max_depth=24, model__max_features=0.7538148128354751, model__min_samples_leaf=14, model__min_samples_split=7, model__n_estimators=1200 \n",
      "[CV]  model__max_depth=36, model__max_features=0.4544809813980024, model__min_samples_leaf=11, model__min_samples_split=12, model__n_estimators=732, total= 5.6min\n",
      "[CV] model__max_depth=24, model__max_features=0.7538148128354751, model__min_samples_leaf=14, model__min_samples_split=7, model__n_estimators=1200 \n",
      "[CV]  model__max_depth=36, model__max_features=0.4544809813980024, model__min_samples_leaf=11, model__min_samples_split=12, model__n_estimators=732, total= 5.5min\n",
      "[CV] model__max_depth=55, model__max_features=0.537931934488804, model__min_samples_leaf=14, model__min_samples_split=15, model__n_estimators=817 \n",
      "[CV]  model__max_depth=39, model__max_features=0.8216408049669899, model__min_samples_leaf=10, model__min_samples_split=5, model__n_estimators=1134, total=14.5min\n",
      "[CV] model__max_depth=55, model__max_features=0.537931934488804, model__min_samples_leaf=14, model__min_samples_split=15, model__n_estimators=817 \n",
      "[CV]  model__max_depth=55, model__max_features=0.537931934488804, model__min_samples_leaf=14, model__min_samples_split=15, model__n_estimators=817, total= 6.9min\n",
      "[CV] model__max_depth=55, model__max_features=0.537931934488804, model__min_samples_leaf=14, model__min_samples_split=15, model__n_estimators=817 \n",
      "[CV]  model__max_depth=39, model__max_features=0.8216408049669899, model__min_samples_leaf=10, model__min_samples_split=5, model__n_estimators=1134, total=14.5min\n",
      "[CV] model__max_depth=55, model__max_features=0.537931934488804, model__min_samples_leaf=14, model__min_samples_split=15, model__n_estimators=817 \n",
      "[CV]  model__max_depth=24, model__max_features=0.7538148128354751, model__min_samples_leaf=14, model__min_samples_split=7, model__n_estimators=1200, total=13.7min\n",
      "[CV] model__max_depth=55, model__max_features=0.537931934488804, model__min_samples_leaf=14, model__min_samples_split=15, model__n_estimators=817 \n",
      "[CV]  model__max_depth=24, model__max_features=0.7538148128354751, model__min_samples_leaf=14, model__min_samples_split=7, model__n_estimators=1200, total=13.6min\n",
      "[CV] model__max_depth=69, model__max_features=0.4946876771386959, model__min_samples_leaf=5, model__min_samples_split=9, model__n_estimators=978 \n",
      "[CV]  model__max_depth=24, model__max_features=0.7538148128354751, model__min_samples_leaf=14, model__min_samples_split=7, model__n_estimators=1200, total=13.6min\n",
      "[CV] model__max_depth=69, model__max_features=0.4946876771386959, model__min_samples_leaf=5, model__min_samples_split=9, model__n_estimators=978 \n",
      "[CV]  model__max_depth=24, model__max_features=0.7538148128354751, model__min_samples_leaf=14, model__min_samples_split=7, model__n_estimators=1200, total=13.8min\n",
      "[CV] model__max_depth=69, model__max_features=0.4946876771386959, model__min_samples_leaf=5, model__min_samples_split=9, model__n_estimators=978 \n",
      "[CV]  model__max_depth=55, model__max_features=0.537931934488804, model__min_samples_leaf=14, model__min_samples_split=15, model__n_estimators=817, total= 6.8min\n",
      "[CV] model__max_depth=69, model__max_features=0.4946876771386959, model__min_samples_leaf=5, model__min_samples_split=9, model__n_estimators=978 \n",
      "[CV]  model__max_depth=55, model__max_features=0.537931934488804, model__min_samples_leaf=14, model__min_samples_split=15, model__n_estimators=817, total= 6.8min\n",
      "[CV] model__max_depth=69, model__max_features=0.4946876771386959, model__min_samples_leaf=5, model__min_samples_split=9, model__n_estimators=978 \n",
      "[CV]  model__max_depth=24, model__max_features=0.7538148128354751, model__min_samples_leaf=14, model__min_samples_split=7, model__n_estimators=1200, total=13.8min\n",
      "[CV] model__max_depth=7, model__max_features=0.4483973291618762, model__min_samples_leaf=6, model__min_samples_split=12, model__n_estimators=446 \n",
      "[CV]  model__max_depth=55, model__max_features=0.537931934488804, model__min_samples_leaf=14, model__min_samples_split=15, model__n_estimators=817, total= 6.9min\n",
      "[CV] model__max_depth=7, model__max_features=0.4483973291618762, model__min_samples_leaf=6, model__min_samples_split=12, model__n_estimators=446 \n",
      "[CV]  model__max_depth=55, model__max_features=0.537931934488804, model__min_samples_leaf=14, model__min_samples_split=15, model__n_estimators=817, total= 6.9min\n",
      "[CV] model__max_depth=7, model__max_features=0.4483973291618762, model__min_samples_leaf=6, model__min_samples_split=12, model__n_estimators=446 \n",
      "[CV]  model__max_depth=7, model__max_features=0.4483973291618762, model__min_samples_leaf=6, model__min_samples_split=12, model__n_estimators=446, total= 2.0min\n",
      "[CV] model__max_depth=7, model__max_features=0.4483973291618762, model__min_samples_leaf=6, model__min_samples_split=12, model__n_estimators=446 \n",
      "[CV]  model__max_depth=7, model__max_features=0.4483973291618762, model__min_samples_leaf=6, model__min_samples_split=12, model__n_estimators=446, total= 2.0min\n",
      "[CV] model__max_depth=7, model__max_features=0.4483973291618762, model__min_samples_leaf=6, model__min_samples_split=12, model__n_estimators=446 \n",
      "[CV]  model__max_depth=7, model__max_features=0.4483973291618762, model__min_samples_leaf=6, model__min_samples_split=12, model__n_estimators=446, total= 2.0min\n",
      "[CV] model__max_depth=41, model__max_features=0.7489990519209795, model__min_samples_leaf=12, model__min_samples_split=16, model__n_estimators=1898 \n",
      "[CV]  model__max_depth=7, model__max_features=0.4483973291618762, model__min_samples_leaf=6, model__min_samples_split=12, model__n_estimators=446, total= 2.0min\n",
      "[CV] model__max_depth=41, model__max_features=0.7489990519209795, model__min_samples_leaf=12, model__min_samples_split=16, model__n_estimators=1898 \n",
      "[CV]  model__max_depth=7, model__max_features=0.4483973291618762, model__min_samples_leaf=6, model__min_samples_split=12, model__n_estimators=446, total= 2.0min\n"
     ]
    },
    {
     "name": "stdout",
     "output_type": "stream",
     "text": [
      "[CV] model__max_depth=41, model__max_features=0.7489990519209795, model__min_samples_leaf=12, model__min_samples_split=16, model__n_estimators=1898 \n",
      "[CV]  model__max_depth=69, model__max_features=0.4946876771386959, model__min_samples_leaf=5, model__min_samples_split=9, model__n_estimators=978, total= 8.5min\n",
      "[CV] model__max_depth=41, model__max_features=0.7489990519209795, model__min_samples_leaf=12, model__min_samples_split=16, model__n_estimators=1898 \n",
      "[CV]  model__max_depth=69, model__max_features=0.4946876771386959, model__min_samples_leaf=5, model__min_samples_split=9, model__n_estimators=978, total= 8.2min\n",
      "[CV] model__max_depth=41, model__max_features=0.7489990519209795, model__min_samples_leaf=12, model__min_samples_split=16, model__n_estimators=1898 \n",
      "[CV]  model__max_depth=69, model__max_features=0.4946876771386959, model__min_samples_leaf=5, model__min_samples_split=9, model__n_estimators=978, total= 8.4min\n",
      "[CV] model__max_depth=34, model__max_features=0.6158717241085936, model__min_samples_leaf=4, model__min_samples_split=11, model__n_estimators=529 \n",
      "[CV]  model__max_depth=69, model__max_features=0.4946876771386959, model__min_samples_leaf=5, model__min_samples_split=9, model__n_estimators=978, total= 8.4min\n",
      "[CV] model__max_depth=34, model__max_features=0.6158717241085936, model__min_samples_leaf=4, model__min_samples_split=11, model__n_estimators=529 \n",
      "[CV]  model__max_depth=69, model__max_features=0.4946876771386959, model__min_samples_leaf=5, model__min_samples_split=9, model__n_estimators=978, total= 8.4min\n",
      "[CV] model__max_depth=34, model__max_features=0.6158717241085936, model__min_samples_leaf=4, model__min_samples_split=11, model__n_estimators=529 \n",
      "[CV]  model__max_depth=34, model__max_features=0.6158717241085936, model__min_samples_leaf=4, model__min_samples_split=11, model__n_estimators=529, total= 5.6min\n",
      "[CV] model__max_depth=34, model__max_features=0.6158717241085936, model__min_samples_leaf=4, model__min_samples_split=11, model__n_estimators=529 \n",
      "[CV]  model__max_depth=34, model__max_features=0.6158717241085936, model__min_samples_leaf=4, model__min_samples_split=11, model__n_estimators=529, total= 5.5min\n",
      "[CV] model__max_depth=34, model__max_features=0.6158717241085936, model__min_samples_leaf=4, model__min_samples_split=11, model__n_estimators=529 \n",
      "[CV]  model__max_depth=34, model__max_features=0.6158717241085936, model__min_samples_leaf=4, model__min_samples_split=11, model__n_estimators=529, total= 5.6min\n",
      "[CV] model__max_depth=32, model__max_features=0.33400038880005656, model__min_samples_leaf=8, model__min_samples_split=4, model__n_estimators=1778 \n",
      "[CV]  model__max_depth=34, model__max_features=0.6158717241085936, model__min_samples_leaf=4, model__min_samples_split=11, model__n_estimators=529, total= 5.6min\n",
      "[CV] model__max_depth=32, model__max_features=0.33400038880005656, model__min_samples_leaf=8, model__min_samples_split=4, model__n_estimators=1778 \n",
      "[CV]  model__max_depth=34, model__max_features=0.6158717241085936, model__min_samples_leaf=4, model__min_samples_split=11, model__n_estimators=529, total= 5.7min\n",
      "[CV] model__max_depth=32, model__max_features=0.33400038880005656, model__min_samples_leaf=8, model__min_samples_split=4, model__n_estimators=1778 \n",
      "[CV]  model__max_depth=32, model__max_features=0.33400038880005656, model__min_samples_leaf=8, model__min_samples_split=4, model__n_estimators=1778, total=10.4min\n",
      "[CV] model__max_depth=32, model__max_features=0.33400038880005656, model__min_samples_leaf=8, model__min_samples_split=4, model__n_estimators=1778 \n",
      "[CV]  model__max_depth=41, model__max_features=0.7489990519209795, model__min_samples_leaf=12, model__min_samples_split=16, model__n_estimators=1898, total=21.8min\n",
      "[CV] model__max_depth=32, model__max_features=0.33400038880005656, model__min_samples_leaf=8, model__min_samples_split=4, model__n_estimators=1778 \n",
      "[CV]  model__max_depth=41, model__max_features=0.7489990519209795, model__min_samples_leaf=12, model__min_samples_split=16, model__n_estimators=1898, total=21.4min\n",
      "[CV] model__max_depth=53, model__max_features=0.3636390672114413, model__min_samples_leaf=7, model__min_samples_split=18, model__n_estimators=1824 \n",
      "[CV]  model__max_depth=41, model__max_features=0.7489990519209795, model__min_samples_leaf=12, model__min_samples_split=16, model__n_estimators=1898, total=21.7min\n",
      "[CV] model__max_depth=53, model__max_features=0.3636390672114413, model__min_samples_leaf=7, model__min_samples_split=18, model__n_estimators=1824 \n",
      "[CV]  model__max_depth=41, model__max_features=0.7489990519209795, model__min_samples_leaf=12, model__min_samples_split=16, model__n_estimators=1898, total=21.9min\n",
      "[CV] model__max_depth=53, model__max_features=0.3636390672114413, model__min_samples_leaf=7, model__min_samples_split=18, model__n_estimators=1824 \n",
      "[CV]  model__max_depth=41, model__max_features=0.7489990519209795, model__min_samples_leaf=12, model__min_samples_split=16, model__n_estimators=1898, total=21.9min\n",
      "[CV] model__max_depth=53, model__max_features=0.3636390672114413, model__min_samples_leaf=7, model__min_samples_split=18, model__n_estimators=1824 \n",
      "[CV]  model__max_depth=32, model__max_features=0.33400038880005656, model__min_samples_leaf=8, model__min_samples_split=4, model__n_estimators=1778, total=10.3min\n",
      "[CV] model__max_depth=53, model__max_features=0.3636390672114413, model__min_samples_leaf=7, model__min_samples_split=18, model__n_estimators=1824 \n",
      "[CV]  model__max_depth=32, model__max_features=0.33400038880005656, model__min_samples_leaf=8, model__min_samples_split=4, model__n_estimators=1778, total=10.3min\n",
      "[CV] model__max_depth=99, model__max_features=0.6464415864394162, model__min_samples_leaf=4, model__min_samples_split=8, model__n_estimators=124 \n",
      "[CV]  model__max_depth=99, model__max_features=0.6464415864394162, model__min_samples_leaf=4, model__min_samples_split=8, model__n_estimators=124, total= 1.4min\n",
      "[CV] model__max_depth=99, model__max_features=0.6464415864394162, model__min_samples_leaf=4, model__min_samples_split=8, model__n_estimators=124 \n",
      "[CV]  model__max_depth=99, model__max_features=0.6464415864394162, model__min_samples_leaf=4, model__min_samples_split=8, model__n_estimators=124, total= 1.4min\n",
      "[CV] model__max_depth=99, model__max_features=0.6464415864394162, model__min_samples_leaf=4, model__min_samples_split=8, model__n_estimators=124 \n",
      "[CV]  model__max_depth=99, model__max_features=0.6464415864394162, model__min_samples_leaf=4, model__min_samples_split=8, model__n_estimators=124, total= 1.5min\n",
      "[CV] model__max_depth=99, model__max_features=0.6464415864394162, model__min_samples_leaf=4, model__min_samples_split=8, model__n_estimators=124 \n",
      "[CV]  model__max_depth=32, model__max_features=0.33400038880005656, model__min_samples_leaf=8, model__min_samples_split=4, model__n_estimators=1778, total=10.6min\n",
      "[CV] model__max_depth=99, model__max_features=0.6464415864394162, model__min_samples_leaf=4, model__min_samples_split=8, model__n_estimators=124 \n",
      "[CV]  model__max_depth=99, model__max_features=0.6464415864394162, model__min_samples_leaf=4, model__min_samples_split=8, model__n_estimators=124, total= 1.5min\n",
      "[CV] model__max_depth=8, model__max_features=0.4350975617709967, model__min_samples_leaf=19, model__min_samples_split=14, model__n_estimators=1292 \n",
      "[CV]  model__max_depth=32, model__max_features=0.33400038880005656, model__min_samples_leaf=8, model__min_samples_split=4, model__n_estimators=1778, total=10.7min\n",
      "[CV] model__max_depth=8, model__max_features=0.4350975617709967, model__min_samples_leaf=19, model__min_samples_split=14, model__n_estimators=1292 \n",
      "[CV]  model__max_depth=99, model__max_features=0.6464415864394162, model__min_samples_leaf=4, model__min_samples_split=8, model__n_estimators=124, total= 1.4min\n",
      "[CV] model__max_depth=8, model__max_features=0.4350975617709967, model__min_samples_leaf=19, model__min_samples_split=14, model__n_estimators=1292 \n",
      "[CV]  model__max_depth=53, model__max_features=0.3636390672114413, model__min_samples_leaf=7, model__min_samples_split=18, model__n_estimators=1824, total=11.9min\n",
      "[CV] model__max_depth=8, model__max_features=0.4350975617709967, model__min_samples_leaf=19, model__min_samples_split=14, model__n_estimators=1292 \n"
     ]
    },
    {
     "name": "stdout",
     "output_type": "stream",
     "text": [
      "[CV]  model__max_depth=53, model__max_features=0.3636390672114413, model__min_samples_leaf=7, model__min_samples_split=18, model__n_estimators=1824, total=11.7min\n",
      "[CV] model__max_depth=8, model__max_features=0.4350975617709967, model__min_samples_leaf=19, model__min_samples_split=14, model__n_estimators=1292 \n",
      "[CV]  model__max_depth=53, model__max_features=0.3636390672114413, model__min_samples_leaf=7, model__min_samples_split=18, model__n_estimators=1824, total=11.9min\n",
      "[CV] model__max_depth=10, model__max_features=0.3535997492585498, model__min_samples_leaf=4, model__min_samples_split=11, model__n_estimators=1534 \n",
      "[CV]  model__max_depth=53, model__max_features=0.3636390672114413, model__min_samples_leaf=7, model__min_samples_split=18, model__n_estimators=1824, total=12.2min\n",
      "[CV] model__max_depth=10, model__max_features=0.3535997492585498, model__min_samples_leaf=4, model__min_samples_split=11, model__n_estimators=1534 \n",
      "[CV]  model__max_depth=53, model__max_features=0.3636390672114413, model__min_samples_leaf=7, model__min_samples_split=18, model__n_estimators=1824, total=12.2min\n",
      "[CV] model__max_depth=10, model__max_features=0.3535997492585498, model__min_samples_leaf=4, model__min_samples_split=11, model__n_estimators=1534 \n",
      "[CV]  model__max_depth=8, model__max_features=0.4350975617709967, model__min_samples_leaf=19, model__min_samples_split=14, model__n_estimators=1292, total= 6.9min\n",
      "[CV] model__max_depth=10, model__max_features=0.3535997492585498, model__min_samples_leaf=4, model__min_samples_split=11, model__n_estimators=1534 \n",
      "[CV]  model__max_depth=8, model__max_features=0.4350975617709967, model__min_samples_leaf=19, model__min_samples_split=14, model__n_estimators=1292, total= 7.2min\n",
      "[CV] model__max_depth=10, model__max_features=0.3535997492585498, model__min_samples_leaf=4, model__min_samples_split=11, model__n_estimators=1534 \n",
      "[CV]  model__max_depth=8, model__max_features=0.4350975617709967, model__min_samples_leaf=19, model__min_samples_split=14, model__n_estimators=1292, total= 7.8min\n",
      "[CV] model__max_depth=30, model__max_features=0.9912414410134738, model__min_samples_leaf=5, model__min_samples_split=15, model__n_estimators=1180 \n",
      "[CV]  model__max_depth=8, model__max_features=0.4350975617709967, model__min_samples_leaf=19, model__min_samples_split=14, model__n_estimators=1292, total= 8.1min\n",
      "[CV] model__max_depth=30, model__max_features=0.9912414410134738, model__min_samples_leaf=5, model__min_samples_split=15, model__n_estimators=1180 \n",
      "[CV]  model__max_depth=8, model__max_features=0.4350975617709967, model__min_samples_leaf=19, model__min_samples_split=14, model__n_estimators=1292, total= 8.4min\n",
      "[CV] model__max_depth=30, model__max_features=0.9912414410134738, model__min_samples_leaf=5, model__min_samples_split=15, model__n_estimators=1180 \n",
      "[CV]  model__max_depth=10, model__max_features=0.3535997492585498, model__min_samples_leaf=4, model__min_samples_split=11, model__n_estimators=1534, total=12.0min\n",
      "[CV] model__max_depth=30, model__max_features=0.9912414410134738, model__min_samples_leaf=5, model__min_samples_split=15, model__n_estimators=1180 \n",
      "[CV]  model__max_depth=10, model__max_features=0.3535997492585498, model__min_samples_leaf=4, model__min_samples_split=11, model__n_estimators=1534, total=12.1min\n",
      "[CV] model__max_depth=30, model__max_features=0.9912414410134738, model__min_samples_leaf=5, model__min_samples_split=15, model__n_estimators=1180 \n",
      "[CV]  model__max_depth=10, model__max_features=0.3535997492585498, model__min_samples_leaf=4, model__min_samples_split=11, model__n_estimators=1534, total=12.2min\n",
      "[CV] model__max_depth=68, model__max_features=0.3784068673874497, model__min_samples_leaf=15, model__min_samples_split=3, model__n_estimators=1671 \n",
      "[CV]  model__max_depth=10, model__max_features=0.3535997492585498, model__min_samples_leaf=4, model__min_samples_split=11, model__n_estimators=1534, total=12.1min\n",
      "[CV] model__max_depth=68, model__max_features=0.3784068673874497, model__min_samples_leaf=15, model__min_samples_split=3, model__n_estimators=1671 \n",
      "[CV]  model__max_depth=10, model__max_features=0.3535997492585498, model__min_samples_leaf=4, model__min_samples_split=11, model__n_estimators=1534, total=12.1min\n",
      "[CV] model__max_depth=68, model__max_features=0.3784068673874497, model__min_samples_leaf=15, model__min_samples_split=3, model__n_estimators=1671 \n",
      "[CV]  model__max_depth=68, model__max_features=0.3784068673874497, model__min_samples_leaf=15, model__min_samples_split=3, model__n_estimators=1671, total=15.2min\n",
      "[CV] model__max_depth=68, model__max_features=0.3784068673874497, model__min_samples_leaf=15, model__min_samples_split=3, model__n_estimators=1671 \n"
     ]
    },
    {
     "name": "stderr",
     "output_type": "stream",
     "text": [
      "[Parallel(n_jobs=-1)]: Done 146 tasks      | elapsed: 238.2min\n"
     ]
    },
    {
     "name": "stdout",
     "output_type": "stream",
     "text": [
      "[CV]  model__max_depth=68, model__max_features=0.3784068673874497, model__min_samples_leaf=15, model__min_samples_split=3, model__n_estimators=1671, total=15.0min\n",
      "[CV] model__max_depth=68, model__max_features=0.3784068673874497, model__min_samples_leaf=15, model__min_samples_split=3, model__n_estimators=1671 \n",
      "[CV]  model__max_depth=68, model__max_features=0.3784068673874497, model__min_samples_leaf=15, model__min_samples_split=3, model__n_estimators=1671, total=14.7min\n",
      "[CV] model__max_depth=32, model__max_features=0.8582330106025275, model__min_samples_leaf=6, model__min_samples_split=3, model__n_estimators=546 \n",
      "[CV]  model__max_depth=30, model__max_features=0.9912414410134738, model__min_samples_leaf=5, model__min_samples_split=15, model__n_estimators=1180, total=27.6min\n",
      "[CV] model__max_depth=32, model__max_features=0.8582330106025275, model__min_samples_leaf=6, model__min_samples_split=3, model__n_estimators=546 \n",
      "[CV]  model__max_depth=30, model__max_features=0.9912414410134738, model__min_samples_leaf=5, model__min_samples_split=15, model__n_estimators=1180, total=26.9min\n",
      "[CV] model__max_depth=32, model__max_features=0.8582330106025275, model__min_samples_leaf=6, model__min_samples_split=3, model__n_estimators=546 \n",
      "[CV]  model__max_depth=30, model__max_features=0.9912414410134738, model__min_samples_leaf=5, model__min_samples_split=15, model__n_estimators=1180, total=27.1min\n",
      "[CV] model__max_depth=32, model__max_features=0.8582330106025275, model__min_samples_leaf=6, model__min_samples_split=3, model__n_estimators=546 \n",
      "[CV]  model__max_depth=30, model__max_features=0.9912414410134738, model__min_samples_leaf=5, model__min_samples_split=15, model__n_estimators=1180, total=24.4min\n",
      "[CV] model__max_depth=32, model__max_features=0.8582330106025275, model__min_samples_leaf=6, model__min_samples_split=3, model__n_estimators=546 \n",
      "[CV]  model__max_depth=32, model__max_features=0.8582330106025275, model__min_samples_leaf=6, model__min_samples_split=3, model__n_estimators=546, total= 7.4min\n",
      "[CV] model__max_depth=51, model__max_features=0.874600250312016, model__min_samples_leaf=14, model__min_samples_split=15, model__n_estimators=783 \n",
      "[CV]  model__max_depth=30, model__max_features=0.9912414410134738, model__min_samples_leaf=5, model__min_samples_split=15, model__n_estimators=1180, total=23.8min\n",
      "[CV] model__max_depth=51, model__max_features=0.874600250312016, model__min_samples_leaf=14, model__min_samples_split=15, model__n_estimators=783 \n",
      "[CV]  model__max_depth=32, model__max_features=0.8582330106025275, model__min_samples_leaf=6, model__min_samples_split=3, model__n_estimators=546, total= 7.3min\n",
      "[CV] model__max_depth=51, model__max_features=0.874600250312016, model__min_samples_leaf=14, model__min_samples_split=15, model__n_estimators=783 \n",
      "[CV]  model__max_depth=32, model__max_features=0.8582330106025275, model__min_samples_leaf=6, model__min_samples_split=3, model__n_estimators=546, total= 7.4min\n",
      "[CV] model__max_depth=51, model__max_features=0.874600250312016, model__min_samples_leaf=14, model__min_samples_split=15, model__n_estimators=783 \n",
      "[CV]  model__max_depth=68, model__max_features=0.3784068673874497, model__min_samples_leaf=15, model__min_samples_split=3, model__n_estimators=1671, total=10.3min\n",
      "[CV] model__max_depth=51, model__max_features=0.874600250312016, model__min_samples_leaf=14, model__min_samples_split=15, model__n_estimators=783 \n",
      "[CV]  model__max_depth=68, model__max_features=0.3784068673874497, model__min_samples_leaf=15, model__min_samples_split=3, model__n_estimators=1671, total=10.3min\n",
      "[CV] model__max_depth=83, model__max_features=0.8406958536324713, model__min_samples_leaf=17, model__min_samples_split=9, model__n_estimators=61 \n",
      "[CV]  model__max_depth=32, model__max_features=0.8582330106025275, model__min_samples_leaf=6, model__min_samples_split=3, model__n_estimators=546, total= 7.6min\n",
      "[CV] model__max_depth=83, model__max_features=0.8406958536324713, model__min_samples_leaf=17, model__min_samples_split=9, model__n_estimators=61 \n",
      "[CV]  model__max_depth=83, model__max_features=0.8406958536324713, model__min_samples_leaf=17, model__min_samples_split=9, model__n_estimators=61, total=  44.9s\n",
      "[CV] model__max_depth=83, model__max_features=0.8406958536324713, model__min_samples_leaf=17, model__min_samples_split=9, model__n_estimators=61 \n",
      "[CV]  model__max_depth=83, model__max_features=0.8406958536324713, model__min_samples_leaf=17, model__min_samples_split=9, model__n_estimators=61, total=  44.6s\n",
      "[CV] model__max_depth=83, model__max_features=0.8406958536324713, model__min_samples_leaf=17, model__min_samples_split=9, model__n_estimators=61 \n",
      "[CV]  model__max_depth=83, model__max_features=0.8406958536324713, model__min_samples_leaf=17, model__min_samples_split=9, model__n_estimators=61, total=  45.1s\n",
      "[CV] model__max_depth=83, model__max_features=0.8406958536324713, model__min_samples_leaf=17, model__min_samples_split=9, model__n_estimators=61 \n",
      "[CV]  model__max_depth=83, model__max_features=0.8406958536324713, model__min_samples_leaf=17, model__min_samples_split=9, model__n_estimators=61, total=  44.9s\n",
      "[CV] model__max_depth=82, model__max_features=0.7953001268707112, model__min_samples_leaf=11, model__min_samples_split=11, model__n_estimators=813 \n",
      "[CV]  model__max_depth=83, model__max_features=0.8406958536324713, model__min_samples_leaf=17, model__min_samples_split=9, model__n_estimators=61, total=  44.7s\n",
      "[CV] model__max_depth=82, model__max_features=0.7953001268707112, model__min_samples_leaf=11, model__min_samples_split=11, model__n_estimators=813 \n",
      "[CV]  model__max_depth=32, model__max_features=0.8582330106025275, model__min_samples_leaf=6, model__min_samples_split=3, model__n_estimators=546, total= 7.5min\n",
      "[CV] model__max_depth=82, model__max_features=0.7953001268707112, model__min_samples_leaf=11, model__min_samples_split=11, model__n_estimators=813 \n",
      "[CV]  model__max_depth=51, model__max_features=0.874600250312016, model__min_samples_leaf=14, model__min_samples_split=15, model__n_estimators=783, total= 9.9min\n",
      "[CV] model__max_depth=82, model__max_features=0.7953001268707112, model__min_samples_leaf=11, model__min_samples_split=11, model__n_estimators=813 \n",
      "[CV]  model__max_depth=51, model__max_features=0.874600250312016, model__min_samples_leaf=14, model__min_samples_split=15, model__n_estimators=783, total= 9.9min\n",
      "[CV] model__max_depth=82, model__max_features=0.7953001268707112, model__min_samples_leaf=11, model__min_samples_split=11, model__n_estimators=813 \n",
      "[CV]  model__max_depth=51, model__max_features=0.874600250312016, model__min_samples_leaf=14, model__min_samples_split=15, model__n_estimators=783, total=10.1min\n",
      "[CV] model__max_depth=78, model__max_features=0.37728594226460777, model__min_samples_leaf=16, model__min_samples_split=14, model__n_estimators=67 \n",
      "[CV]  model__max_depth=51, model__max_features=0.874600250312016, model__min_samples_leaf=14, model__min_samples_split=15, model__n_estimators=783, total=10.1min\n",
      "[CV] model__max_depth=78, model__max_features=0.37728594226460777, model__min_samples_leaf=16, model__min_samples_split=14, model__n_estimators=67 \n",
      "[CV]  model__max_depth=78, model__max_features=0.37728594226460777, model__min_samples_leaf=16, model__min_samples_split=14, model__n_estimators=67, total=  24.4s\n",
      "[CV] model__max_depth=78, model__max_features=0.37728594226460777, model__min_samples_leaf=16, model__min_samples_split=14, model__n_estimators=67 \n",
      "[CV]  model__max_depth=78, model__max_features=0.37728594226460777, model__min_samples_leaf=16, model__min_samples_split=14, model__n_estimators=67, total=  24.4s\n",
      "[CV] model__max_depth=78, model__max_features=0.37728594226460777, model__min_samples_leaf=16, model__min_samples_split=14, model__n_estimators=67 \n",
      "[CV]  model__max_depth=78, model__max_features=0.37728594226460777, model__min_samples_leaf=16, model__min_samples_split=14, model__n_estimators=67, total=  25.1s\n",
      "[CV] model__max_depth=78, model__max_features=0.37728594226460777, model__min_samples_leaf=16, model__min_samples_split=14, model__n_estimators=67 \n",
      "[CV]  model__max_depth=78, model__max_features=0.37728594226460777, model__min_samples_leaf=16, model__min_samples_split=14, model__n_estimators=67, total=  24.9s\n"
     ]
    },
    {
     "name": "stdout",
     "output_type": "stream",
     "text": [
      "[CV] model__max_depth=64, model__max_features=0.3491138934298448, model__min_samples_leaf=8, model__min_samples_split=5, model__n_estimators=946 \n",
      "[CV]  model__max_depth=78, model__max_features=0.37728594226460777, model__min_samples_leaf=16, model__min_samples_split=14, model__n_estimators=67, total=  24.7s\n",
      "[CV] model__max_depth=64, model__max_features=0.3491138934298448, model__min_samples_leaf=8, model__min_samples_split=5, model__n_estimators=946 \n",
      "[CV]  model__max_depth=51, model__max_features=0.874600250312016, model__min_samples_leaf=14, model__min_samples_split=15, model__n_estimators=783, total=10.0min\n",
      "[CV] model__max_depth=64, model__max_features=0.3491138934298448, model__min_samples_leaf=8, model__min_samples_split=5, model__n_estimators=946 \n",
      "[CV]  model__max_depth=82, model__max_features=0.7953001268707112, model__min_samples_leaf=11, model__min_samples_split=11, model__n_estimators=813, total= 9.7min\n",
      "[CV] model__max_depth=64, model__max_features=0.3491138934298448, model__min_samples_leaf=8, model__min_samples_split=5, model__n_estimators=946 \n",
      "[CV]  model__max_depth=82, model__max_features=0.7953001268707112, model__min_samples_leaf=11, model__min_samples_split=11, model__n_estimators=813, total= 9.6min\n",
      "[CV] model__max_depth=64, model__max_features=0.3491138934298448, model__min_samples_leaf=8, model__min_samples_split=5, model__n_estimators=946 \n",
      "[CV]  model__max_depth=82, model__max_features=0.7953001268707112, model__min_samples_leaf=11, model__min_samples_split=11, model__n_estimators=813, total= 9.8min\n",
      "[CV] model__max_depth=49, model__max_features=0.3993611101668957, model__min_samples_leaf=11, model__min_samples_split=9, model__n_estimators=294 \n",
      "[CV]  model__max_depth=64, model__max_features=0.3491138934298448, model__min_samples_leaf=8, model__min_samples_split=5, model__n_estimators=946, total= 5.7min\n",
      "[CV] model__max_depth=49, model__max_features=0.3993611101668957, model__min_samples_leaf=11, model__min_samples_split=9, model__n_estimators=294 \n",
      "[CV]  model__max_depth=64, model__max_features=0.3491138934298448, model__min_samples_leaf=8, model__min_samples_split=5, model__n_estimators=946, total= 5.7min\n",
      "[CV] model__max_depth=49, model__max_features=0.3993611101668957, model__min_samples_leaf=11, model__min_samples_split=9, model__n_estimators=294 \n",
      "[CV]  model__max_depth=64, model__max_features=0.3491138934298448, model__min_samples_leaf=8, model__min_samples_split=5, model__n_estimators=946, total= 5.7min\n",
      "[CV] model__max_depth=49, model__max_features=0.3993611101668957, model__min_samples_leaf=11, model__min_samples_split=9, model__n_estimators=294 \n",
      "[CV]  model__max_depth=49, model__max_features=0.3993611101668957, model__min_samples_leaf=11, model__min_samples_split=9, model__n_estimators=294, total= 1.9min\n",
      "[CV] model__max_depth=49, model__max_features=0.3993611101668957, model__min_samples_leaf=11, model__min_samples_split=9, model__n_estimators=294 \n",
      "[CV]  model__max_depth=82, model__max_features=0.7953001268707112, model__min_samples_leaf=11, model__min_samples_split=11, model__n_estimators=813, total= 9.8min\n",
      "[CV] model__max_depth=95, model__max_features=0.8808559660992583, model__min_samples_leaf=10, model__min_samples_split=14, model__n_estimators=1697 \n",
      "[CV]  model__max_depth=82, model__max_features=0.7953001268707112, model__min_samples_leaf=11, model__min_samples_split=11, model__n_estimators=813, total= 9.9min\n",
      "[CV] model__max_depth=95, model__max_features=0.8808559660992583, model__min_samples_leaf=10, model__min_samples_split=14, model__n_estimators=1697 \n",
      "[CV]  model__max_depth=64, model__max_features=0.3491138934298448, model__min_samples_leaf=8, model__min_samples_split=5, model__n_estimators=946, total= 5.8min\n",
      "[CV] model__max_depth=95, model__max_features=0.8808559660992583, model__min_samples_leaf=10, model__min_samples_split=14, model__n_estimators=1697 \n",
      "[CV]  model__max_depth=49, model__max_features=0.3993611101668957, model__min_samples_leaf=11, model__min_samples_split=9, model__n_estimators=294, total= 1.9min\n",
      "[CV] model__max_depth=95, model__max_features=0.8808559660992583, model__min_samples_leaf=10, model__min_samples_split=14, model__n_estimators=1697 \n",
      "[CV]  model__max_depth=64, model__max_features=0.3491138934298448, model__min_samples_leaf=8, model__min_samples_split=5, model__n_estimators=946, total= 5.7min\n",
      "[CV] model__max_depth=95, model__max_features=0.8808559660992583, model__min_samples_leaf=10, model__min_samples_split=14, model__n_estimators=1697 \n",
      "[CV]  model__max_depth=49, model__max_features=0.3993611101668957, model__min_samples_leaf=11, model__min_samples_split=9, model__n_estimators=294, total= 1.9min\n",
      "[CV] model__max_depth=4, model__max_features=0.7114947238878664, model__min_samples_leaf=9, model__min_samples_split=8, model__n_estimators=319 \n",
      "[CV]  model__max_depth=49, model__max_features=0.3993611101668957, model__min_samples_leaf=11, model__min_samples_split=9, model__n_estimators=294, total= 1.9min\n",
      "[CV] model__max_depth=4, model__max_features=0.7114947238878664, model__min_samples_leaf=9, model__min_samples_split=8, model__n_estimators=319 \n",
      "[CV]  model__max_depth=49, model__max_features=0.3993611101668957, model__min_samples_leaf=11, model__min_samples_split=9, model__n_estimators=294, total= 1.9min\n",
      "[CV] model__max_depth=4, model__max_features=0.7114947238878664, model__min_samples_leaf=9, model__min_samples_split=8, model__n_estimators=319 \n",
      "[CV]  model__max_depth=4, model__max_features=0.7114947238878664, model__min_samples_leaf=9, model__min_samples_split=8, model__n_estimators=319, total= 1.4min\n",
      "[CV] model__max_depth=4, model__max_features=0.7114947238878664, model__min_samples_leaf=9, model__min_samples_split=8, model__n_estimators=319 \n",
      "[CV]  model__max_depth=4, model__max_features=0.7114947238878664, model__min_samples_leaf=9, model__min_samples_split=8, model__n_estimators=319, total= 1.4min\n",
      "[CV] model__max_depth=4, model__max_features=0.7114947238878664, model__min_samples_leaf=9, model__min_samples_split=8, model__n_estimators=319 \n",
      "[CV]  model__max_depth=4, model__max_features=0.7114947238878664, model__min_samples_leaf=9, model__min_samples_split=8, model__n_estimators=319, total= 1.4min\n",
      "[CV]  model__max_depth=4, model__max_features=0.7114947238878664, model__min_samples_leaf=9, model__min_samples_split=8, model__n_estimators=319, total= 1.3min\n",
      "[CV]  model__max_depth=4, model__max_features=0.7114947238878664, model__min_samples_leaf=9, model__min_samples_split=8, model__n_estimators=319, total= 1.3min\n",
      "[CV]  model__max_depth=95, model__max_features=0.8808559660992583, model__min_samples_leaf=10, model__min_samples_split=14, model__n_estimators=1697, total=18.1min\n",
      "[CV]  model__max_depth=95, model__max_features=0.8808559660992583, model__min_samples_leaf=10, model__min_samples_split=14, model__n_estimators=1697, total=18.2min\n",
      "[CV]  model__max_depth=95, model__max_features=0.8808559660992583, model__min_samples_leaf=10, model__min_samples_split=14, model__n_estimators=1697, total=18.2min\n",
      "[CV]  model__max_depth=95, model__max_features=0.8808559660992583, model__min_samples_leaf=10, model__min_samples_split=14, model__n_estimators=1697, total=18.2min\n",
      "[CV]  model__max_depth=95, model__max_features=0.8808559660992583, model__min_samples_leaf=10, model__min_samples_split=14, model__n_estimators=1697, total=18.3min\n"
     ]
    },
    {
     "name": "stderr",
     "output_type": "stream",
     "text": [
      "[Parallel(n_jobs=-1)]: Done 200 out of 200 | elapsed: 285.6min finished\n"
     ]
    }
   ],
   "source": [
    "print('Starting....')\n",
    "time_start = time.time()\n",
    "from sklearn.model_selection import RandomizedSearchCV\n",
    "grid_search = RandomizedSearchCV(estimator=full_pipeline,\n",
    "                                 param_distributions=param_grid,\n",
    "                                 n_iter=40,\n",
    "                                 cv=RepeatedKFold(n_splits=5, n_repeats=1),\n",
    "                                 scoring=scorer,\n",
    "                                 return_train_score=True,\n",
    "                                 n_jobs=-1,\n",
    "                                 verbose=2)\n",
    "grid_search.fit(transformed_data.drop(columns=target_variable), y)\n",
    "time_end = time.time()"
   ]
  },
  {
   "cell_type": "code",
   "execution_count": 22,
   "metadata": {},
   "outputs": [
    {
     "name": "stdout",
     "output_type": "stream",
     "text": [
      "Time: 294.1m\n"
     ]
    }
   ],
   "source": [
    "print('Time: {}m'.format(round((time_end-time_start)/60, 1)))"
   ]
  },
  {
   "cell_type": "code",
   "execution_count": 27,
   "metadata": {},
   "outputs": [
    {
     "data": {
      "text/html": [
       "<div>\n",
       "<style scoped>\n",
       "    .dataframe tbody tr th:only-of-type {\n",
       "        vertical-align: middle;\n",
       "    }\n",
       "\n",
       "    .dataframe tbody tr th {\n",
       "        vertical-align: top;\n",
       "    }\n",
       "\n",
       "    .dataframe thead th {\n",
       "        text-align: right;\n",
       "    }\n",
       "</style>\n",
       "<table border=\"1\" class=\"dataframe\">\n",
       "  <thead>\n",
       "    <tr style=\"text-align: right;\">\n",
       "      <th></th>\n",
       "      <th>mean_score</th>\n",
       "      <th>st_dev_score</th>\n",
       "      <th>model__max_depth</th>\n",
       "      <th>model__max_features</th>\n",
       "      <th>model__min_samples_leaf</th>\n",
       "      <th>model__min_samples_split</th>\n",
       "      <th>model__n_estimators</th>\n",
       "    </tr>\n",
       "  </thead>\n",
       "  <tbody>\n",
       "    <tr>\n",
       "      <th>5</th>\n",
       "      <td>0.787030</td>\n",
       "      <td>0.006113</td>\n",
       "      <td>96</td>\n",
       "      <td>0.408715</td>\n",
       "      <td>2</td>\n",
       "      <td>16</td>\n",
       "      <td>1815</td>\n",
       "    </tr>\n",
       "    <tr>\n",
       "      <th>20</th>\n",
       "      <td>0.785735</td>\n",
       "      <td>0.006240</td>\n",
       "      <td>69</td>\n",
       "      <td>0.494688</td>\n",
       "      <td>5</td>\n",
       "      <td>9</td>\n",
       "      <td>978</td>\n",
       "    </tr>\n",
       "    <tr>\n",
       "      <th>3</th>\n",
       "      <td>0.785671</td>\n",
       "      <td>0.005792</td>\n",
       "      <td>93</td>\n",
       "      <td>0.579894</td>\n",
       "      <td>3</td>\n",
       "      <td>14</td>\n",
       "      <td>1810</td>\n",
       "    </tr>\n",
       "    <tr>\n",
       "      <th>36</th>\n",
       "      <td>0.785192</td>\n",
       "      <td>0.006304</td>\n",
       "      <td>64</td>\n",
       "      <td>0.349114</td>\n",
       "      <td>8</td>\n",
       "      <td>5</td>\n",
       "      <td>946</td>\n",
       "    </tr>\n",
       "    <tr>\n",
       "      <th>25</th>\n",
       "      <td>0.784941</td>\n",
       "      <td>0.006313</td>\n",
       "      <td>53</td>\n",
       "      <td>0.363639</td>\n",
       "      <td>7</td>\n",
       "      <td>18</td>\n",
       "      <td>1824</td>\n",
       "    </tr>\n",
       "    <tr>\n",
       "      <th>24</th>\n",
       "      <td>0.784935</td>\n",
       "      <td>0.005835</td>\n",
       "      <td>32</td>\n",
       "      <td>0.334000</td>\n",
       "      <td>8</td>\n",
       "      <td>4</td>\n",
       "      <td>1778</td>\n",
       "    </tr>\n",
       "    <tr>\n",
       "      <th>0</th>\n",
       "      <td>0.784916</td>\n",
       "      <td>0.006188</td>\n",
       "      <td>31</td>\n",
       "      <td>0.826884</td>\n",
       "      <td>6</td>\n",
       "      <td>2</td>\n",
       "      <td>614</td>\n",
       "    </tr>\n",
       "    <tr>\n",
       "      <th>4</th>\n",
       "      <td>0.784698</td>\n",
       "      <td>0.006017</td>\n",
       "      <td>46</td>\n",
       "      <td>0.326742</td>\n",
       "      <td>9</td>\n",
       "      <td>10</td>\n",
       "      <td>1162</td>\n",
       "    </tr>\n",
       "    <tr>\n",
       "      <th>23</th>\n",
       "      <td>0.784548</td>\n",
       "      <td>0.006103</td>\n",
       "      <td>34</td>\n",
       "      <td>0.615872</td>\n",
       "      <td>4</td>\n",
       "      <td>11</td>\n",
       "      <td>529</td>\n",
       "    </tr>\n",
       "    <tr>\n",
       "      <th>31</th>\n",
       "      <td>0.784494</td>\n",
       "      <td>0.005930</td>\n",
       "      <td>32</td>\n",
       "      <td>0.858233</td>\n",
       "      <td>6</td>\n",
       "      <td>3</td>\n",
       "      <td>546</td>\n",
       "    </tr>\n",
       "  </tbody>\n",
       "</table>\n",
       "</div>"
      ],
      "text/plain": [
       "    mean_score  st_dev_score  model__max_depth  model__max_features  model__min_samples_leaf  model__min_samples_split  model__n_estimators\n",
       "5   0.787030    0.006113      96                0.408715             2                        16                        1815               \n",
       "20  0.785735    0.006240      69                0.494688             5                        9                         978                \n",
       "3   0.785671    0.005792      93                0.579894             3                        14                        1810               \n",
       "36  0.785192    0.006304      64                0.349114             8                        5                         946                \n",
       "25  0.784941    0.006313      53                0.363639             7                        18                        1824               \n",
       "24  0.784935    0.005835      32                0.334000             8                        4                         1778               \n",
       "0   0.784916    0.006188      31                0.826884             6                        2                         614                \n",
       "4   0.784698    0.006017      46                0.326742             9                        10                        1162               \n",
       "23  0.784548    0.006103      34                0.615872             4                        11                        529                \n",
       "31  0.784494    0.005930      32                0.858233             6                        3                         546                "
      ]
     },
     "execution_count": 27,
     "metadata": {},
     "output_type": "execute_result"
    }
   ],
   "source": [
    "results_df = pd.concat([pd.DataFrame({'mean_score': grid_search.cv_results_[\"mean_test_score\"],\n",
    "                                      'st_dev_score': grid_search.cv_results_[\"std_test_score\"]}),\n",
    "          pd.DataFrame(grid_search.cv_results_[\"params\"])],\n",
    "          axis=1)\n",
    "results_df.sort_values(by=['mean_score'], ascending=False).head(10)"
   ]
  },
  {
   "cell_type": "code",
   "execution_count": 28,
   "metadata": {},
   "outputs": [
    {
     "data": {
      "text/plain": [
       "(0.7870297833559529,\n",
       " {'model__max_depth': 96,\n",
       "  'model__max_features': 0.4087148680294206,\n",
       "  'model__min_samples_leaf': 2,\n",
       "  'model__min_samples_split': 16,\n",
       "  'model__n_estimators': 1815})"
      ]
     },
     "execution_count": 28,
     "metadata": {},
     "output_type": "execute_result"
    }
   ],
   "source": [
    "grid_search.best_score_, grid_search.best_params_"
   ]
  },
  {
   "cell_type": "code",
   "execution_count": 43,
   "metadata": {},
   "outputs": [
    {
     "data": {
      "text/plain": [
       "array([ 960.2630389 ,  936.36268913,  764.87400977,  974.46811998,\n",
       "        956.16563482, 1000.        ,  921.22719315,  924.85795474,\n",
       "        935.9993875 ,  912.38111217,  923.96372717,  925.42998558,\n",
       "        931.04983394,  910.46754321,  892.47323306,  927.87185747,\n",
       "        949.22753023,  946.04242859,  906.33019019,  921.72941332,\n",
       "        975.66816017,  319.52466884,  934.16093752,  953.35290576,\n",
       "        960.62072415,  960.73989836,  938.26263856,  478.82928273,\n",
       "        544.8491264 ,  948.74264937,  909.97880899,  952.33875561,\n",
       "        918.2186217 ,  916.91940366,  943.52749423,  898.97679655,\n",
       "        965.45712747,  932.96864205,  948.47164588,  100.        ])"
      ]
     },
     "execution_count": 43,
     "metadata": {},
     "output_type": "execute_result"
    }
   ],
   "source": [
    "rescaled_means = MinMaxScaler(feature_range=(100, 1000)).fit_transform(results_df['mean_score'].values.reshape(-1, 1))\n",
    "rescaled_means = rescaled_means.flatten()  # reshape back to array\n",
    "#rescaled_means"
   ]
  },
  {
   "cell_type": "code",
   "execution_count": 42,
   "metadata": {},
   "outputs": [
    {
     "data": {
      "text/plain": [
       "5"
      ]
     },
     "execution_count": 42,
     "metadata": {},
     "output_type": "execute_result"
    }
   ],
   "source": [
    "np.argmax(rescaled_means)"
   ]
  },
  {
   "cell_type": "code",
   "execution_count": 66,
   "metadata": {},
   "outputs": [],
   "source": [
    "def compare_two_parameters(x_label, y_label):\n",
    "    x = results_df[x_label]\n",
    "    y = results_df[y_label]            \n",
    "            \n",
    "    plt.scatter(x,y,c=rescaled_means, s=rescaled_means, alpha=0.5)\n",
    "    plt.xlabel(x_label)\n",
    "    plt.ylabel(y_label)\n",
    "    index_of_best = np.argmax(rescaled_means)\n",
    "    plt.scatter(x[index_of_best], y[index_of_best], marker= 'x', s=200, color='red')"
   ]
  },
  {
   "cell_type": "code",
   "execution_count": 67,
   "metadata": {},
   "outputs": [
    {
     "data": {
      "image/png": "[encoded data removed]",
      "text/plain": [
       "<Figure size 720x540.135 with 1 Axes>"
      ]
     },
     "metadata": {},
     "output_type": "display_data"
    }
   ],
   "source": [
    "x_label = 'model__max_depth'\n",
    "y_label = 'model__max_features'\n",
    "compare_two_parameters(x_label, y_label)"
   ]
  },
  {
   "cell_type": "code",
   "execution_count": 68,
   "metadata": {},
   "outputs": [
    {
     "data": {
      "text/plain": [
       "(0.7870297833559529,\n",
       " {'model__max_depth': 96,\n",
       "  'model__max_features': 0.4087148680294206,\n",
       "  'model__min_samples_leaf': 2,\n",
       "  'model__min_samples_split': 16,\n",
       "  'model__n_estimators': 1815})"
      ]
     },
     "execution_count": 68,
     "metadata": {},
     "output_type": "execute_result"
    }
   ],
   "source": [
    "grid_search.best_score_, grid_search.best_params_"
   ]
  },
  {
   "cell_type": "code",
   "execution_count": 69,
   "metadata": {},
   "outputs": [
    {
     "data": {
      "image/png": "[encoded data removed]",
      "text/plain": [
       "<Figure size 720x540.135 with 1 Axes>"
      ]
     },
     "metadata": {},
     "output_type": "display_data"
    }
   ],
   "source": [
    "x_label = 'model__max_depth'\n",
    "y_label = 'model__n_estimators'\n",
    "compare_two_parameters(x_label, y_label)"
   ]
  },
  {
   "cell_type": "code",
   "execution_count": 70,
   "metadata": {},
   "outputs": [
    {
     "data": {
      "text/plain": [
       "(0.7870297833559529,\n",
       " {'model__max_depth': 96,\n",
       "  'model__max_features': 0.4087148680294206,\n",
       "  'model__min_samples_leaf': 2,\n",
       "  'model__min_samples_split': 16,\n",
       "  'model__n_estimators': 1815})"
      ]
     },
     "execution_count": 70,
     "metadata": {},
     "output_type": "execute_result"
    }
   ],
   "source": [
    "grid_search.best_score_, grid_search.best_params_"
   ]
  },
  {
   "cell_type": "code",
   "execution_count": 71,
   "metadata": {},
   "outputs": [
    {
     "data": {
      "image/png": "[encoded data removed]",
      "text/plain": [
       "<Figure size 720x540.135 with 1 Axes>"
      ]
     },
     "metadata": {},
     "output_type": "display_data"
    }
   ],
   "source": [
    "x_label = 'model__max_features'\n",
    "y_label = 'model__n_estimators'\n",
    "compare_two_parameters(x_label, y_label)"
   ]
  },
  {
   "cell_type": "code",
   "execution_count": 72,
   "metadata": {},
   "outputs": [
    {
     "data": {
      "text/plain": [
       "(0.7870297833559529,\n",
       " {'model__max_depth': 96,\n",
       "  'model__max_features': 0.4087148680294206,\n",
       "  'model__min_samples_leaf': 2,\n",
       "  'model__min_samples_split': 16,\n",
       "  'model__n_estimators': 1815})"
      ]
     },
     "execution_count": 72,
     "metadata": {},
     "output_type": "execute_result"
    }
   ],
   "source": [
    "grid_search.best_score_, grid_search.best_params_"
   ]
  },
  {
   "cell_type": "markdown",
   "metadata": {},
   "source": [
    "reference:\n",
    "\n",
    "```\n",
    "N = 1000\n",
    "r = range(0, N)\n",
    "x = r\n",
    "y = r\n",
    "colors = r\n",
    "area = r\n",
    "\n",
    "plt.scatter(x, y, s=area, c=colors, alpha=0.5)\n",
    "plt.show()\n",
    "```"
   ]
  },
  {
   "cell_type": "code",
   "execution_count": 39,
   "metadata": {},
   "outputs": [],
   "source": [
    "# column order is based off of the pipeline and FeatureUnion\n",
    "    # cap_gain_loss_pipeline\n",
    "    # num_pipeline\n",
    "    # cat_pipeline\n",
    "features = ['capital-gain', 'capital-loss'] + ['Net Capital'] + ['age', 'education-num', 'hours-per-week'] + one_hot_transformer.encoded_columns\n",
    "importances = grid_search.best_estimator_.steps[1][1].feature_importances_"
   ]
  },
  {
   "cell_type": "code",
   "execution_count": 40,
   "metadata": {},
   "outputs": [
    {
     "data": {
      "text/html": [
       "<div>\n",
       "<style scoped>\n",
       "    .dataframe tbody tr th:only-of-type {\n",
       "        vertical-align: middle;\n",
       "    }\n",
       "\n",
       "    .dataframe tbody tr th {\n",
       "        vertical-align: top;\n",
       "    }\n",
       "\n",
       "    .dataframe thead th {\n",
       "        text-align: right;\n",
       "    }\n",
       "</style>\n",
       "<table border=\"1\" class=\"dataframe\">\n",
       "  <thead>\n",
       "    <tr style=\"text-align: right;\">\n",
       "      <th></th>\n",
       "      <th>feature</th>\n",
       "      <th>importance</th>\n",
       "    </tr>\n",
       "  </thead>\n",
       "  <tbody>\n",
       "    <tr>\n",
       "      <th>31</th>\n",
       "      <td>marital-status_Married-civ-spouse</td>\n",
       "      <td>0.172910</td>\n",
       "    </tr>\n",
       "    <tr>\n",
       "      <th>4</th>\n",
       "      <td>education-num</td>\n",
       "      <td>0.127972</td>\n",
       "    </tr>\n",
       "    <tr>\n",
       "      <th>2</th>\n",
       "      <td>Net Capital</td>\n",
       "      <td>0.121785</td>\n",
       "    </tr>\n",
       "    <tr>\n",
       "      <th>3</th>\n",
       "      <td>age</td>\n",
       "      <td>0.102911</td>\n",
       "    </tr>\n",
       "    <tr>\n",
       "      <th>0</th>\n",
       "      <td>capital-gain</td>\n",
       "      <td>0.091117</td>\n",
       "    </tr>\n",
       "    <tr>\n",
       "      <th>50</th>\n",
       "      <td>relationship_Husband</td>\n",
       "      <td>0.086288</td>\n",
       "    </tr>\n",
       "    <tr>\n",
       "      <th>5</th>\n",
       "      <td>hours-per-week</td>\n",
       "      <td>0.062201</td>\n",
       "    </tr>\n",
       "    <tr>\n",
       "      <th>1</th>\n",
       "      <td>capital-loss</td>\n",
       "      <td>0.029825</td>\n",
       "    </tr>\n",
       "    <tr>\n",
       "      <th>39</th>\n",
       "      <td>occupation_Exec-managerial</td>\n",
       "      <td>0.017801</td>\n",
       "    </tr>\n",
       "    <tr>\n",
       "      <th>55</th>\n",
       "      <td>relationship_Wife</td>\n",
       "      <td>0.014037</td>\n",
       "    </tr>\n",
       "    <tr>\n",
       "      <th>33</th>\n",
       "      <td>marital-status_Never-married</td>\n",
       "      <td>0.013758</td>\n",
       "    </tr>\n",
       "    <tr>\n",
       "      <th>45</th>\n",
       "      <td>occupation_Prof-specialty</td>\n",
       "      <td>0.012656</td>\n",
       "    </tr>\n",
       "    <tr>\n",
       "      <th>22</th>\n",
       "      <td>education_level_Bachelors</td>\n",
       "      <td>0.009731</td>\n",
       "    </tr>\n",
       "    <tr>\n",
       "      <th>10</th>\n",
       "      <td>workclass_Self-emp-not-inc</td>\n",
       "      <td>0.009484</td>\n",
       "    </tr>\n",
       "    <tr>\n",
       "      <th>8</th>\n",
       "      <td>workclass_Private</td>\n",
       "      <td>0.007804</td>\n",
       "    </tr>\n",
       "    <tr>\n",
       "      <th>47</th>\n",
       "      <td>occupation_Sales</td>\n",
       "      <td>0.006089</td>\n",
       "    </tr>\n",
       "    <tr>\n",
       "      <th>43</th>\n",
       "      <td>occupation_Other-service</td>\n",
       "      <td>0.005887</td>\n",
       "    </tr>\n",
       "    <tr>\n",
       "      <th>101</th>\n",
       "      <td>native-country_United-States</td>\n",
       "      <td>0.005445</td>\n",
       "    </tr>\n",
       "    <tr>\n",
       "      <th>60</th>\n",
       "      <td>race_White</td>\n",
       "      <td>0.005074</td>\n",
       "    </tr>\n",
       "    <tr>\n",
       "      <th>38</th>\n",
       "      <td>occupation_Craft-repair</td>\n",
       "      <td>0.005019</td>\n",
       "    </tr>\n",
       "  </tbody>\n",
       "</table>\n",
       "</div>"
      ],
      "text/plain": [
       "                               feature  importance\n",
       "31   marital-status_Married-civ-spouse  0.172910  \n",
       "4    education-num                      0.127972  \n",
       "2    Net Capital                        0.121785  \n",
       "3    age                                0.102911  \n",
       "0    capital-gain                       0.091117  \n",
       "50   relationship_Husband               0.086288  \n",
       "5    hours-per-week                     0.062201  \n",
       "1    capital-loss                       0.029825  \n",
       "39   occupation_Exec-managerial         0.017801  \n",
       "55   relationship_Wife                  0.014037  \n",
       "33   marital-status_Never-married       0.013758  \n",
       "45   occupation_Prof-specialty          0.012656  \n",
       "22   education_level_Bachelors          0.009731  \n",
       "10   workclass_Self-emp-not-inc         0.009484  \n",
       "8    workclass_Private                  0.007804  \n",
       "47   occupation_Sales                   0.006089  \n",
       "43   occupation_Other-service           0.005887  \n",
       "101  native-country_United-States       0.005445  \n",
       "60   race_White                         0.005074  \n",
       "38   occupation_Craft-repair            0.005019  "
      ]
     },
     "execution_count": 40,
     "metadata": {},
     "output_type": "execute_result"
    }
   ],
   "source": [
    "import pandas as pd\n",
    "pd.DataFrame({'feature': features, 'importance': importances}).sort_values(by=['importance'], ascending=False).head(20)"
   ]
  },
  {
   "cell_type": "code",
   "execution_count": null,
   "metadata": {},
   "outputs": [],
   "source": []
  }
 ],
 "metadata": {
  "kernelspec": {
   "display_name": "Python [default]",
   "language": "python",
   "name": "python3"
  },
  "language_info": {
   "codemirror_mode": {
    "name": "ipython",
    "version": 3
   },
   "file_extension": ".py",
   "mimetype": "text/x-python",
   "name": "python",
   "nbconvert_exporter": "python",
   "pygments_lexer": "ipython3",
   "version": "3.6.5"
  }
 },
 "nbformat": 4,
 "nbformat_minor": 2
}
